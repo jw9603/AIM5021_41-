{
  "nbformat": 4,
  "nbformat_minor": 0,
  "metadata": {
    "colab": {
      "provenance": [],
      "collapsed_sections": [],
      "authorship_tag": "ABX9TyOGM6kfThziH2fidGwaVRAm",
      "include_colab_link": true
    },
    "kernelspec": {
      "name": "python3",
      "display_name": "Python 3"
    },
    "language_info": {
      "name": "python"
    }
  },
  "cells": [
    {
      "cell_type": "markdown",
      "metadata": {
        "id": "view-in-github",
        "colab_type": "text"
      },
      "source": [
        "<a href=\"https://colab.research.google.com/github/jw9603/AIM5021_41-/blob/main/7thweek.ipynb\" target=\"_parent\"><img src=\"https://colab.research.google.com/assets/colab-badge.svg\" alt=\"Open In Colab\"/></a>"
      ]
    },
    {
      "cell_type": "code",
      "source": [
        "import nltk\n",
        "nltk.download('all')"
      ],
      "metadata": {
        "id": "MUHmqXYpj97X",
        "colab": {
          "base_uri": "https://localhost:8080/"
        },
        "outputId": "a34352ab-4c35-45ce-a434-8cba49678c22"
      },
      "execution_count": 2,
      "outputs": [
        {
          "output_type": "stream",
          "name": "stderr",
          "text": [
            "[nltk_data] Downloading collection 'all'\n",
            "[nltk_data]    | \n",
            "[nltk_data]    | Downloading package abc to /root/nltk_data...\n",
            "[nltk_data]    |   Unzipping corpora/abc.zip.\n",
            "[nltk_data]    | Downloading package alpino to /root/nltk_data...\n",
            "[nltk_data]    |   Unzipping corpora/alpino.zip.\n",
            "[nltk_data]    | Downloading package averaged_perceptron_tagger to\n",
            "[nltk_data]    |     /root/nltk_data...\n",
            "[nltk_data]    |   Unzipping taggers/averaged_perceptron_tagger.zip.\n",
            "[nltk_data]    | Downloading package averaged_perceptron_tagger_ru to\n",
            "[nltk_data]    |     /root/nltk_data...\n",
            "[nltk_data]    |   Unzipping\n",
            "[nltk_data]    |       taggers/averaged_perceptron_tagger_ru.zip.\n",
            "[nltk_data]    | Downloading package basque_grammars to\n",
            "[nltk_data]    |     /root/nltk_data...\n",
            "[nltk_data]    |   Unzipping grammars/basque_grammars.zip.\n",
            "[nltk_data]    | Downloading package biocreative_ppi to\n",
            "[nltk_data]    |     /root/nltk_data...\n",
            "[nltk_data]    |   Unzipping corpora/biocreative_ppi.zip.\n",
            "[nltk_data]    | Downloading package bllip_wsj_no_aux to\n",
            "[nltk_data]    |     /root/nltk_data...\n",
            "[nltk_data]    |   Unzipping models/bllip_wsj_no_aux.zip.\n",
            "[nltk_data]    | Downloading package book_grammars to\n",
            "[nltk_data]    |     /root/nltk_data...\n",
            "[nltk_data]    |   Unzipping grammars/book_grammars.zip.\n",
            "[nltk_data]    | Downloading package brown to /root/nltk_data...\n",
            "[nltk_data]    |   Unzipping corpora/brown.zip.\n",
            "[nltk_data]    | Downloading package brown_tei to /root/nltk_data...\n",
            "[nltk_data]    |   Unzipping corpora/brown_tei.zip.\n",
            "[nltk_data]    | Downloading package cess_cat to /root/nltk_data...\n",
            "[nltk_data]    |   Unzipping corpora/cess_cat.zip.\n",
            "[nltk_data]    | Downloading package cess_esp to /root/nltk_data...\n",
            "[nltk_data]    |   Unzipping corpora/cess_esp.zip.\n",
            "[nltk_data]    | Downloading package chat80 to /root/nltk_data...\n",
            "[nltk_data]    |   Unzipping corpora/chat80.zip.\n",
            "[nltk_data]    | Downloading package city_database to\n",
            "[nltk_data]    |     /root/nltk_data...\n",
            "[nltk_data]    |   Unzipping corpora/city_database.zip.\n",
            "[nltk_data]    | Downloading package cmudict to /root/nltk_data...\n",
            "[nltk_data]    |   Unzipping corpora/cmudict.zip.\n",
            "[nltk_data]    | Downloading package comparative_sentences to\n",
            "[nltk_data]    |     /root/nltk_data...\n",
            "[nltk_data]    |   Unzipping corpora/comparative_sentences.zip.\n",
            "[nltk_data]    | Downloading package comtrans to /root/nltk_data...\n",
            "[nltk_data]    | Downloading package conll2000 to /root/nltk_data...\n",
            "[nltk_data]    |   Unzipping corpora/conll2000.zip.\n",
            "[nltk_data]    | Downloading package conll2002 to /root/nltk_data...\n",
            "[nltk_data]    |   Unzipping corpora/conll2002.zip.\n",
            "[nltk_data]    | Downloading package conll2007 to /root/nltk_data...\n",
            "[nltk_data]    | Downloading package crubadan to /root/nltk_data...\n",
            "[nltk_data]    |   Unzipping corpora/crubadan.zip.\n",
            "[nltk_data]    | Downloading package dependency_treebank to\n",
            "[nltk_data]    |     /root/nltk_data...\n",
            "[nltk_data]    |   Unzipping corpora/dependency_treebank.zip.\n",
            "[nltk_data]    | Downloading package dolch to /root/nltk_data...\n",
            "[nltk_data]    |   Unzipping corpora/dolch.zip.\n",
            "[nltk_data]    | Downloading package europarl_raw to\n",
            "[nltk_data]    |     /root/nltk_data...\n",
            "[nltk_data]    |   Unzipping corpora/europarl_raw.zip.\n",
            "[nltk_data]    | Downloading package extended_omw to\n",
            "[nltk_data]    |     /root/nltk_data...\n",
            "[nltk_data]    | Downloading package floresta to /root/nltk_data...\n",
            "[nltk_data]    |   Unzipping corpora/floresta.zip.\n",
            "[nltk_data]    | Downloading package framenet_v15 to\n",
            "[nltk_data]    |     /root/nltk_data...\n",
            "[nltk_data]    |   Unzipping corpora/framenet_v15.zip.\n",
            "[nltk_data]    | Downloading package framenet_v17 to\n",
            "[nltk_data]    |     /root/nltk_data...\n",
            "[nltk_data]    |   Unzipping corpora/framenet_v17.zip.\n",
            "[nltk_data]    | Downloading package gazetteers to /root/nltk_data...\n",
            "[nltk_data]    |   Unzipping corpora/gazetteers.zip.\n",
            "[nltk_data]    | Downloading package genesis to /root/nltk_data...\n",
            "[nltk_data]    |   Unzipping corpora/genesis.zip.\n",
            "[nltk_data]    | Downloading package gutenberg to /root/nltk_data...\n",
            "[nltk_data]    |   Unzipping corpora/gutenberg.zip.\n",
            "[nltk_data]    | Downloading package ieer to /root/nltk_data...\n",
            "[nltk_data]    |   Unzipping corpora/ieer.zip.\n",
            "[nltk_data]    | Downloading package inaugural to /root/nltk_data...\n",
            "[nltk_data]    |   Unzipping corpora/inaugural.zip.\n",
            "[nltk_data]    | Downloading package indian to /root/nltk_data...\n",
            "[nltk_data]    |   Unzipping corpora/indian.zip.\n",
            "[nltk_data]    | Downloading package jeita to /root/nltk_data...\n",
            "[nltk_data]    | Downloading package kimmo to /root/nltk_data...\n",
            "[nltk_data]    |   Unzipping corpora/kimmo.zip.\n",
            "[nltk_data]    | Downloading package knbc to /root/nltk_data...\n",
            "[nltk_data]    | Downloading package large_grammars to\n",
            "[nltk_data]    |     /root/nltk_data...\n",
            "[nltk_data]    |   Unzipping grammars/large_grammars.zip.\n",
            "[nltk_data]    | Downloading package lin_thesaurus to\n",
            "[nltk_data]    |     /root/nltk_data...\n",
            "[nltk_data]    |   Unzipping corpora/lin_thesaurus.zip.\n",
            "[nltk_data]    | Downloading package mac_morpho to /root/nltk_data...\n",
            "[nltk_data]    |   Unzipping corpora/mac_morpho.zip.\n",
            "[nltk_data]    | Downloading package machado to /root/nltk_data...\n",
            "[nltk_data]    | Downloading package masc_tagged to /root/nltk_data...\n",
            "[nltk_data]    | Downloading package maxent_ne_chunker to\n",
            "[nltk_data]    |     /root/nltk_data...\n",
            "[nltk_data]    |   Unzipping chunkers/maxent_ne_chunker.zip.\n",
            "[nltk_data]    | Downloading package maxent_treebank_pos_tagger to\n",
            "[nltk_data]    |     /root/nltk_data...\n",
            "[nltk_data]    |   Unzipping taggers/maxent_treebank_pos_tagger.zip.\n",
            "[nltk_data]    | Downloading package moses_sample to\n",
            "[nltk_data]    |     /root/nltk_data...\n",
            "[nltk_data]    |   Unzipping models/moses_sample.zip.\n",
            "[nltk_data]    | Downloading package movie_reviews to\n",
            "[nltk_data]    |     /root/nltk_data...\n",
            "[nltk_data]    |   Unzipping corpora/movie_reviews.zip.\n",
            "[nltk_data]    | Downloading package mte_teip5 to /root/nltk_data...\n",
            "[nltk_data]    |   Unzipping corpora/mte_teip5.zip.\n",
            "[nltk_data]    | Downloading package mwa_ppdb to /root/nltk_data...\n",
            "[nltk_data]    |   Unzipping misc/mwa_ppdb.zip.\n",
            "[nltk_data]    | Downloading package names to /root/nltk_data...\n",
            "[nltk_data]    |   Unzipping corpora/names.zip.\n",
            "[nltk_data]    | Downloading package nombank.1.0 to /root/nltk_data...\n",
            "[nltk_data]    | Downloading package nonbreaking_prefixes to\n",
            "[nltk_data]    |     /root/nltk_data...\n",
            "[nltk_data]    |   Unzipping corpora/nonbreaking_prefixes.zip.\n",
            "[nltk_data]    | Downloading package nps_chat to /root/nltk_data...\n",
            "[nltk_data]    |   Unzipping corpora/nps_chat.zip.\n",
            "[nltk_data]    | Downloading package omw to /root/nltk_data...\n",
            "[nltk_data]    | Downloading package omw-1.4 to /root/nltk_data...\n",
            "[nltk_data]    | Downloading package opinion_lexicon to\n",
            "[nltk_data]    |     /root/nltk_data...\n",
            "[nltk_data]    |   Unzipping corpora/opinion_lexicon.zip.\n",
            "[nltk_data]    | Downloading package panlex_swadesh to\n",
            "[nltk_data]    |     /root/nltk_data...\n",
            "[nltk_data]    | Downloading package paradigms to /root/nltk_data...\n",
            "[nltk_data]    |   Unzipping corpora/paradigms.zip.\n",
            "[nltk_data]    | Downloading package pe08 to /root/nltk_data...\n",
            "[nltk_data]    |   Unzipping corpora/pe08.zip.\n",
            "[nltk_data]    | Downloading package perluniprops to\n",
            "[nltk_data]    |     /root/nltk_data...\n",
            "[nltk_data]    |   Unzipping misc/perluniprops.zip.\n",
            "[nltk_data]    | Downloading package pil to /root/nltk_data...\n",
            "[nltk_data]    |   Unzipping corpora/pil.zip.\n",
            "[nltk_data]    | Downloading package pl196x to /root/nltk_data...\n",
            "[nltk_data]    |   Unzipping corpora/pl196x.zip.\n",
            "[nltk_data]    | Downloading package porter_test to /root/nltk_data...\n",
            "[nltk_data]    |   Unzipping stemmers/porter_test.zip.\n",
            "[nltk_data]    | Downloading package ppattach to /root/nltk_data...\n",
            "[nltk_data]    |   Unzipping corpora/ppattach.zip.\n",
            "[nltk_data]    | Downloading package problem_reports to\n",
            "[nltk_data]    |     /root/nltk_data...\n",
            "[nltk_data]    |   Unzipping corpora/problem_reports.zip.\n",
            "[nltk_data]    | Downloading package product_reviews_1 to\n",
            "[nltk_data]    |     /root/nltk_data...\n",
            "[nltk_data]    |   Unzipping corpora/product_reviews_1.zip.\n",
            "[nltk_data]    | Downloading package product_reviews_2 to\n",
            "[nltk_data]    |     /root/nltk_data...\n",
            "[nltk_data]    |   Unzipping corpora/product_reviews_2.zip.\n",
            "[nltk_data]    | Downloading package propbank to /root/nltk_data...\n",
            "[nltk_data]    | Downloading package pros_cons to /root/nltk_data...\n",
            "[nltk_data]    |   Unzipping corpora/pros_cons.zip.\n",
            "[nltk_data]    | Downloading package ptb to /root/nltk_data...\n",
            "[nltk_data]    |   Unzipping corpora/ptb.zip.\n",
            "[nltk_data]    | Downloading package punkt to /root/nltk_data...\n",
            "[nltk_data]    |   Unzipping tokenizers/punkt.zip.\n",
            "[nltk_data]    | Downloading package qc to /root/nltk_data...\n",
            "[nltk_data]    |   Unzipping corpora/qc.zip.\n",
            "[nltk_data]    | Downloading package reuters to /root/nltk_data...\n",
            "[nltk_data]    | Downloading package rslp to /root/nltk_data...\n",
            "[nltk_data]    |   Unzipping stemmers/rslp.zip.\n",
            "[nltk_data]    | Downloading package rte to /root/nltk_data...\n",
            "[nltk_data]    |   Unzipping corpora/rte.zip.\n",
            "[nltk_data]    | Downloading package sample_grammars to\n",
            "[nltk_data]    |     /root/nltk_data...\n",
            "[nltk_data]    |   Unzipping grammars/sample_grammars.zip.\n",
            "[nltk_data]    | Downloading package semcor to /root/nltk_data...\n",
            "[nltk_data]    | Downloading package senseval to /root/nltk_data...\n",
            "[nltk_data]    |   Unzipping corpora/senseval.zip.\n",
            "[nltk_data]    | Downloading package sentence_polarity to\n",
            "[nltk_data]    |     /root/nltk_data...\n",
            "[nltk_data]    |   Unzipping corpora/sentence_polarity.zip.\n",
            "[nltk_data]    | Downloading package sentiwordnet to\n",
            "[nltk_data]    |     /root/nltk_data...\n",
            "[nltk_data]    |   Unzipping corpora/sentiwordnet.zip.\n",
            "[nltk_data]    | Downloading package shakespeare to /root/nltk_data...\n",
            "[nltk_data]    |   Unzipping corpora/shakespeare.zip.\n",
            "[nltk_data]    | Downloading package sinica_treebank to\n",
            "[nltk_data]    |     /root/nltk_data...\n",
            "[nltk_data]    |   Unzipping corpora/sinica_treebank.zip.\n",
            "[nltk_data]    | Downloading package smultron to /root/nltk_data...\n",
            "[nltk_data]    |   Unzipping corpora/smultron.zip.\n",
            "[nltk_data]    | Downloading package snowball_data to\n",
            "[nltk_data]    |     /root/nltk_data...\n",
            "[nltk_data]    | Downloading package spanish_grammars to\n",
            "[nltk_data]    |     /root/nltk_data...\n",
            "[nltk_data]    |   Unzipping grammars/spanish_grammars.zip.\n",
            "[nltk_data]    | Downloading package state_union to /root/nltk_data...\n",
            "[nltk_data]    |   Unzipping corpora/state_union.zip.\n",
            "[nltk_data]    | Downloading package stopwords to /root/nltk_data...\n",
            "[nltk_data]    |   Unzipping corpora/stopwords.zip.\n",
            "[nltk_data]    | Downloading package subjectivity to\n",
            "[nltk_data]    |     /root/nltk_data...\n",
            "[nltk_data]    |   Unzipping corpora/subjectivity.zip.\n",
            "[nltk_data]    | Downloading package swadesh to /root/nltk_data...\n",
            "[nltk_data]    |   Unzipping corpora/swadesh.zip.\n",
            "[nltk_data]    | Downloading package switchboard to /root/nltk_data...\n",
            "[nltk_data]    |   Unzipping corpora/switchboard.zip.\n",
            "[nltk_data]    | Downloading package tagsets to /root/nltk_data...\n",
            "[nltk_data]    |   Unzipping help/tagsets.zip.\n",
            "[nltk_data]    | Downloading package timit to /root/nltk_data...\n",
            "[nltk_data]    |   Unzipping corpora/timit.zip.\n",
            "[nltk_data]    | Downloading package toolbox to /root/nltk_data...\n",
            "[nltk_data]    |   Unzipping corpora/toolbox.zip.\n",
            "[nltk_data]    | Downloading package treebank to /root/nltk_data...\n",
            "[nltk_data]    |   Unzipping corpora/treebank.zip.\n",
            "[nltk_data]    | Downloading package twitter_samples to\n",
            "[nltk_data]    |     /root/nltk_data...\n",
            "[nltk_data]    |   Unzipping corpora/twitter_samples.zip.\n",
            "[nltk_data]    | Downloading package udhr to /root/nltk_data...\n",
            "[nltk_data]    |   Unzipping corpora/udhr.zip.\n",
            "[nltk_data]    | Downloading package udhr2 to /root/nltk_data...\n",
            "[nltk_data]    |   Unzipping corpora/udhr2.zip.\n",
            "[nltk_data]    | Downloading package unicode_samples to\n",
            "[nltk_data]    |     /root/nltk_data...\n",
            "[nltk_data]    |   Unzipping corpora/unicode_samples.zip.\n",
            "[nltk_data]    | Downloading package universal_tagset to\n",
            "[nltk_data]    |     /root/nltk_data...\n",
            "[nltk_data]    |   Unzipping taggers/universal_tagset.zip.\n",
            "[nltk_data]    | Downloading package universal_treebanks_v20 to\n",
            "[nltk_data]    |     /root/nltk_data...\n",
            "[nltk_data]    | Downloading package vader_lexicon to\n",
            "[nltk_data]    |     /root/nltk_data...\n",
            "[nltk_data]    | Downloading package verbnet to /root/nltk_data...\n",
            "[nltk_data]    |   Unzipping corpora/verbnet.zip.\n",
            "[nltk_data]    | Downloading package verbnet3 to /root/nltk_data...\n",
            "[nltk_data]    |   Unzipping corpora/verbnet3.zip.\n",
            "[nltk_data]    | Downloading package webtext to /root/nltk_data...\n",
            "[nltk_data]    |   Unzipping corpora/webtext.zip.\n",
            "[nltk_data]    | Downloading package wmt15_eval to /root/nltk_data...\n",
            "[nltk_data]    |   Unzipping models/wmt15_eval.zip.\n",
            "[nltk_data]    | Downloading package word2vec_sample to\n",
            "[nltk_data]    |     /root/nltk_data...\n",
            "[nltk_data]    |   Unzipping models/word2vec_sample.zip.\n",
            "[nltk_data]    | Downloading package wordnet to /root/nltk_data...\n",
            "[nltk_data]    | Downloading package wordnet2021 to /root/nltk_data...\n",
            "[nltk_data]    | Downloading package wordnet31 to /root/nltk_data...\n",
            "[nltk_data]    | Downloading package wordnet_ic to /root/nltk_data...\n",
            "[nltk_data]    |   Unzipping corpora/wordnet_ic.zip.\n",
            "[nltk_data]    | Downloading package words to /root/nltk_data...\n",
            "[nltk_data]    |   Unzipping corpora/words.zip.\n",
            "[nltk_data]    | Downloading package ycoe to /root/nltk_data...\n",
            "[nltk_data]    |   Unzipping corpora/ycoe.zip.\n",
            "[nltk_data]    | \n",
            "[nltk_data]  Done downloading collection all\n"
          ]
        },
        {
          "output_type": "execute_result",
          "data": {
            "text/plain": [
              "True"
            ]
          },
          "metadata": {},
          "execution_count": 2
        }
      ]
    },
    {
      "cell_type": "code",
      "source": [
        "import numpy as np"
      ],
      "metadata": {
        "id": "F2Mfkw89kdQD"
      },
      "execution_count": 3,
      "outputs": []
    },
    {
      "cell_type": "markdown",
      "source": [
        "- Assume you have some TF-IDF vector for a\n",
        "particular document and you want to\n",
        "convert that to a topic vector -- how much\n",
        "each word contributes to your topics\n",
        "- Create three topics: petness, animalness,\n",
        "and cityness\n",
        "- “petness” topic will score words like “cat”\n",
        "and “dog” significantly, but probably ignore\n",
        "words like “NYC” and “apple.”\n",
        "- If you “trained” your topic model like this,\n",
        "without using a computer, only your\n",
        "common sense, you might come up with\n",
        "some weights like this:"
      ],
      "metadata": {
        "id": "7prGDClJlHmd"
      }
    },
    {
      "cell_type": "code",
      "execution_count": 4,
      "metadata": {
        "colab": {
          "base_uri": "https://localhost:8080/"
        },
        "id": "AwvMPkuejgiA",
        "outputId": "5174f30c-f9ac-4aac-9e2e-0bff2e70569f"
      },
      "outputs": [
        {
          "output_type": "stream",
          "name": "stdout",
          "text": [
            "{'cat': 0.5711725924602716, 'dog': 0.6015235083944895, 'apple': 0.7404687704598573, 'lion': 0.7649017527560855, 'NYC': 0.4414951073659238, 'love': 0.17327798446526066}\n"
          ]
        }
      ],
      "source": [
        "topic = {}\n",
        "tfidf = dict(list(zip('cat dog apple lion NYC love'.split(),np.random.rand(6))))\n",
        "print(tfidf)\n",
        "topic['petness'] = (.3 * tfidf['cat'] +\\\n",
        ".3 * tfidf['dog'] +\\\n",
        "0 * tfidf['apple'] +\\\n",
        "0 * tfidf['lion'] -\\\n",
        ".2 * tfidf['NYC'] +\\\n",
        ".2 * tfidf['love'])\n",
        "topic['animalness'] = (.1 * tfidf['cat'] +\\\n",
        ".1 * tfidf['dog'] -\\\n",
        ".1 * tfidf['apple'] +\\\n",
        ".5 * tfidf['lion'] +\\\n",
        ".1 * tfidf['NYC'] -\\\n",
        ".1 * tfidf['love'])\n",
        "topic['cityness'] = ( 0 * tfidf['cat'] -\\\n",
        ".1 * tfidf['dog'] +\\\n",
        ".2 * tfidf['apple'] -\\\n",
        ".1 * tfidf['lion'] +\\\n",
        ".5 * tfidf['NYC'] +\\\n",
        ".1 * tfidf['love'])\n"
      ]
    },
    {
      "cell_type": "code",
      "source": [
        " print(topic)"
      ],
      "metadata": {
        "colab": {
          "base_uri": "https://localhost:8080/"
        },
        "id": "dDnckbaIkeqV",
        "outputId": "6f65f302-f7c5-4b31-b85d-efd49cafd443"
      },
      "execution_count": 5,
      "outputs": [
        {
          "output_type": "stream",
          "name": "stdout",
          "text": [
            "{'petness': 0.29816540567629574, 'animalness': 0.45249532170759954, 'cityness': 0.2495265801064019}\n"
          ]
        }
      ]
    },
    {
      "cell_type": "code",
      "source": [
        "word_vector = {}\n",
        "word_vector['cat'] = .3*topic['petness'] +\\\n",
        ".1*topic['animalness'] +\\\n",
        "0*topic['cityness']\n",
        "word_vector['dog'] = .3*topic['petness'] +\\\n",
        ".1*topic['animalness'] -\\\n",
        ".1*topic['cityness']\n",
        "word_vector['apple']= 0*topic['petness'] -\\\n",
        ".1*topic['animalness'] +\\\n",
        ".2*topic['cityness']\n",
        "word_vector['lion'] = 0*topic['petness'] +\\\n",
        ".5*topic['animalness'] -\\\n",
        ".1*topic['cityness']\n",
        "word_vector['NYC'] = -.2*topic['petness'] +\\\n",
        ".1*topic['animalness'] +\\\n",
        ".5*topic['cityness']\n",
        "word_vector['love'] = .2*topic['petness'] -\\\n",
        ".1*topic['animalness'] +\\\n",
        ".1*topic['cityness']\n",
        "print(word_vector)"
      ],
      "metadata": {
        "colab": {
          "base_uri": "https://localhost:8080/"
        },
        "id": "qT7rHJPUkt77",
        "outputId": "f2f6d408-ad5e-4f48-c8a5-4ec0fd455e7d"
      },
      "execution_count": 6,
      "outputs": [
        {
          "output_type": "stream",
          "name": "stdout",
          "text": [
            "{'cat': 0.13469915387364867, 'dog': 0.10974649586300847, 'apple': 0.0046557838505204285, 'lion': 0.20129500284315957, 'NYC': 0.11037974108870177, 'love': 0.039336206975139384}\n"
          ]
        }
      ]
    },
    {
      "cell_type": "markdown",
      "source": [
        "![image.png](data:image/png;base64,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)\n",
        "\n",
        "reference : https://www.datacamp.com/tutorial/discovering-hidden-topics-python"
      ],
      "metadata": {
        "id": "81FY8BpwnYqy"
      }
    },
    {
      "cell_type": "markdown",
      "source": [
        "### Topic Modeling Algorithms\n",
        "- LSA (Latent Semantic Analysis)\n",
        "- PCA (Principle Component Analysis)\n",
        "- LDiA (Latent Dirichlet allocation)"
      ],
      "metadata": {
        "id": "js8dvos0ooUd"
      }
    },
    {
      "cell_type": "markdown",
      "source": [
        "#### LSA (Latent Semantic Analysis)\n",
        "- Uses SVD (Singular Value Decomposition) to find the combinations of words that are responsible,\n",
        "together, for the biggest variation in the data\n",
        "- Rotate TF-IDF vectors so that the new dimensions (basis vectors, topic vectors) of the rotated\n",
        "vectors all align with these maximum variance directions\n",
        "- Each of the dimensions (axes) becomes a combination of word frequencies rather than a single\n",
        "word frequency - the weighted combinations of words that make up “topics” used throughout the\n",
        "corpus\n",
        "- Like the “IDF” part of TF-IDF, it tells which dimensions in the vector are important to the semantics of\n",
        "the documents\n",
        "- SVD reorders the words and topics, to put as much of the “weight” as possible along the diagonal\n",
        "(https://topicmodels.west.uni-koblenz.de/ckling/tmt/svd_ap.html)\n",
        "- This helps identify patterns that represent the meanings of both the topics and the words\n",
        "- Algorithm should create a matrix of n terms X m topics that you can multiply by a vector of the word\n",
        "frequencies in a document to get your new topic vector for that document\n",
        "- We can discard those dimensions (topics) that have the least amount of variance between\n",
        "documents; These low-variance topics are usually noise\n",
        "- If every document has roughly the same amount of some topic and that topic doesn’t help tell the\n",
        "documents apart, then we can get rid of it\n",
        "- LSA compresses more meaning into fewer dimensions. We only have to retain the high-variance\n",
        "dimensions, the major topics that your corpus talks about in a variety of ways (with high variance).\n",
        "And each of these dimensions becomes your “topics,” with some weighted combination of all the\n",
        "words captured in each one"
      ],
      "metadata": {
        "id": "q9W44yRXpFam"
      }
    },
    {
      "cell_type": "markdown",
      "source": [
        "기존의 DTM이나 DTM에 단어의 중요도에 따른 가중치를 주었던 TF-IDF 행렬은 단어의 의미를 전혀 고려하지 못한다는 단점을 갖고 있었습니다. LSA는 기본적으로 DTM이나 TF-IDF 행렬에 절단된 SVD(truncated SVD)를 사용하여 차원을 축소시키고, 단어들의 잠재적인 의미를 끌어낸다는 아이디어를 갖고 있습니다. \n",
        "![image.png](data:image/png;base64,iVBORw0KGgoAAAANSUhEUgAAAw0AAAE2CAYAAAAjw36nAAABWGlDQ1BJQ0MgUHJvZmlsZQAAKJFtkM9KAmEUxX+WIUlEhBBBgYuCECsZi5aRLiJqIWVQ7cbJVFD7mtHKeoPoAVoUuOgBXLSpVRCB+yAK2rTpBQIJTKY7Wdm/Dy7nx+Fwv8uBNreuVNYN5PIFc3E24l9ZXfN7nvDSj49hhnTDUjOx2IJE+NSfr3aLy9GbUWfXQWj66mG+vrdfKZa3K8elv/kfz7uetAzRV5mAocwCuEaEYzsF5fCusM+Uo4QPHU41uexwosln75n4YlS4KtxjpPV14TvhYOKbn/rGuWzR+LjBub4rmV9eEu2WGSCOxhQRwkwSkm7+z068Z6NsoihhkiFFmgJ+ZsRRZEkKz5HHYIygsCbbNDSn49/dtbzEo6zelq+CLS9zDecWdB61vMA49PZBNaN0U/9q1FVzWxthrcldJnS82PbzIHguoGHadv3Ethun0H4Pl1tvfc9iKrdew2gAAAA4ZVhJZk1NACoAAAAIAAGHaQAEAAAAAQAAABoAAAAAAAKgAgAEAAAAAQAAAw2gAwAEAAAAAQAAATYAAAAAfSm9xAAAQABJREFUeAHtnQe4HMWVto+EWEQGgSSSQORLzjJckkEiChN2ESwiLMGAyVEgELBkG4yNWAwLEmEBiyiziGxgMVGwIiOCSCJnIZNhSfP3V/7r0nduT89MT+zu9zzPvTPTVdVd563u6jpVp6p6FQIxBAIQgAAEIAABCEAAAhCAQAkCvUsc5zAEIAABCEAAAhCAAAQgAAFHAKOBGwECEIAABCAAAQhAAAIQiCWA0RCLh0AIQAACEIAABCAAAQhAAKOBewACEIAABCAAAQhAAAIQiCWA0RCLh0AIQAACEIAABCAAAQhAAKOBewACEIAABCAAAQhAAAIQiCWA0RCLh0AIQAACEIAABCAAAQhAAKOBewACEIAABCAAAQhAAAIQiCWA0RCLh0AIQAACEIAABCAAAQhAAKOBewACEIAABCAAAQhAAAIQiCWA0RCLh0AIQAACEIAABCAAAQhAAKOBewACEIAABCAAAQhAAAIQiCWA0RCLh0AIQAACEIAABCAAAQhAAKOBewACEIAABCAAAQhAAAIQiCWA0RCLh0AIQAACEIAABCAAAQhAAKOBewACEIAABCAAAQhAAAIQiCWA0RCLh0AIQAACEIAABCAAAQhAAKOBewACEIAABCAAAQhAAAIQiCWA0RCLh0AIQAACEIAABCAAAQhAAKOBewACEIAABCAAAQhAAAIQiCXQJzY0InDy5MkRRzkURaBfv342c+bMqCCOVUAg7/zyrL90l+T1+clz2VdQNZSNknd+edafuoN2R9kKokyEzs7OMjHyG9yrEEg16stoAGhlxKZNm2YdHR2VRSZWDwJ555dn/aW7JK/PT57LvkdFkOBA3vnlWX/qDtodCaqMriS0cbtQRH7BPSkSCwchAAEIQAACEIAABCAAAU8Ao8GT4BMCEIAABCAAAQhAAAIQiCSA0RCJhYMQgAAEIAABCEAAAhCAgCeA0eBJ8AkBCEAAAhCAAAQgAAEIRBLAaIjEwkEIQAACEIAABCAAAQhAwBPAaPAk+IQABCAAAQhAAAIQgAAEIglgNERi4SAEIAABCEAAAhCAAAQg4AlgNHgSfEIAAhCAAAQgAAEIQAACkQQwGiKxcBACEIAABCAAAQhAAAIQ8AQwGjwJPiEAAQhAAAIQgAAEIACBSAIYDZFYOAgBCEAAAhCAAAQgAAEIeAIYDZ4EnxCAAAQgAAEIQAACEIBAJAGMhkgsHIQABCAAAQhAAAIQgAAEPAGMBk+CTwhAAAIQgAAEIAABCEAgkgBGQyQWDkIAAhCAAAQgAAEIQAACnkAf/4XPdBP49ttv7amnnnJKrLvuutarV6+qFZo5c6a99NJL1rdvX1tjjTWqTv/jjz/alClTXLq11lrL/umf/qnqc7QywRtvvGHvv/++DRgwwJZeeulWZiV11/7kk0/s5ZdfTnzvtFrhtN+7tfDzZTfbbLPZmmuuWfWpvv/+e3v88cddurXXXttmnXXWqs+hukt12HLLLWcLLLBA1elbmaDWelN5f+KJJ+y7776zFVZYweabb75WqpPo2s8++6x99dVXrt5U/Zkn8eWf9PnJE6tiXcN1h+oeMUTamwBGQ3uXT8W5e+edd6yzs9PF/+abb1zjLZz4iy++sAkTJthzzz3nDq+yyiq266672lxzzdUV7YEHHrAddtjBVfyvvvpq1/Hwl0KhYD/88ENkw0DX8Hl4++23bbHFFgsnbcl3GQEXXnhhyWv/8pe/tKFDh7rwsWPH2nnnnWf77LOPXXLJJSXT5Cng888/d42ZKJ1nmWUWm3/++V3Q3/72NxsxYkTsvRN1jkYfe+2110peYo455rCFF17YhbfjvVsy43UO8GW3+OKL25tvvln12WfMmNH13Ot5W2ihhao+x7/+6786o/Oaa64xfU+TVFJvltNnu+22s3fffdfuuOMO23LLLctFb3r4008/bZdffrl7X5xxxhk9rr/HHnvYM888Y5dddpnttddePcJ14Mknn7RHH33U3nvvPfv0009t4MCB7h2x+eab26KLLhqZJg0HfflHPT9/+MMf7OGHH7Z//ud/tt122y0N6nTlcfz48Xbdddd1/S73RffFL37xi8ho//d//xdpEITrjunTp9uSSy4Zmd4f/Pvf/26vv/66a98o7uyzz+6D+GwSAYyGJoFOepn//d//7RpBKHWObbbZplSQO/7QQw+5Bt0HH3zQLd4pp5xi//3f/13yQQ9H/uijj+zAAw+0e++91/Uorb/++qZG9qqrrhqO1nbfpfPpp59eMl8dHR1dYaVGZ+6//3474YQTuuKV+3LYYYfZjjvuWC5a08IPOeQQu+CCC+w3v/lNrAEVlaE999zT3SNRYSp7NRTaVTR6sMwyy5TM3lZbbWW33357yXAFyGgaPnx4bJxw4EYbbWRRjapwnGZ9P/HEE+2qq66y3Xff3U477bSuy66zzjr21ltvuQZenG4vvPCCM5779etX1f3vL6SGwnHHHed+Ki/ewPThafq84oor7I9//KMtv/zydv3111eUdXWc3HbbbbFx1bs6ZMiQ2DjtEKhRxP/4j/9wZVjt/a1RCG9UROmienf77bd3Rsm8884bFaXpxx555JGyZSfjboMNNojNm0be9Y7VCFraREasDL2wqNEuUZkVj4h99tln4ajuu+6Ziy++2FSXiIEMytGjR/eIF3dABqbOo86/Dz/8sFvUlVZayUaNGuU6QPv0oTnbDU6DfkC5QWDrdVpVOGeddVbs6dTwDffqhxu/epB32mknU+NZFdzhhx/uHvjzzz/f7rvvPhf24osvmnpdS4ncF5T2lVdesSWWWMLUo6LeSTWQ9JnElanUtep9fKmllrJJkyZ1O61GYjTKokalGlDlRL0hMrwqFfW4t5NodEh/P/30U9XZknFY7G6iHiHvjlL1CVuUYO+99+5qtMoVRPd+JaLh82rKvn///pWctilx9Nxq5ECfYdFvdQLIHShOVM7nnnuue+arMZr9OcVO6SWHHnpoF38fnqbPjz/+2NT4Ddet5fL//PPP2wEHHBAb7d///d+7GQ3VnD/2xHUOlOumRI1Gsaj0PldcjeYqnT7VgbHyyiu7EQvdh5MnT7bf/e53rmGte7KaZ81lqEH/HnvssbLGvxrN5YyGBmWvKac9+eSTTX9ezjnnHNdA9781KrjFFlv4nz0+TzrpJNdZoca8OImpOhHUFlGHYyWiuHK39iOgeh/pna66S8+X/tSxJUP+5ptvNo1+I40lgNHQWL41n11D9XIlipJ/+7d/cw1fzUEoJaqE5TKg+QU33nhjV2W/4YYbOtcM9TjqYd54441LncJZ+DIY5HokI0HnUiNAhocqleJGeckTtSBAPVfbbrtttyur110Gg1xTll122a4wNayj5F/+5V9cozsqLHxMPYZimSU56qijeqgj1620GQ16WflRBzVkvdGgnsD/+Z//MRmSUSL/+lL3RTj+McccY7///e/Dh/ieIQJyyZRo3kGlstpqq9mf//znyOi6VzRKF1d3RyZs0UE/V02X1ztAHVGVyN133+0MBs1zuOeee7o16hZZZBH3bpNLizqe5MYjN9twB1gl12hEHLmLaVRJotFGr68au3502oc34vrtcE4Z/Rphmjp1ql199dV2yy23uNGFgw46yBlUGmnZZZddTKzURtFIgu/tV5vjzDPPdEa26lo19mV06x0pF2AZj5XMG5RLlwwGzfVROyP8vhajO++80/R+1oixRsBkqCCNJYDR0Fi+NZ999dVXN/1FifeRLH7xhBs56umRqIIOTzBUL8mCCy7ohvt8nKhr6JiGFyXHH3981+RmPZx/+tOfnHWvYcy0+KTqhacGnkSN33r27PkGRZZ6O1QZ+wn2DlrwL85g0FCy712Wi9agQYN8srb8VENF93WtksWyr5VJltLLD18il6NKRZ0SGtGMEvn+S+Lq7qh0rTgm4+Yvf/lL16VlgP/qV7+qyJ9cvcISvWPk5rnpppt2nUdf9K7ynU6aX9cuk6g1oq4/SbjM1Tgu1sFFKvNPc1U0Yh0nmtvhjZO4eM0IU3mp7L788suuy6nhLxdlHdefRh402qA/iUbtvXGp+S/qmJMLqNJJ5M66884725VXXunevb/97W/d8VL/NM9M7tASza8oNhh0XIaLRkFVh996660YDYLSYMFoaDDgRp3eN1J0/rjJQOutt57LgoaXZfnLwtfDLP9c7x9YavKSEurBlVEgCY9GyOBQT5omyKk3ot2NBq3sIb9IuQOoB0UjJVtvvbXTq17/dF5JeHJ5vc7dqvPIPa6aSeFyOTjyyCNddvWSaHejQRP/1XOol2MtL+x2LnstgHDXXXd13ULe1aTrAF/KEvANR90navyp/qtF/MhWXN1dy/nrlVZ6++dCbiByB9FoqhqDN910Uw+/9uLr6t2y33772bhx49yCEyuuuKLpT3WkVh1SI1MuKOq8kc96O664p9EPLxqZl8jt9z//8z/dd/nrlxP1susvTtSR51nHxWtGmNzP1DEofeUepHaEDAV5G2i+hzoMdS/ItVkdL/JokOeDl2nTprmvckkLyyabbOKMBqUrJ7o/fAeoX7AiKo1feEHubUjjCWA0NJ5xXa6gl9Vf//pXN/yn4cCwn7JGEbwBoIvJkpcfuhrFGkLVJERNhNSn3In0IHr/dg3pxTXsfCWpl1txY1gPsowG729YF0XrfBL1gqi3Qr1Z6j3RKIB0PvbYYxNfSUz0MtXIjR+q1sm8IVfMKfGF6pxQL2dV8HGink8tl1ssmqdRPKE8ank8vWy8m44aB+0iMnx8Q0+rnXgZPHiw6U8jJJWIGgtagUzPV3gCa7uXfSW66b72jOTKmETUSNQzdsQRR5RcRSfuvFpEQL2GaqTI2GkHkf+0d2dTftTrvv/++/fImupBP0dKDWD/XRE1YidDQSu1qXHo6+/izhYZd3LtkLtOqRHmHhduwAF1LIm/ykKdRmqY6fnXu0PL6mrUQHWf5iPImCglMgY0Uq0J95deeqlbPWnixIkuusL07tECDTIs2nVunOb2eFEHmURzNPwkfx8W9SkXXjGqRNplErjebaeeempXlnXv+/vfr0YndyW9+73I2NO7Vve5RiB8m8A36H08/9u3K/xxfeoe0Xm00pQMFo306P5QfrQKldyKi0Wdgd54k8s10ngCGA2NZ1yXK2h4XO4emrCsB0XLjkk0nDv33HN3Mxr8C00Vu5a1UwWg3gL1DqhXRJW1GnR6QWtINE58z4/vSQ3H9cd8nHBYu3xXr4h3Q9KkrbPPPrvmFZ/UaybDQ76U/gUofdUzIhkcNELbUWQ4eVeAUvlTRR3VE60XWngFEBmxMlTlUxo2MuaZZ55uPU6lrtPs4+UWE6g0P+pl3WyzzZzBGHY3aOeyl4tMeNlh9Rj6+iOst+oF7y7Tu3fvcFDF32WY6zyqo5KIGmO6t6JWYklyvnqk0TMjo1J6qdGs51+NXP0Oi+Y9eNc9+cGH5de//rUzBhSuxrFviBb7dXvXPq1s10qjQY1D6agVsLRCjRqJ3sCR0a0J3nL1DNcJYX2Lv2temZ9bpveGylerciW9z4rP38jf4dWyZEjJeJJx7Udg5b4Z1aBVntrF3aoaPjJovW6l0mkCu/6KRe0NGQ2+TeDbCD6e/+3D/XF9+tGHsLEtruokVf0lNzmtwqX6S/el5lroWVRdpuvqmUEaT6AlRoN6HnylGVZRL7d2X8IznN9WftfLS6sX6WEpFk3W0oQkP/FT4RpOjjIQ/AQ/xdHQoYYVw6vlaKUkieIVD8v7YVvv++kittk/jbBotQ71Xvhe1FJZlBGlHvUopqXS+OPqjfQNx0pfpD5toz/VgxN+eakX0fckaVJbOEy9oFGi0Ss1ntSjrgaR7j8vWrWiHUU93r6HLCp/arTUS7zPe7uVfTX6qVfP9xAqnXyEqxXV6743UY3/akX3WTvt0yAd/MpR8sFWp4OWoVTj3rvheR3VmPH72xQbFD6OPuXyqbpWPfhKExb5jKtDJ85lNBy/Ud91H2tkQD3CRx99dLd3gsK0eIBG3FS3SlRvaOTVjz5qk9Cky06rnpZB0g6iXm5NAFZ5amRdPG644Qbnm6/9fCRy0yo2GvS+kWtnErnooosiR7KSnCtJGpWpr898et3XUStbaTnn8Bw+bwT6NoFvI/jz+N8+3B/Xp65R/Dxo7oz4asRLo+RRI+XqDJShUpw2fG6+149AS4wGDWOpF7xYNOyJ0VBMJfq3JhdFMVRsjTT4HkOfWi868a1E1PvlX356CagS0QtCa457v0X1RMnAUI+BeqLaVdRDrh4zzWXQmvWViPxKKx1S9ufzfq16sWjkp51EBqP+vKjh740G9RjGlZ96F1X+emnKRW3OOed0o13iKrc4GaZaa14jOu0o4Xk4cfmTbr7Mq3UTkAHlyz/rK6oUM/z666+LD1X1WyMSuqfaUVSuasSrLpRBJQNbI2k6prXh9VyEO2L0jMQZC15H3V/hOSb+uD7VSGqXzd38JG41mr37XTiv+i7jQKK5chJ//yu+byC6gCr+lbpWFaeoS1R1lI0cOdJ1kMgI0Aij6ku5U6nOi5qY6y8sDn4CsD9W6ac3uiuNX+946nAsnkOgVbDUcC8WuSEWtzUUR20NGZ1qM+jd68V3RES1RWRwRD0/w4YNc6PZasPIdc9v7ibDQ4aCNnnT84k0h0BLjAbdkFE7/7Xry6M5RZH8KsVD4VFn0osqbiMnpZHPu9awLxb1wO+7777Oz1DrLauH1rtAaf37Ur3Txedp5W9VSOEekai8yLVCw+Zht5OoeFHH5Damnse4/S6i0rX7Mc2B0V+aRb2DUUvHltJJvufVGH6Kf/DBB7te+nbs7VLDTj34XqodAVD9ohE7pdOfXIjk2y13AvUme2PLnz/qU66R6mBQep1PIxLqdJCxFh7diErbimMyhtRBIvdDNWS02pHmKqnRKLcMLaWqxr181r3bTpJ8ymiKanQlOVej0mhDLj8Ho9w1NFdM94NWGdJ9klbRyLHecepd130r90Z1pmlUVSshyVi89tprS44IlVsZKA1cND/Bjyjr/amFVIpFy+j6hr6eA+9SpxGIMWPGuEnzWmJVhrZc3HROPfNy16tUZGBrwYriHbfVVvHGh89npeckXnICLTEa/BJdybOdj5SajKgKSg+En6ipBoqGtvVblbKGEfUQRjX2w5RkpOkFFyd6OKPOIz9CVZbqcVLPsioJ5Uk9beFehLhztzpMDXo/nFwqL3JD0M6vSUSTAjVZK4uie07zNyT/9V//1c2dKQ36qpEanntSLs9yQalGZChqjku7ihYC8EsXJsmj6pmo9c/1Ei9eU983IIqvE/VsqPNB66+HpVT6cJxmfNeiE/6eUY+peju96BmQyHAotcu1VpZRY0kLTqiu9I1uGR36LabqpNC9Wbzrrjt5G/1Tg1mNaIlcq8IGteoGubP69fnD85sUXxzV6aR7pdToiuK1k2gVHpW3fOYlWj7Uu/rKUNACI3KT0UhC1NygsC4aoXj00Uddgztuwng4Tbt832abbdy9Wml+tGeDDAOJOoA130BLrGpDWb1/9Szo+Zb7VannptJrEa91BFpiNLRO3XRdWZVX8YQkvXDU+6FVauT7qcaq3ETCcxOitNQoQtJeUPW0yD9TRod8WdU7ppUKNDSZhlEG8ZDPaSWrXRSz0wuv2AXDT3aUgaURmFKi3tlWDjXLrUKTx4olfK9o2NkvjxeOp+FevzqQ5kDIeJUUs/Bp1OOse7MdRT7i5SbWKtzP3/E6aPJd8R4VfvlhxY8re+2hUqlrlL9evT/VQxznIuHLt9R11VssBupllJuiGotq6OuelmuAH1WTy0CUKI3Sq6GgOkTxlV5zaMRa39tV1LOp3mK5oYRdkJRfjVjK1VG9pSpj+VwXi+JobfliUd0h33/9qYGtuludPu0s6mzR6KvmMsjYkQHky06TgrXvjXqWozpcZGRopCtc57Szrsqb3q0yZjUCpgauGsNe5J4mQ0jvPtWR+ovqaPPxxUrPR9KFAfx5WvGpUQRfp4uF6kKVv94Beu9r7p9WOfMeIsXvOnU0Pfjgg66jSe8hdTKqXvzlL39ZVh25Xms+icTzFcPwZolhgy18XPOB4lzHyl6cCLEEMBpi8bQ2UP6UapyrF0cvYL1c9OL2L+tw7vwchPCxUt+1ykC4t6g4XpRPt16C6jHQX5pFQ8x6wcVJeOk/vQhLNTjfCPa+KDbqwueVS0xxRRoOb/R3+Y/q5RYnpcLVQ6RetSyIGr162ceJX4I4HEc9o6VWm1IjKK7s1SBstdGgVUjCK5GEdavkuwwD9YxXI76RoTTqga4lfTXXbUTc0aNHx542rnzVaFFPtepNX3ercVXuPoy9YAsD1UGl948ajXJL88aovqvMfU98C7NYt0vLyFW9L0OpeCRNF/G96HW7YJueSJvYybVTCxOUmrOm+1ujCKVGZ2VU6K9a0UIDxXWvDLBS7+7wcS3BitFQLfHK42M0VM6q6TH1gombpJo0Q/KhjfOj1XJm6n0O70GQ9Frtlk4vBFV0caJNeDQ8LeNMa1Grpz2JFPdcJzlHLWmkg9/Nu9rzFC8F6dOrEeh7lvyx4k/NgVCvUtpFvYxRbjWV6KXeSiS/BFTHZOEZ0LvArx7lXZA0AuPdyvxiHOoN1uRwbfip3uRi0aRoLZ1ZTjQiHNVQL5eu3uF6P9YzHxpx06TgONFqiOUM1bj0jQhTHSiDQaMKKmuNrIiNRpDUqaRJ4dqXR6Nu9Vw5TnMgkm6+yn4NjbgTfj4nRsPPLHLzrZKNzdSLmkWjQSMy2uSunKgylNEwePDgclHbNlyNlno3XLQvQznRKjNZkFaOEmWBHzqkn4CMBi1nGRY1fosbwL5XWCvPRRkNOk8lSzNXMqk+nJe0fNfqan6FtVJ5jhv9L5Wm0ce33357NzdBe/JoERSNOHmjQaMQEs2xLNXJlDR/xS6BSc9DuvoTwGioP9OWnFE+sn7H3vA+Cz4z8kH1k5T8sbjPJOuEa/ja5yHKxSnueo0O0xCr/JMrlXbLf6X5bkQ8rRrj96Co5Pzt+PIrl2+9CP0qUXmbpCfDUs9t0nte5e2f+6RlLzc5uR+kccltzZmR/rXcN5oXoN7bevbWlrvnKwnXs+/ncFUS38918HE1EdhPovbH4j419yVt4ss/6vnRnLGwy16cbnKjbDfRvCd1tEmPqDkNctGT+1HSvIfrjlqen3bjluX89Apu6KpmL2q5uc7OziwzqZtuWXXxqRugMifKO7886y/dJVkc7Spz27vgPJd9JXzKxck7vzzrT92RTdfics98vcJp48aTbD/TNj6/hEIAAhCAAAQgAAEIQAACTSaA0dBk4FwOAhCAAAQgAAEIQAACaSOA0ZC2EiO/EIAABCAAAQhAAAIQaDIBjIYmA+dyEIAABCAAAQhAAAIQSBsBjIa0lRj5hQAEIAABCEAAAhCAQJMJYDQ0GTiXgwAEIAABCEAAAhCAQNoIYDSkrcTILwQgAAEIQAACEIAABJpMAKOhycC5HAQgAAEIQAACEIAABNJGAKMhbSVGfiEAAQhAAAIQgAAEINBkAhgNTQbO5SAAAQhAAAIQgAAEIJA2AhgNaSsx8gsBCEAAAhCAAAQgAIEmE8BoaDJwLgcBCEAAAhCAAAQgAIG0EcBoSFuJkV8IQAACEIAABCAAAQg0mQBGQ5OBczkIQAACEIAABCAAAQikjQBGQ9pKjPxCAAIQgAAEIAABCECgyQQwGpoMnMtBAAIQgAAEIAABCEAgbQR6FQKpJtPTpk2rJjpxIQABCEAAAhCAAAQgkAoCHR0dqchnKzLZp9qLzpw50zo7O6tNlsv4MrC4+ZIXfd755Vl/3zmR1+cnz2WfvMb4OWXe+eVZf+oO2h0/1wTVf5s8eXL1iXKUAvekHBU2qkIAAhCAAAQgAAEIQCAJAYyGJNRIAwEIQAACEIAABCAAgRwRwGjIUWGjKgQgAAEIQAACEIAABJIQwGhIQo00EIAABCAAAQhAAAIQyBEBjIYcFTaqQgACEIAABCAAAQhAIAkBjIYk1EgDAQhAAAIQgAAEIACBHBHAaMhRYaMqBCAAAQhAAAIQgAAEkhDAaEhCjTQQgAAEIAABCEAAAhDIEQGMhhwVNqpCAAIQgAAEIAABCEAgCQGMhiTUSAMBCEAAAhCAAAQgAIEcEcBoyFFhoyoEIAABCEAAAhCAAASSEMBoSEKNNBCAAAQgAAEIQAACEMgRAYyGHBU2qkIAAhCAAAQgAAEIQCAJAYyGJNRIAwEIQAACEIAABCAAgRwRwGjIUWGjKgQgAAEIQAACEIAABJIQyLzR8P3339snn3xiP/74YxI+pIEABCAAAQhAAAIQgEDuCfRpFQE15N9///2KLj/vvPPaoEGDKopbHOn++++3zTbbzF588UXr6OgoDuY3BCAAAQhAAAIQgAAEIFCGQMuMhgkTJthhhx1WJnv/CN5ll13s6quvjoz77rvv2qhRo+yII46wddZZJzJO3MFvvvnGpk6dagMGDLDBgwfHRW152LRp0+yee+6xr7/+2tZaay0bOnRoy/OUpgzIgJwyZYr17dvXNtlkE1t55ZXTlP2a8qoRt0mTJtlLL71kCy20kG2zzTY2cODAms6ZtsRPPfWUzTLLLLbqqqumLes155e6ozaEH374ob355pu29NJL2wILLFDbyVKY+tVXX7WZM2faGmusYbPOOmsKNUieZXVwqu5UJ+eyyy5r2223nc0222zJT5iylNQdKSuwBme3ZUaD1+unn37yXyM/119//cjj/uDnn39u11xzjY0YMaJqo+GZZ54xGSQahdh3331t3Lhx/rRt93neeec5w6hQKFivXr1Mn1tvvbXdcsst1rt35r3Mai6PnXbayW644YYudjrhmWeeaccdd1zN5273E+hl39nZ6QwGf+/MMccc7kU4bNiwds9+zfmbMWOG7bPPPnbzzTe7l/7LL79c8znTdALqjtpK6/rrr7f999/fPv30U1Nn18iRI2s7YYpS//DDD3byySfbGWec4XKtTrpFFlkkRRrUltWHH37Yhg8fbp999lnXu2PJJZe0yZMnu86X2s7e/qmpO9q/jJqdw5a3NtWIiftrBBA1uMeOHWtrr722lTNaGnH9as/53HPP2VFHHWVbbLGFqbdUPR4nnHCC3X777U6Pas+Xt/jjx493BsORRx5p77zzjhtZ2mGHHWzMmDFu5CHrPA455BCbPn26M4plZN9111221FJL2V577eVehlnWXyNzGlnQSz6PPcTUHcnv7i+//NL23ntv23nnnXM3KidqqjM22GAD17miEZa8iUb099xzT+eFcNttt9kXX3xhl19+uZsjud9++2UeB3VH5os4mYJBA7oqCSzvquKXihxYsIUgx6WCu46vt956hWA0oOt38Zcnn3zSnSfoASoOcr/vvvtuFx6MJnSFn3766e7YoYceWgiGHt33YKShK7xeX8LXrOWcgXFTmGuuuQofffRRt9MEczUKwVBx4bXXXut2PCs/6sHvvffec+zWXXfdbliCnqPCggsuWFhhhRUKwST5bmHt8qMe+t96663u/j722GO7qfXQQw+548HLr9vxdvkh3WvV/4EHHnA6brrppoWgh7Sg5yhwL2gXFWPzUavu/uTUHZ5E9Z/BKFwhcEMpXHLJJQX/HJV6z1R/9samqPX+CRrMrt4MXHYLgcFdOProo92zpOeo3aUedYd09Drfcccd3VQORl0ci8BlutvxdvlRa9l7PfJad9Srjes5Zu2z5e5JBx98cKy18/rrr1tQcZWMI19LiXc5kO/2448/3hX/hRde6Pruv8ivOXgJuGHHr776yh9uy0/5U0qfoAKz/v37d8vjiSeeaIFRZPLVV88x0pOAepjVY6iRmbDMM888FhiNdtJJJzlfZQ05Z1HuvPNON5JX7IYlt7+gMW0Kz6ro2ZYLWmAw5dKFj7qjtjt7iSWWsD/96U+2/PLLm3qa8yRabVDzni666CLTQiQ33nhjntR3uqpuDBrOtuWWW3bTXfMn5a6lcLk3Z1GoO7JYqvXRqWVGgyahaohPjfw42XbbbW3IkCElozz99NMuLBhxcJ/y395www274ke5H40ePborvN2/aOKqJGrSrj+miUpINIFK+WXVaJD+avzoxV8sun/uvfdeN7FecxyyJnrZF7/ws6ZjnD6V3vtx58hzWDDCkFv1g5FtN1cwrwDUbtDzs+uuu/ZAMPvss9syyyxjWX7vUnf0KHYO/H8CLTMa1Mupv1rku+++cz6GgeuJGzkI3HTc6haavOVFPs1acjWt4h9eNfyKZf755zf1mPs4xeH8tq7Jv4suumgPHH4ES/y22mqrHuFZOCDdShlEXn+N0q2++upZUBcdQgR8vUDdEYLCVwhUQEArZalDM+rZUXLVnRrhz6pQd2S1ZGvXq+lGQ+BvZxdffHGinBf3HGpSkgyHwOfQZDjIXafU0qyJLtgGiT744AOXi8D/PjI3Ol7pfheRJ8j4QfHr16+f9enT81b3TLPMT6udlFqKOKw/RkP2HgTqjuyVKRo1h0Alz45WVNKS7Rp5yJpUon+W35tZK8966tP01ZM0CqAVXKL+tKqLDIGoMB379ttvu3TXXAX5FsrVaL755rNLL73Urr32WtMSYVkS30usxl+xBBNs7O2332Y+QzGY0G/xk39m+N7xwZ5plueDaBjd6+n19p/+eJb197rm8ZO6I4+ljs71IBD37Oj8qju1300WDQbpF6c/7Q4Ryq/07H5tMItVVlnFLrvsssiraGlIGQ6lwn0iuSFpgxX1jh500EHusCZ2nnvuuc6QkPWvyY9ayjXtokl4Eg2XFos2HNIQqo9THM5v62Lz1ltv2XLLLdcNyRtvvOF+Z5mfdHvssce66e1/SH89IxgNnki2Pv19Td2RrXJFm8YTkEEg19+oZ0dXV93pn6/G56b5V/C6RelPu6P55dFOV2z6SINXXiMKSXZmff75593EaG0wIwMjbOlrh+mzzz7bbdilCZ5ZEO1AKXnkkUd6qOOP+Qe8RwQOdBkKnlUYiT+WZX4ylDSMrFXIwqLeokcffdRtdpa3HV7DHLL8nbojy6WLbo0moLpzypQpppWkwiLXHa3amOX3BnVHuMT5HibQMqNBqxwVL4c6cODAsr2eelC1TKvmMWiFh2LR0qSaNzF06NDioFT+lo477rijXXHFFU4vr4QqMs3hUI+INn1DoglsvPHGbtLaKaec4ua/+FjqQbnwwgtt8803t4UXXtgfztynVv/QjuHFS85ed911ph3RtXkRkk0C1B3ZLFe0ag4B1Y3yaij2fNAO2Xr/7rHHHs3JSAuuQt3RAugpuWTT3ZPiuBQ3bKLiakKrGoBx0tHRERecurALLrjA7rvvPtMuxjKKFltsMTv//PNNoy6TJk1yE31Tp1STMqzKT/NdZEQOHz7cDj/8cJsxY4adc845pmVGs76solz49Fydeuqpzsjebbfd7MEHH3Q7iWuC9DHHHNOkkuAyrSBA3dEK6lwzCwQOPPBAmzhxoqsjg01CLdjszy1DO27cOOcGLZfoLAt1R5ZLN7luLTUatBZyJY02TXRWb3teZcCAARbsROp6hYOdqx0GbVCnHg/tY4HEE9DSvnJbGzNmjGkJXomYXnnllTZo0KD4xBkIldGgJfT0stOfRK6BV111lek+QrJLgLoju2WLZo0loPlecqNW20PvWv1Jtt9+e7e5m/uR4X/UHRku3BpUa5nRIJcQ9XSOHz++bPY1k79RRsOcc85p8u9ud5EbzfTp0+3ZZ591m3FpYy6/ZGa7570d8jdq1CjbZ599bOrUqda3b1/ThPwsbmgWxVpzFrSymAwn7ckgN8CVVlopd7skl5oQHsUsS8eoO2ovTY1SpuE9Ubum0Wf4/e9/b/rLmwwePNgtJKFRfc0N02p0fmWhPLCg7shDKVenY8uMhpEjR5r+Gi2rrbaa3XTTTc6lp9HXavT51diN2x270ddP+/m1X4PmOORVFl98cdMfkj8C1B35K3M0rg8BjTiok05/eRTqjjyWemmdW2Y0lM5SfUP69+/vlmet71k5GwQgAAEIQAACEIAABPJDoGWrJ+UHMZpCAAIQgAAEIAABCEAg3QQwGtJdfuQeAhCAAAQgAAEIQAACDSeA0dBwxFwAAhCAAAQgAAEIQAAC6SaA0ZDu8iP3EIAABCAAAQhAAAIQaDgBjIaGI+YCEIAABCAAAQhAAAIQSDcBjIZ0lx+5hwAEIAABCEAAAhCAQMMJYDQ0HDEXgAAEIAABCEAAAhCAQLoJYDSku/zIPQQgAAEIQAACEIAABBpOAKOh4Yi5AAQgAAEIQAACEIAABNJNAKMh3eVH7iEAAQhAAAIQgAAEINBwAhgNDUfMBSAAAQhAAAIQgAAEIJBuAhgN6S4/cg8BCEAAAhCAAAQgAIGGE8BoaDhiLgABCEAAAhCAAAQgAIF0E8BoSHf5kXsIQAACEIAABCAAAQg0nABGQ8MRcwEIQAACEIAABCAAAQikmwBGQ7rLj9xDAAIQgAAEIAABCECg4QQwGhqOmAtAAAIQgAAEIAABCEAg3QR6FQKpRoVp06ZVE524EIAABCAAAQhAAAIQSAWBjo6OVOSzFZnsU+1FZ86caZ2dndUmy2V8GVjcfMmLPu/88qy/75zI6/OT57JPXmP8nDLv/PKsP3UH7Y6fa4Lqv02ePLn6RDlKgXtSjgobVSEAAQhAAAIQgAAEIJCEAEZDEmqkgQAEIAABCEAAAhCAQI4IYDTkqLBRFQIQgAAEIAABCEAAAkkIYDQkoUYaCEAAAhCAAAQgAAEI5IgARkOOChtVIQABCEAAAhCAAAQgkIQARkMSaqSBAAQgAAEIQAACEIBAjghgNOSosFEVAhCAAAQgAAEIQAACSQhgNCShRhoIQAACEIAABCAAAQjkiABGQ44KG1UhAAEIQAACEIAABCCQhABGQxJqpIEABCAAAQhAAAIQgECOCGA05KiwURUCEIAABCAAAQhAAAJJCGA0JKFGGghAAAIQgAAEIAABCOSIAEZDjgobVSEAAQhAAAIQgAAEIJCEAEZDEmqkgQAEIAABCEAAAhCAQI4IYDTkqLBRFQIQgAAEIAABCEAAAkkIZN5o+P777+2TTz6xH3/8MQkf0kAAAhCAAAQgAAEIQCD3BPq0ioAa8u+//35Fl5933nlt0KBBFcUtjnT//ffbZpttZi+++KJ1dHQUB/MbAhCAAAQgAAEIQAACEChDoGVGw4QJE+ywww4rk71/BO+yyy529dVXR8Z99913bdSoUXbEEUfYOuusExmn1MGffvrJnnvuOXv44Yetd+/etsEGG9iKK65ovXr1KpWkpcenTZtm99xzj3399de21lpr2dChQ1uan7RdXAbklClTrG/fvrbJJpvYyiuvnDYVEudXI26TJk2yl156yRZaaCHbZpttbODAgYnPl8aETz31lM0yyyy26qqrpjH7NeX5m2++salTp9qAAQNs8ODBNZ0rj4nzXHeovF999VWbOXOmrbHGGjbrrLPm6hZQB6fqTnVyLrvssrbddtvZbLPNlhsGtDtyU9QVKdoyo8HnTg33OFl//fXjgu3zzz+3a665xkaMGFGV0aB02267relloIaEd1/adddd7fLLL2+7ivG8885zhlGhUHBGjT633npru+WWW5zBEwuJQNtpp53shhtu6GInJGeeeaYdd9xxmaejl31nZ6czGGQQ696ZY4453Itw2LBhmdd/xowZts8++9jNN9/sXvovv/xy5nUOK/jMM8+YOl402rrvvvvauHHjwsF8L0Mgz3XHDz/8YCeffLKdccYZjpI66RZZZJEyxLITrA7F4cOH22effdb17lhyySVt8uTJrvMlO5pGa0K7I5pLno+2fE6DGjFxf40qHPUWPProozZx4kT76quv3LyHo48+2jQCMnr06EZdNtF5NRpy1FFH2RZbbGHqLVWPxwknnGC33367jR07NtE585Ro/PjxzmA48sgj7Z133nE9rjvssIONGTPGjTxkncUhhxxi06dPd41FGct33XWXLbXUUrbXXnu5l2GW9dfInEYW9JJfYIEFsqxqD91kHKp+WHvtta1c50yPxBxwBPJcd6jO0Oi7OleWXnrp3N0RGtHfc8893ejcbbfdZl988YXrUNTIw3777Zd5HrQ7Ml/EyRQMXixVSWB5VxW/VOTAgi0EOS4V3HV8vfXWKwS9ZF2/i788+eST7jxBY784yP2+++67XXjQy9YVHjS63bHTTjut65j/ssIKKxSCBpX/WdNn+Jq1nCh46RfmmmuuwkcffdTtNMFcjUIwVFx47bXXuh3Pyo968Hvvvfccu3XXXbcblqDnqLDgggsWVN7BKFO3sHb5UQ/9b731VnevH3vssd3Ueuihh9zx4OXX7Xi7/JDuter/wAMPOB033XTTQtBDWtBzFLgXtIuKsfmoVXed/PTTT3f6H3rooYWgoeO+ByMNsdfNSmA9+OW57ggazK7eDFzZCoHBXQg61Nz9o+eo3aUedYd09Drfcccd3VQORl0ci8BlutvxdvlRj3tfuuS13VGvNm673A/1zkfL3ZMOPvjgWGvn9ddft6DiKhlHvpYS73Ig3+3HH3+8K/4LL7zQ9d1/0VDj8ccf71ya/DH/qcnS8l+Uu5Lcllot6tWQPhoF6d+/f7fsnHjiiRYYRc7FSj3HSE8C6mH+8ssv3chMOHSeeeaxoDFlJ510kr355pumIecsyp133ulG8ordsOT2FzSmTeFZFY0gqpc0MJhy6cKn+iswGp17hVgg1RHIc92h95/mPV100UWmhUhuvPHG6uBlILbqRo3Sbbnllt200fxJuWspXG5/WRTaHVks1fro1DKjQZNQNcSnRn6caN7BkCFDSkZ5+umnXVgw4uA+5b+94YYbdsWPGpZffvnlu3w0uyIGX7777jt74oknbM0112wLg0F508RVSdSkXX9ME5WQaAKV8suq0SD9l1hiCffiLyak++fee+91E+s1xyFropd98Qs/azrG6dNubpZxeW3HsDzXHcHItpsr2I7l0ow8qd2g8tccx2KZffbZbZlllrEsv3crvfeL2fA7+wRaZjSol1N/tYga+Zq0HLieuB61wE3H+V5q8pYX+TRrydVKJBjOt7feessuvvjiSqI3JY5/eNXwK5b555/f1GPu4xSH8/sfRpfmzCy66KI9cPgRLPHbaquteoRn4YB0K2UQef01Srf66qtnQV10gEDdCOjZyXPdUTeQKTyRRp/VoRn13pU6qju1iEpWxbcpovSn3ZHVUq9Mr6YbDYG/XeJGeXHPoQwGGQ6Bz6EzHOSuU2pp1nI4tAJTMMfBDjjggLbqnfzggw9c1gP/+0gVdLzS/S4iT5Dxg+LXr18/69On563umWaZn1Y7KbUUcVh/jIaMPwioVzWBvNcdVQPLUIJK3rtyc9ZSxhp5yJpUon+W35tZK8966tP01ZM0CqAVXKL+tKqLDIGoMB379ttvu3TXXAX5FmoIfr755rNLL73Urr32WtMSYdWKRiN23313t/7y+eefX23yhsb3vcRq/BVLMMHF3n77bbcSTnEYv/9BQPzknxm+dzwbzzTL80E0jO719Hr7T388y/p7XfmEQLUE8l53VMsrS/Hj3rvSU3Wn9rvJosEg/eL0p90hQvmVnt2vDWaxyiqr2GWXXRZ5FS0NKcOhVLhPJDckLZmq3tGDDjrIHdbEznPPPdcZErL+NflRQ8vlRJt96VxaWk6jDe0w+TmcZ82/kGi4tFg+/PBDN4Tq4xSH89vMs5Hb2XLLLdcNyRtvvOF++zjdAjPyQ7o99thjkdpIfz0jGA2ReDiYcwK+Xshr3ZHn4pdBINffqPeuuKju9PdHFjl53aL0p92RxRKvXKemjzT4rGlEIcnOrM8//7ybGK0NZmRghC197TB99tlnuw27NMGznGi0QhukyfjQKiPhc5VL26xw7UApeeSRR3pc0h/zD3iPCBzoMhQ8qzASfyzL/GQoaRhZq5CFRb1F2qdE91fedngNc+A7BEoR8J0Mvp4Ix/PHslx3hPXN43eVvzoV/cavnoFcd7RqY5bLnnaHL20+iwm0zGjQKkfFy6EOHDiwbK+nHlQt06p5DFrhoVi0NKnmTQwdOrQ4qNtvWdCbb765G4Yrda5uCVr0QzruuOOOdsUVVzi9fDZUkWkOh3pEtOkbEk1g4403dpPWTjnlFDf/xcdS+V944YXuHlh44YX94cx9avWP3r1791hy9rrrrjPtFKzNixAIQKAngbzXHT2J5OuI6kZ5NRR7PmiHbL1/99hjj8wCod2R2aKtWbGmuyfF5Vi7HJcTTWhVAzBOtNdCnMyYMcOtqCS/xBEjRljUPAatv9wubhsXXHCB3XfffaZdjGUULbbYYi7PGnXRnhKa6ItEE1Dlp/kuMiKHDx9uhx9+uKn8zznnHNMyo5dcckl0wowc1SianqtTTz3VGdm77babPfjgg26nYE2QPuaYYzKiKWpAoL4E8l531Jdm+s524IEH2sSJE10dGWz0Z8OGDXMuzOPGjXNu0HKJzrLQ7shy6SbXraVGg9ZCrqTRponO6m2vl2hPh1deecWdbuzYsZGnVYOqXYyGAQMGWLDjtesVDnZ0dfnV3Av1eGgfCySegJb2ldvamDFjTJPeJWJ65ZVX2qBBg+ITZyBURoOW0NPLTn8SuQZeddVVbTeHJwO4USFDBPJed2SoKKtWRfO95EattofetfqTbL/99pH7PLnADP2j3ZGhwqyjKr20xXQ159MumZ2dndUkiYyrpVErXelIM/m1MlIS8fs0yGWp3AhEkvPHpdHmL/W8plYAevbZZ91mXNqYyy+ZGZeHNIfVm59c4qZOnWp9+/Y1Tchv9w3N6q2/JnRqTwa5Aa600kptvUuy3zipns9Pmp6Fepd9mnSvR17rzS/vdUc9yqRZ56h33aEmkkb1NTdMq9H5lYWapU+116n3vZ+3dke92rjVllta4rdspGHkyJGmv0bLaqutZjfddJNz6Wn0tRp9fjV243bHbvT1035+uXHJTzmvsvjii5v+EAhAoDoCea87qqOVrdgacVAnnf7yKLQ78ljqpXVumdFQOkv1Denfv79bUrW+Z+VsEIAABCAAAQhAAAIQyA+Blq2elB/EaAoBCEAAAhCAAAQgAIF0E8BoSHf5kXsIQAACEIAABCAAAQg0nABGQ8MRcwEIQAACEIAABCAAAQikmwBGQ7rLj9xDAAIQgAAEIAABCECg4QQwGhqOmAtAAAIQgAAEIAABCEAg3QQwGtJdfuQeAhCAAAQgAAEIQAACDSeA0dBwxFwAAhCAAAQgAAEIQAAC6SaA0ZDu8iP3EIAABCAAAQhAAAIQaDgBjIaGI+YCEIAABCAAAQhAAAIQSDcBjIZ0lx+5hwAEIAABCEAAAhCAQMMJYDQ0HDEXgAAEIAABCEAAAhCAQLoJYDSku/zIPQQgAAEIQAACEIAABBpOAKOh4Yi5AAQgAAEIQAACEIAABNJNAKMh3eVH7iEAAQhAAAIQgAAEINBwAhgNDUfMBSAAAQhAAAIQgAAEIJBuAhgN6S4/cg8BCEAAAhCAAAQgAIGGE+hVCKSaq0ybNq2a6MSFAAQgAAEIQAACEIBAKgh0dHSkIp+tyCQjDa2gzjUhAAEIQAACEIAABCCQIgJ9qs3rzJkzrbOzs9pkuYyvURks1uRFn3d+edbfj2jm9fnJc9knrzF+Tpl3fnnWn7qDdsfPNUH13yZPnlx9ohylYKQhR4WNqhCAAAQgAAEIQAACEEhCAKMhCTXSQAACEIAABCAAAQhAIEcEMBpyVNioCgEIQAACEIAABCAAgSQEMBqSUCMNBCAAAQhAAAIQgAAEckQAoyFHhY2qEIAABCAAAQhAAAIQSEIAoyEJNdJAAAIQgAAEIAABCEAgRwQwGnJU2KgKAQhAAAIQgAAEIACBJAQwGpJQIw0EIAABCEAAAhCAAARyRACjIUeFjaoQgAAEIAABCEAAAhBIQgCjIQk10kAAAhCAAAQgAAEIQCBHBDAaclTYqAoBCEAAAhCAAAQgAIEkBDAaklAjDQQgAAEIQAACEIAABHJEAKMhR4WNqhCAAAQgAAEIQAACEEhCAKMhCTXSQAACEIAABCAAAQhAIEcEMBpyVNioCgEIQAACEIAABCAAgSQEMm80fP/99/bJJ5/Yjz/+mIQPaSAAAQhAAAIQgAAEIJB7An1aRUAN+ffff7+iy88777w2aNCgiuIWR7r//vtts802sxdffNE6OjqKg/kNAQhAAAIQgAAEIAABCJQh0DKjYcKECXbYYYeVyd4/gnfZZRe7+uqrI+O+++67NmrUKDviiCNsnXXWiYwTd/Djjz+2xx9/3GbMmGFrrLGGrbDCCjbLLLPEJWlZ2LRp0+yee+6xr7/+2tZaay0bOnRoy/KSxgt/+OGH9uabb9rSSy9tCyywQBpVqCnPr776qs2cOdPd57POOmtN50pbYnVSTJo0yXVULLvssrbddtvZbLPNljY1EuX3p59+sueee84efvhh6927t22wwQa24oorWq9evRKdL4+J1Pk0ZcoU69u3r22yySa28sor5waDRuv17Lz00ku20EIL2TbbbGMDBw7Mjf55rjtUyLQ7cnOrV6Roy4wGnzu90OJk/fXXjwu2zz//3K655hobMWJEVUaD3JVkbJx77rndzr/ccsvZzTffbMsvv3y3463+cd555znDqFAouJe9Prfeemu75ZZbXEOg1flr9+tff/31tv/++9unn35qMlhHjhzZ7lmuW/5++OEHO/nkk+2MM85w55Shvcgii9Tt/O1+IjWWhw8fbp999lnXs7Pkkkva5MmTXSOo3fNfS/5UP2677bamRq86Q7yb5q677mqXX3655c14TMJyp512shtuuKHr3tE5zjzzTDvuuOOSnC5VadTJ0NnZ6QwGGZl678wxxxzOiBg2bFiqdEmS2TzXHeJFuyPJXZPtNC2f06CKKO6vUfiPOeYYZzCceOKJNn36dNeYlLGgSnKjjTbqerk26vrVnFe9hEcddZRtscUW9tRTT7ne0hNOOMFuv/12Gzt2bDWnyl3cL7/80vbee2/beeedc9U75gta97Z6ltXI0QhL3kSjcnvuuacNGDDAbrvtNvviiy9cY1m9h/vtt1/mcWhE5dFHH7WJEyfaV1995eZ3HX300c5wHj16dOb1r1XB8ePHO4PhyCOPtHfeecemTp1qO+ywg40ZM8aNPNR6/nZPf8ghh7j347hx41wH3V133WVLLbWU7bXXXs4Ib/f815K/vNcdtDtquXsynDboOahKAsu7qvilIgcWbCHAWiq46/h6661XCNyTun4Xf3nyySfdeYLe4+Ig9/vuu+924cGchq7w7777rhC4p0Se95xzznHxH3zwwa74Sb+Er5n0HEq39tprF+aaa67CRx991O00wVyNQtBTWHjttde6Hc/Kj3rwC3rDCoEbSuGSSy4p3HrrrbH3Srtxq1X/4KXn7pvBgwcXgl71QtBYdPoHIw3tpmqP/Ej3WvXXSb3Od9xxR7drBKMujkXg9tjteLv8qIfuwZwxp+Npp53WQ63ADbMQNP56HM/KgXrwe++999zzs+6663bDEoxYFRZccMGCGAYjN93C2uVHPfT39eWxxx7bTa2HHnrI3VeB0d3teLv8kO710D/PdYfKMq/tjnq1cdvleah3Plo+0nDwwQdb3N/rr78ea7LJT1vy8ssvu0/5Xz7yyCNdfy+88II7Hv6nOH/5y18sMBDCh933fv36uU+5dLSDqEdUcy5+85vfWP/+/btlSaMk0kWuB0g0gSWWWMKeeeYZ22effaIjZPioXFHkf/z0009bYHxnWNPSqsj/xPsAABmVSURBVN15550WvPxsyy237BZJc6DkZqHwrIrcsY4//njnulmsoxaFeOONN9pqRLU4j63+Lfc1jVRqVDcs88wzjx166KFucQ3Nkcqq6NmQF0CxG5ZchjfddNNMPzsq0zzXHbQ7svpU165Xy+Y0aCKZ3APU6I0T+eMOGTKkZBQ1iCTBiIP7lHvRhhtu6L7rX9ScCTUWNt544644/otcFzQcLTeOoHfJH27ppyafSaIm3vljmqiERBMIRhiiA3JwNBidcvN9cqBqpIp69vX8yH+/WGaffXZbZpll3CS/4rCs/Na8LD+PJaxTMNJqTzzxhK255pptu+hDOL+t+l5p3av5MVkU6a9OF61eWCx699x7771uUQ69T7Mmea87Kr33s1bu6FOeQMuMBvVU6K8W0ctPk/nUwA+GUi1w03EN/vAogVYb0pKrpeSvf/2rBa5Ibp7A3/72N7d6kibKapWMdhD/8KryLpb555/f1Ovl4xSH8xsCeSagXmB1SkQ9O+ISuG3lcpTu9NNPt7feessuvvjiPN8eZXVXvaqe9kUXXbRHXN07EsXZaqut3Pes/ZNupQwir79G+FdfffWsqe5W2ctz3eHbFFF1J+2OzN3uVSnUdKMh8DVM/LKSi0HYzUAGgwyHwF/ZGQ5y1ym1NGspKppYLCNBe0bMPffc7jzqhWwX+eCDD1xWAh/ayCzpeKX7XUSegIMQyCiBSp4dufB888031k7PfCOLQyvNBXMc7IADDuhWlzbymmk9t+4fuav26dPzNenr4yzXvVplrdQy5mH9s2g05L3uqET/LN/7aa2zmpHvps9p0CiAlgGM+tPKDDIEosJ07Ntvv+1iorkK8kvWCiDzzTefXXrppXbttde6JcK6IlXwRek1b0JLcV555ZVuyHWxxRZzw/cVJG94FN/Towq8WIIJLvb222+71SyKw/gNgbwTiHt2xEbPlNadz4vBoFHX3Xff3e1Rcf755+f99iirv+4f+XaH3zs+ka+PtZJQVkXue17PYh398azqn/e6I05/2h3FT0O+fvfsQmmw/qussopddtllkVfR8m4yHEqF+0RyQ9JSgurhOOigg9xhTc7SngsyJNRzGKz44IaWfZpyn3JH0jCz5k+oF+UPf/hD1aMW5a6RJNzvFxE14U6blWkI1cdJcn7SQCCrBGQQyH0v6tmRzpoInJdnRxuTqc7U8rsabWjXDSzb6V7094ZcubR/T1h070h8HPcjY/+k22OPPRaplfSX61ZWjYa81x3+vo6qO2l3RD4SuTnY9JEGT1YjCquuuqr/WfHn888/7xr22pxKBka4l1A7TJ999tlutQdN0iolmjR9yimnRLr1aKdg+ewFy5uWSt7U49q9VqIVoYrFH/MPeHE4vyGQdwJq7KnB7Dc18zw0/K6V1/Lw7GhUVhtBqpNFc7/CdabnwWdPAt5Q8PVsOIY/luX7R/rLBaV4BUP1NGvvD72bsrw5YJ7rDtod4aed72ECLTMatMpR8XKo2pq+XM+FKmkt0ap5DFodpli0cZHmTQwdOrQ4qOu3jALtkKvdDotFy5f+/e9/j508XZymkb+l44477mhXXHGF08tfS40gzeFQj4g2fUMgAIGeBLSxm0Ymi0cv9fzrGdpjjz16JsrQEfUUbr755m5Ca6k6M0Pq1lUVrbCnCb/qYNLcOS9ieuGFFzquCy+8sD+cuU+tOta7d+8eS85ed911bhlrPVtZljzXHbQ7snxn16Zb092T4rJbvB52VFxNSlMlHidagzxO5K8n396zzjrL+Wz+6le/cvMiNBSrnXMVHrVMY9w5Gxl2wQUX2H333ed2IpVRpDkX8knWqMukSZPcZL1GXp9zQyCtBA488EC3G7J2gA8267Jgsz/nnqMdbuXKKLfGrMqMGTNc54f8z0eMGOHqjGJdg40zy3bUFKfJy281nDRXTh1Qw4cPt8MPP9zEVPv7aJnRrC/nrJEpvZNPPfVU10G32267uZUGx44d6yZI65nKsuS57lC50u7I8t2dXLeWGg1aC7mSilcTndXbXk9Rz32wo6dddNFF9uc//9mdWv7P6rVXg8KvDlHPayY914ABA9wKT+r52Hfffd1p5JOs3lLtY4FAAALRBOR3LVdI1R96XvQn2X777SP3MHCBGfknN8xXXnnFaaOGXpRodZxyo7tR6fJyTMuCy+V1zJgxponkEtXHWjRj0KBBmccgo0HLb+qdqD+J3IqvuuqqzM+LyXPdoXKm3SEKSDGBXtpiuvhg3G/tktnZ2RkXpaIwLY0a5R4UlVg9/1oZKYn4fRrkslRqBEK9R3KXkh+fKop6iTZdK3XNJNfQKh7PPvus21BHm+u0k2GTRJ9yaerNr9z12i08z/r7DQvr9fyomtPInHy0tSqM6pR2ljyXfT3Kpd789H6YOnWq279Hi3m0+4Zm9dZfk8G1J4NciFdaaSXntlSPcmrEOag7aHfUcl/Vq41bSx7aOW2fVmVu5MiRpr9Gy2qrrWY33XSTc+kpdS01vtPQANcKT3G7Y5fSj+MQyDsBdQbI0Pa7qOedB/pXR0D7NWiOQ15l8cUXN/3lUfJed9DuyONdX1rnlhkNpbNU35D+/fu7pQbre1bOBgEIQAACEIAABCAAgfwQaNnqSflBjKYQgAAEIAABCEAAAhBINwGMhnSXH7mHAAQgAAEIQAACEIBAwwlgNDQcMReAAAQgAAEIQAACEIBAuglgNKS7/Mg9BCAAAQhAAAIQgAAEGk4Ao6HhiLkABCAAAQhAAAIQgAAE0k0AoyHd5UfuIQABCEAAAhCAAAQg0HACGA0NR8wFIAABCEAAAhCAAAQgkG4CGA3pLj9yDwEIQAACEIAABCAAgYYTwGhoOGIuAAEIQAACEIAABCAAgXQTwGhId/mRewhAAAIQgAAEIAABCDScAEZDwxFzAQhAAAIQgAAEIAABCKSbAEZDusuP3EMAAhCAAAQgAAEIQKDhBDAaGo6YC0AAAhCAAAQgAAEIQCDdBDAa0l1+5B4CEIAABCAAAQhAAAINJ4DR0HDEXAACEIAABCAAAQhAAALpJoDRkO7yI/cQgAAEIAABCEAAAhBoOIFehUCqucq0adOqiU5cCEAAAhCAAAQgAAEIpIJAR0dHKvLZikz2qfaiM2fOtM7OzmqT5TK+DCxuvuRFn3d+edbfd07k9fnJc9knrzF+Tpl3fnnWn7qDdsfPNUH13yZPnlx9ohylwD0pR4WNqhCAAAQgAAEIQAACEEhCAKMhCTXSQAACEIAABCAAAQhAIEcEMBpyVNioCgEIQAACEIAABCAAgSQEMBqSUCMNBCAAAQhAAAIQgAAEckQAoyFHhY2qEIAABCAAAQhAAAIQSEIAoyEJNdJAAAIQgAAEIAABCEAgRwQwGnJU2KgKAQhAAAIQgAAEIACBJAQwGpJQIw0EIAABCEAAAhCAAARyRACjIUeFjaoQgAAEIAABCEAAAhBIQgCjIQk10kAAAhCAAAQgAAEIQCBHBDAaclTYqAoBCEAAAhCAAAQgAIEkBDAaklAjDQQgAAEIQAACEIAABHJEAKMhR4WNqhCAAAQgAAEIQAACEEhCAKMhCTXSQAACEIAABCAAAQhAIEcEMBpyVNioCgEIQAACEIAABCAAgSQEMm80fP/99/bJJ5/Yjz/+mIQPaSAAAQhAAAIQgAAEIJB7An1aRUAN+ffff7+iy88777w2aNCgiuIWR7r//vtts802sxdffNE6OjqKg/kNAQhAAAIQgAAEIAABCJQh0DKjYcKECXbYYYeVyd4/gnfZZRe7+uqrI+O+++67NmrUKDviiCNsnXXWiYxTycEffvjBnnzySRd16aWXtgUWWKCSZE2N880339jUqVNtwIABNnjw4KZeOwsXkwE5ZcoU69u3r22yySa28sorZ0GtinTQiNukSZPspZdesoUWWsi22WYbGzhwYEVpsxBJnRTSXx0Vyy67rG233XY222yzZUG1inSYNm2a3XPPPfb111/bWmutZUOHDq0oHZH+QYC6I791h+6Ap556ymaZZRZbddVVc/dI0O7IXZHHK1yoUh5++OEqU0RHP++88wpBzgo//fRT7N96661XCIyG6JMER1944QV3nhtvvDEyzt133+3Cg5GGyHB/8JRTTnHxlKcrrrjCH67ps9w1qzn5008/XVhhhRVcHvfdd99qkqY2bj35jRgxwrHr1atXVzmfeeaZbc2mXvoHDebC8ssv303/OeaYo6Bno11FutdL/4ceeqgQjFZ203/JJZcsBAZEu6pfN92l4NixYwv+vvefW2+9dSFw2Wxb/WvNWL3uHeWDuiO/dcfHH39c2HbbbV3dEXQ21HpbNiV9Pe/9PLY76tXGbUpht+AiLZ/TELzELO4v3uSpT6h67wOjwTo7O+tzwjqeJbgnLHjp29prr22BgVXHM+fnVOPHj7cbbrjBjjzySHvnnXfcaM0OO+xgY8aMcSMPWSdxyCGH2PTp023cuHH2+eef21133WVLLbWU7bXXXvbZZ59lWn31rO+5555udO62226zL774wi6//HI3z2m//fbLtO5S7rnnnrOjjjrKtthiC9dbqpGWE044wW6//XZXr2QeQI0KUnfkt+7QyJxGFiZPntyWngc13tqxyWl3xOLJd2C1hkq9rDA/0lDu+uVGGgKXItcLELg7RZ6q3EhD4JZUGDJkiOuJ9XHbaaTh9NNPd/odeuihBfUYB3drgZGGyKKOPPjee+8V5pprrsK6667bLTxoLBcWXHBBN3rTrj2u9egxuvXWW909c+yxx3bTX73vupeChnO34+3yQ7rXQ/+jjz7a6XnHHXd0U+2MM85wxwO3x27H2+VHPXSXLkFng7v/P/roo26qBfO8CrPOOmvhtdde63Y8Kz/qwY+6I791xwMPPODqh0033bQQuEC75yhPIw15bnfUq42blbq0WI+WzWnwptrBBx/sv0Z+vv7667H++6+++qpL9/LLL7tP+W4//vjjXecK3Je6vkd9Of/8811v84MPPuhGPKLitPKY/CiDhp8NHz7cvvrqq1ZmJZXXVi/Rl19+6XpXwwrMM888FhhidtJJJ9mbb75pgbtKODgz3++88053Xx933HHddFp//fUteCGawrMs0k+jdFtuuWU3NTUHKjAcnP6aM5VF0TwO1YWB4WT9+/fvpuKJJ55oQSeJyVdfo05ITwLUHfmtO/SuDdxXLehssd69W+6Q0fPmbPAR2h0NBpzi07fMaNAkVLkHqJEfJ4E/oQUjASWjBD53LsxPYp45c6ZtuOGGXfHjXHreeust56JywAEH2AYbbGCBhdmVrl2+jB49ul2yksp8aOKvJGrSsz+mSaJZNRqk/xJLLGFagaxYpP+9997rJscGcxyKg1P/W8++9N9111176DL77LPbMsssYyr7rEql935W9a9Vr0r5UXdkr+5QJ0NxR0Ot91Oa0tPuSFNpNTevLTMa1Mupv1rku+++c/7JgeuJ640PhtpNKx9pJSQv8kvUkqtRIl/v+eabz373u99FBXMsAwT04tecmUUXXbSHNn4FKsXZaquteoRn4YB0K9Wo8fprlG711VfPgrrddNAIkjolZDRFifRXT3tWxTd6o/Sff/75TaNtPk5WGdSil9hQd0SPwGa97qjlviEtBLJMoOlGQ+BrahdffHEipsXWvyY0ynAI/JVNhoOG3EstzVp8wZtvvtn0d/3117uXZ3E4v7NB4IMPPrB+/fpZnz49b/VgToNTstL9QtJIREsSl1qKOKx/Fo0Glb3E61lcfjquieBaUlAjD1mTSvTP8r1fa3lSd+S37qj13iE9BLJKoOnOehoF0AouUX9a1UWGQFSYjn377bdd5aC5CvJL1jCaRgsuvfRSu/baay2YYN0Vp9QXragif3YZIcFyeqWicTwDBNTLLt/u8L3j1VKDWpJln2654Hg9vd7+0x/Pqv5+hMXr6fX2nzquPSuyaDBIxzj9g8lt9vbbb2f63vflnPSTuiO/dUfSe4Z0EMg6gZ7drw3WeJVVVrHLLrss8ipyF5LhUCrcJ5IbkjZnUu/oQQcd5A5rYue5557rDAn1HGoCk4aWo+Sss85yk19/+9vf2hNPPNEVxfs3a3lKbQIW7Itgc889d1c4X9JHINifwGVa81eWW265bgq88cYb7reP0y0wIz+k22OPPRapjfTXM5JVo0EGgVxw5KYUJdI/62UvvaP0//DDD53rVpb1jyrzao55NtQdPallve7oqTFHIAABEWj6SIPHrhGFJLsrPv/8825i9CKLLOIMjHAvoXaYPvvss00rxWiCZynR2uWSkSNHupVVtLqK/n7961+749qz4Re/+IVb19wd4F9qCXhD4ZFHHumhgz/mGwc9ImTggPSXC4pWIQuLepofffRRtztysPRmOChT36W/OgCCZXW76SXXE628luWy187XEn+fhwH4Y1nWP6xvku/UHfmuO5LcM6SBQNYJtMxo0CpHxcuhDhw4sGyvp15yWqZV8xiC9fd7lI+WF9S8iaFDh/YI8wdOPvlk0wTp4r8//vGPLopGKfzGLj4Nn+kksPHGG5sm7ckQ1PwXL+p9vfDCC23zzTe3hRde2B/O3KdWDtKSgdrQKyzXXXedPfPMM27js/DxrH3Xxm4amSwevVQdIENijz32yJrKXfqoftxxxx0t2HfG1Yk+QHpr/pdGYrTpGxJNgLoj33VH9F3BUQjkm0DT3ZPicBc3bKLiakKrGoBx0tHRERdscpGKEt/juuKKK8YaHVFpOdaeBNRw0nwXGZHa6+Lwww+3GTNm2DnnnGNaZvSSSy5pz4zXKVdy4dNzdeqppzoje7fddjPtSaJdxjVB+phjjqnTldrzNAceeKBNnDjR6Rls1mXDhg2za665xu2OrTlRcmvMslxwwQV23333mXZAV4fKYostZtqbRiO2kyZNcosEZFn/WnSj7sh33VHLvUNaCGSVQEuNBq2jXkmjTROd1WOGQCAJAS3tK7e1MWPGuBEknWPAgAF25ZVX2qBBg5KcMlVpZDRo+chx48a5P2VeroFXXXWVaROfLIvmbMgVUvWHRhf0J9l+++3d5m7uR4b/6T6fMGGCG1EKdpJ3mqrMxUF74CDxBKg78lt3xN8ZhEIgnwRaZjTIJUQ9nePHjy9LXqtYNMNo2GijjUy+3u0qc845Z1vnr125KV+jRo2yffbZx6ZOnWp9+/Z1o01Z3NAsqgw0gqaVxWQ4aU8GuQGutNJKudnpVO5pmgyu3nXN79CKUn5loSheWTsmFzwt7vDss8+6jfy0qV+pZWizpns99KHuyG/d4e+fUotJ+PAsf9LuyHLpVq9by4wGTULWX6NltdVWs5tuuskNyzf6Wpy/vQlovwb5KedVFl98cdNfHkUjDmos+13A88ZAhvKQIUPypnbd9KXuyG/dUbebiBNBIAMEWmY0NItd//793fKszboe14EABCAAAQhAAAIQgEDWCLRs9aSsgUQfCEAAAhCAAAQgAAEIZJUARkNWSxa9IAABCEAAAhCAAAQgUCcCGA11AslpIAABCEAAAhCAAAQgkFUCGA1ZLVn0ggAEIAABCEAAAhCAQJ0IYDTUCSSngQAEIAABCEAAAhCAQFYJYDRktWTRCwIQgAAEIAABCEAAAnUigNFQJ5CcBgIQgAAEIAABCEAAAlklgNGQ1ZJFLwhAAAIQgAAEIAABCNSJAEZDnUByGghAAAIQgAAEIAABCGSVAEZDVksWvSAAAQhAAAIQgAAEIFAnAhgNdQLJaSAAAQhAAAIQgAAEIJBVAhgNWS1Z9IIABCAAAQhAAAIQgECdCGA01Akkp4EABCAAAQhAAAIQgEBWCWA0ZLVk0QsCEIAABCAAAQhAAAJ1IoDRUCeQnAYCEIAABCAAAQhAAAJZJYDRkNWSRS8IQAACEIAABCAAAQjUiUCvQiDVnGvy5MnVRM913H79+tnMmTNzzaAW5fPOL8/6S3dJXp+fPJd9LXWGT5t3fnnWn7qDdoevB5J+dnZ2Jk2a+XSMNGS+iFEQAhCAAAQgAAEIQAACtRGoeqShtsuRGgIQgAAEIAABCEAAAhBIGwFGGtJWYuQXAhCAAAQgAAEIQAACTSaA0dBk4FwOAhCAAAQgAAEIQAACaSOA0ZC2EiO/EIAABCAAAQhAAAIQaDIBjIYmA+dyEIAABCAAAQhAAAIQSBsBjIa0lRj5hQAEIAABCEAAAhCAQJMJYDQ0GTiXgwAEIAABCEAAAhCAQNoIYDSkrcTILwQgAAEIQAACEIAABJpMAKOhycC5HAQgAAEIQAACEIAABNJGAKMhbSVGfiEAAQhAAAIQgAAEINBkAhgNTQbO5SAAAQhAAAIQgAAEIJA2AhgNaSsx8gsBCEAAAhCAAAQgAIEmE8BoaDJwLgcBCEAAAhCAAAQgAIG0EcBoSFuJkV8IQAACEIAABCAAAQg0mQBGQ5OBczkIQAACEIAABCAAAQikjQBGQ9pKjPxCAAIQgAAEIAABCECgyQQwGpoMnMtBAAIQgAAEIAABCEAgbQQwGtJWYuQXAhCAAAQgAAEIQAACTSaA0dBk4FwOAhCAAAQgAAEIQAACaSOA0ZC2EiO/EIAABCAAAQhAAAIQaDIBjIYmA+dyEIAABCAAAQhAAAIQSBsBjIa0lRj5hQAEIAABCEAAAhCAQJMJYDQ0GTiXgwAEIAABCEAAAhCAQNoIYDSkrcTILwQgAAEIQAACEIAABJpMAKOhycC5HAQgAAEIQAACEIAABNJG4P8BuYGmGvX4zfgAAAAASUVORK5CYII=)\n",
        "\n",
        "References : https://wikidocs.net/24949"
      ],
      "metadata": {
        "id": "aYg0N0rkwZlD"
      }
    },
    {
      "cell_type": "markdown",
      "source": [
        "##### 1. Full SVD"
      ],
      "metadata": {
        "id": "mdISgKDS-LVH"
      }
    },
    {
      "cell_type": "code",
      "source": [
        "import numpy as np"
      ],
      "metadata": {
        "id": "sc8cCxOOnBZG"
      },
      "execution_count": 7,
      "outputs": []
    },
    {
      "cell_type": "markdown",
      "source": [
        "위와 같은 DTM을 실제로 파이썬을 통해서 만들면 다음과 같다.\n"
      ],
      "metadata": {
        "id": "PRc8s_uC-T1K"
      }
    },
    {
      "cell_type": "code",
      "source": [
        "A = np.array([[0,0,0,1,0,1,1,0,0],[0,0,0,1,1,0,1,0,0],[0,1,1,0,2,0,0,0,0],[1,0,0,0,0,0,0,1,1]])\n",
        "print('DTM의 크기(shape) :', np.shape(A))\n",
        "print(A)"
      ],
      "metadata": {
        "colab": {
          "base_uri": "https://localhost:8080/"
        },
        "id": "12Gxidx3-Nm5",
        "outputId": "66af834e-9e56-473a-c7b3-903a4cb44fa1"
      },
      "execution_count": 10,
      "outputs": [
        {
          "output_type": "stream",
          "name": "stdout",
          "text": [
            "DTM의 크기(shape) : (4, 9)\n",
            "[[0 0 0 1 0 1 1 0 0]\n",
            " [0 0 0 1 1 0 1 0 0]\n",
            " [0 1 1 0 2 0 0 0 0]\n",
            " [1 0 0 0 0 0 0 1 1]]\n"
          ]
        }
      ]
    },
    {
      "cell_type": "markdown",
      "source": [
        "4 × 9의 크기를 가지는 DTM이 생성되었. 이에 대해서 풀 SVD(full SVD)를 수행해보자. 단, 여기서는 대각 행렬의 변수명을 Σ가 아니라 S를 사용한다. 또한 V의 전치 행렬을 VT라고 하자. 소수점의 길이가 너무 길게 출력하면 보기 힘들어서 두번째 자리까지만 출력하기위해서 .round(2)를 사용한다."
      ],
      "metadata": {
        "id": "jULgtitz-bdO"
      }
    },
    {
      "cell_type": "code",
      "source": [
        "U, s, VT = np.linalg.svd(A, full_matrices = True)\n",
        "print('행렬 U :')\n",
        "print(U.round(2))\n",
        "print('행렬 U의 크기(shape) :',np.shape(U))"
      ],
      "metadata": {
        "colab": {
          "base_uri": "https://localhost:8080/"
        },
        "id": "HN6NLde_-ZMe",
        "outputId": "4f9e1f10-bf45-434c-a38e-7389c7fc560d"
      },
      "execution_count": 9,
      "outputs": [
        {
          "output_type": "stream",
          "name": "stdout",
          "text": [
            "행렬 U :\n",
            "[[-0.24  0.75  0.   -0.62]\n",
            " [-0.51  0.44 -0.    0.74]\n",
            " [-0.83 -0.49 -0.   -0.27]\n",
            " [-0.   -0.    1.    0.  ]]\n",
            "행렬 U의 크기(shape) : (4, 4)\n"
          ]
        }
      ]
    },
    {
      "cell_type": "markdown",
      "source": [
        "4 × 4의 크기를 가지는 직교 행렬 U가 생성되었다. 이제 대각 행렬 S를 확인해보자."
      ],
      "metadata": {
        "id": "Jz4lXCD9-thO"
      }
    },
    {
      "cell_type": "code",
      "source": [
        "print('특이값 벡터 :')\n",
        "print(s.round(2))\n",
        "print('특이값 벡터의 크기(shape) :',np.shape(s))"
      ],
      "metadata": {
        "colab": {
          "base_uri": "https://localhost:8080/"
        },
        "id": "FPw1sRwf-kH2",
        "outputId": "afb979ae-85d9-40d1-f2f2-4e35e1776c62"
      },
      "execution_count": 11,
      "outputs": [
        {
          "output_type": "stream",
          "name": "stdout",
          "text": [
            "특이값 벡터 :\n",
            "[2.69 2.05 1.73 0.77]\n",
            "특이값 벡터의 크기(shape) : (4,)\n"
          ]
        }
      ]
    },
    {
      "cell_type": "markdown",
      "source": [
        "Numpy의 linalg.svd()는 특이값 분해의 결과로 대각 행렬이 아니라 특이값의 리스트를 반환한다. 그러므로 앞서 본 수식의 형식으로 보려면 이를 다시 대각 행렬로 바꾸어 주어야 한다. 우선 특이값을 s에 저장하고 대각 행렬 크기의 행렬을 생성한 후에 그 행렬에 특이값을 삽입해보자."
      ],
      "metadata": {
        "id": "_XsV1dSV-z3T"
      }
    },
    {
      "cell_type": "code",
      "source": [
        "# 대각 행렬의 크기인 4 x 9의 임의의 행렬 생성\n",
        "S = np.zeros((4, 9))\n",
        "\n",
        "# 특이값을 대각행렬에 삽입\n",
        "S[:4, :4] = np.diag(s)\n",
        "\n",
        "print('대각 행렬 S :')\n",
        "print(S.round(2))\n",
        "\n",
        "print('대각 행렬의 크기(shape) :')\n",
        "print(np.shape(S))\n"
      ],
      "metadata": {
        "colab": {
          "base_uri": "https://localhost:8080/"
        },
        "id": "cL_bmHqm-xFZ",
        "outputId": "a2f8441a-bcfe-4a15-ca45-19ec816aa673"
      },
      "execution_count": 12,
      "outputs": [
        {
          "output_type": "stream",
          "name": "stdout",
          "text": [
            "대각 행렬 S :\n",
            "[[2.69 0.   0.   0.   0.   0.   0.   0.   0.  ]\n",
            " [0.   2.05 0.   0.   0.   0.   0.   0.   0.  ]\n",
            " [0.   0.   1.73 0.   0.   0.   0.   0.   0.  ]\n",
            " [0.   0.   0.   0.77 0.   0.   0.   0.   0.  ]]\n",
            "대각 행렬의 크기(shape) :\n",
            "(4, 9)\n"
          ]
        }
      ]
    },
    {
      "cell_type": "markdown",
      "source": [
        "4 × 9의 크기를 가지는 대각 행렬 S가 생성되었다. 2.69 > 2.05 > 1.73 > 0.77 순으로 값이 내림차순을 보이는 것을 확인할 수 있다."
      ],
      "metadata": {
        "id": "u1OvK4Yv_E-P"
      }
    },
    {
      "cell_type": "code",
      "source": [
        "print('직교행렬 VT :')\n",
        "print(VT.round(2))\n",
        "\n",
        "print('직교 행렬 VT의 크기(shape) :')\n",
        "print(np.shape(VT))"
      ],
      "metadata": {
        "colab": {
          "base_uri": "https://localhost:8080/"
        },
        "id": "skx8AUks_CqB",
        "outputId": "2f579872-6855-4b4e-d4af-562043e27eeb"
      },
      "execution_count": 13,
      "outputs": [
        {
          "output_type": "stream",
          "name": "stdout",
          "text": [
            "직교행렬 VT :\n",
            "[[-0.   -0.31 -0.31 -0.28 -0.8  -0.09 -0.28 -0.   -0.  ]\n",
            " [ 0.   -0.24 -0.24  0.58 -0.26  0.37  0.58 -0.   -0.  ]\n",
            " [ 0.58 -0.    0.    0.   -0.    0.   -0.    0.58  0.58]\n",
            " [ 0.   -0.35 -0.35  0.16  0.25 -0.8   0.16 -0.   -0.  ]\n",
            " [-0.   -0.78 -0.01 -0.2   0.4   0.4  -0.2   0.    0.  ]\n",
            " [-0.29  0.31 -0.78 -0.24  0.23  0.23  0.01  0.14  0.14]\n",
            " [-0.29 -0.1   0.26 -0.59 -0.08 -0.08  0.66  0.14  0.14]\n",
            " [-0.5  -0.06  0.15  0.24 -0.05 -0.05 -0.19  0.75 -0.25]\n",
            " [-0.5  -0.06  0.15  0.24 -0.05 -0.05 -0.19 -0.25  0.75]]\n",
            "직교 행렬 VT의 크기(shape) :\n",
            "(9, 9)\n"
          ]
        }
      ]
    },
    {
      "cell_type": "markdown",
      "source": [
        "9 × 9의 크기를 가지는 직교 행렬 VT(V의 전치 행렬)가 생성되었다. 즉, U × S × VT를 하면 기존의 행렬 A가 나와야 한다. Numpy의 allclose()는 2개의 행렬이 동일하면 True를 리턴한다. 이를 사용하여 정말로 기존의 행렬 A와 동일한지 확인해보자!"
      ],
      "metadata": {
        "id": "tnwd2GSG_KhS"
      }
    },
    {
      "cell_type": "code",
      "source": [
        "np.allclose(A, np.dot(np.dot(U,S), VT))"
      ],
      "metadata": {
        "colab": {
          "base_uri": "https://localhost:8080/"
        },
        "id": "ttiX3of0_IJq",
        "outputId": "126f1ae3-ee66-455d-9a67-9e7e4c603858"
      },
      "execution_count": 17,
      "outputs": [
        {
          "output_type": "execute_result",
          "data": {
            "text/plain": [
              "True"
            ]
          },
          "metadata": {},
          "execution_count": 17
        }
      ]
    },
    {
      "cell_type": "code",
      "source": [],
      "metadata": {
        "id": "Dj-eWTpn_UfD"
      },
      "execution_count": null,
      "outputs": []
    },
    {
      "cell_type": "markdown",
      "source": [
        "##### 2. 절단된 SVD(Truncated SVD)"
      ],
      "metadata": {
        "id": "Hp1n-26h_kyW"
      }
    },
    {
      "cell_type": "markdown",
      "source": [
        "지금까지 수행한 것은 풀 SVD(Full SVD)이다. 이제 t를 정하고, 절단된 SVD(Truncated SVD)를 수행해보자. 여기서는 t=2로 한다. 우선 대각 행렬 S 내의 특이값 중에서 상위 2개만 남기고 제거해보도록 하자."
      ],
      "metadata": {
        "id": "M4zO9e2W_pN1"
      }
    },
    {
      "cell_type": "code",
      "source": [
        "# 특이값 상위 2개만 보존\n",
        "S = S[:2,:2]\n",
        "\n",
        "print('대각 행렬 S :')\n",
        "print(S.round(2))"
      ],
      "metadata": {
        "colab": {
          "base_uri": "https://localhost:8080/"
        },
        "id": "Goj00LOF_ngL",
        "outputId": "f234e69e-fef1-47fd-85a9-0e38c002cec6"
      },
      "execution_count": 18,
      "outputs": [
        {
          "output_type": "stream",
          "name": "stdout",
          "text": [
            "대각 행렬 S :\n",
            "[[2.69 0.  ]\n",
            " [0.   2.05]]\n"
          ]
        }
      ]
    },
    {
      "cell_type": "markdown",
      "source": [
        "상위 2개의 값만 남기고 나머지는 모두 제거된 것을 볼 수 있다. 이제 직교 행렬 U에 대해서도 2개의 열만 남기고 제거한다."
      ],
      "metadata": {
        "id": "RsYPgFrd_5kF"
      }
    },
    {
      "cell_type": "code",
      "source": [
        "U = U[:,:2]\n",
        "print('행렬 U :')\n",
        "print(U.round(2))"
      ],
      "metadata": {
        "colab": {
          "base_uri": "https://localhost:8080/"
        },
        "id": "QeXihtaI_4EY",
        "outputId": "c5ac4596-32e2-4fe5-bcd0-c1fa95040fca"
      },
      "execution_count": 19,
      "outputs": [
        {
          "output_type": "stream",
          "name": "stdout",
          "text": [
            "행렬 U :\n",
            "[[-0.24  0.75]\n",
            " [-0.51  0.44]\n",
            " [-0.83 -0.49]\n",
            " [-0.   -0.  ]]\n"
          ]
        }
      ]
    },
    {
      "cell_type": "markdown",
      "source": [
        "2개의 열만 남기고 모두 제거가 된 것을 볼 수 있다. 이제 행렬 V의 전치 행렬인 VT에 대해서 2개의 행만 남기고 제거한다. 이는 V관점에서는 2개의 열만 남기고 제거한 것이 된다."
      ],
      "metadata": {
        "id": "oiWq9to9ABPQ"
      }
    },
    {
      "cell_type": "code",
      "source": [
        "VT = VT[:2,:]\n",
        "print('직교행렬 VT :')\n",
        "print(VT.round(2))"
      ],
      "metadata": {
        "colab": {
          "base_uri": "https://localhost:8080/"
        },
        "id": "HNamONVs__2Q",
        "outputId": "afdfb8a0-472c-4ad2-f206-139cd1d6da2e"
      },
      "execution_count": 20,
      "outputs": [
        {
          "output_type": "stream",
          "name": "stdout",
          "text": [
            "직교행렬 VT :\n",
            "[[-0.   -0.31 -0.31 -0.28 -0.8  -0.09 -0.28 -0.   -0.  ]\n",
            " [ 0.   -0.24 -0.24  0.58 -0.26  0.37  0.58 -0.   -0.  ]]\n"
          ]
        }
      ]
    },
    {
      "cell_type": "markdown",
      "source": [
        "이제 축소된 행렬 U, S, VT에 대해서 다시 U × S × VT연산을 하면 기존의 A와는 다른 결과가 나오게 된다. 값이 손실되었기 때문에 이 세 개의 행렬로는 이제 기존의 A행렬을 복구할 수 없다. U × S × VT연산을 해서 나오는 값을 A_prime이라 하고 기존의 행렬 A와 값을 비교해보자."
      ],
      "metadata": {
        "id": "JHjSlI0vAGoy"
      }
    },
    {
      "cell_type": "code",
      "source": [
        "A_prime = np.dot(np.dot(U,S), VT)\n",
        "print(A)\n",
        "print(A_prime.round(2))"
      ],
      "metadata": {
        "colab": {
          "base_uri": "https://localhost:8080/"
        },
        "id": "u2CceHCMAFAG",
        "outputId": "14ac104a-3f7c-4176-81df-f7c89a708b3e"
      },
      "execution_count": 21,
      "outputs": [
        {
          "output_type": "stream",
          "name": "stdout",
          "text": [
            "[[0 0 0 1 0 1 1 0 0]\n",
            " [0 0 0 1 1 0 1 0 0]\n",
            " [0 1 1 0 2 0 0 0 0]\n",
            " [1 0 0 0 0 0 0 1 1]]\n",
            "[[ 0.   -0.17 -0.17  1.08  0.12  0.62  1.08 -0.   -0.  ]\n",
            " [ 0.    0.2   0.2   0.91  0.86  0.45  0.91  0.    0.  ]\n",
            " [ 0.    0.93  0.93  0.03  2.05 -0.17  0.03  0.    0.  ]\n",
            " [ 0.    0.    0.    0.    0.    0.    0.    0.    0.  ]]\n"
          ]
        }
      ]
    },
    {
      "cell_type": "markdown",
      "source": [
        "대체적으로 기존에 0인 값들은 0에 가가운 값이 나오고, 1인 값들은 1에 가까운 값이 나오는 것을 볼 수 있다. 또한 값이 제대로 복구되지 않은 구간도 존재해보인다. 이제 이렇게 차원이 축소된 U, S, VT의 크기가 어떤 의미를 가지고 있는지 알아보자.\n",
        "\n",
        "축소된 U는 4 × 2의 크기를 가지는데, 이는 잘 생각해보면 문서의 개수 × 토픽의 수 t의 크기다. 단어의 개수인 9는 유지되지 않는데 문서의 개수인 4의 크기가 유지되었으니 4개의 문서 각각을 2개의 값으로 표현하고 있다. 즉, U의 각 행은 잠재 의미를 표현하기 위한 수치화 된 각각의 문서 벡터라고 볼 수 있다. 축소된 VT는 2 × 9의 크기를 가지는데, 이는 잘 생각해보면 토픽의 수 t × 단어의 개수의 크기다. VT의 각 열은 잠재 의미를 표현하기 위해 수치화된 각각의 단어 벡터라고 볼 수 있다.\n",
        "\n",
        "이 문서 벡터들과 단어 벡터들을 통해 다른 문서의 유사도, 다른 단어의 유사도, 단어(쿼리)로부터 문서의 유사도를 구하는 것들이 가능해진다.\n",
        "\n"
      ],
      "metadata": {
        "id": "81aD8ayiAWKj"
      }
    },
    {
      "cell_type": "markdown",
      "source": [
        "#### LSA 실습\n",
        "사이킷런에서는 Twenty Newsgroups이라고 불리는 20개의 다른 주제를 가진 뉴스그룹 데이터를 제공한다. 앞서 언급했듯이 LSA가 토픽 모델링에 최적화 된 알고리즘은 아니지만, 토픽 모델링이라는 분야의 시초가 되는 알고리즘이다. 여기서는 LSA를 사용해서 문서의 수를 원하는 토픽의 수로 압축한 뒤에 각 토픽당 가장 중요한 단어 5개를 출력하는 실습으로 토픽 모델링을 수행한다.\n",
        "\n",
        "- 뉴스그룹 데이터는 뉴스 데이터가 아니다."
      ],
      "metadata": {
        "id": "iUKgwK4JBFCU"
      }
    },
    {
      "cell_type": "markdown",
      "source": [
        "##### 1. 뉴스그룹 데이터에 대한 이해"
      ],
      "metadata": {
        "id": "JehhxDBHBW8q"
      }
    },
    {
      "cell_type": "code",
      "source": [
        "import pandas as pd\n",
        "from sklearn.datasets import fetch_20newsgroups\n",
        "import nltk\n",
        "from nltk.corpus import stopwords\n",
        "from sklearn.feature_extraction.text import TfidfVectorizer\n",
        "from sklearn.decomposition import TruncatedSVD\n",
        "\n",
        "dataset = fetch_20newsgroups(shuffle=True, random_state=1, remove=('headers', 'footers', 'quotes'))\n",
        "documents = dataset.data\n",
        "print('샘플의 수 :',len(documents))"
      ],
      "metadata": {
        "colab": {
          "base_uri": "https://localhost:8080/"
        },
        "id": "_BYeiAQ9ASk_",
        "outputId": "976d7de6-099f-46c7-c5ca-b23ea2fe4100"
      },
      "execution_count": 22,
      "outputs": [
        {
          "output_type": "stream",
          "name": "stdout",
          "text": [
            "샘플의 수 : 11314\n"
          ]
        }
      ]
    },
    {
      "cell_type": "markdown",
      "source": [
        "훈련에 사용할 뉴스그룹 데이터는 총 11,314개이다. 이 중 첫번째 훈련용 샘플을 출력해보자."
      ],
      "metadata": {
        "id": "Z5mGAODnBolR"
      }
    },
    {
      "cell_type": "code",
      "source": [
        "documents[0]"
      ],
      "metadata": {
        "colab": {
          "base_uri": "https://localhost:8080/",
          "height": 232
        },
        "id": "4SsKyhwjBjjm",
        "outputId": "1766e472-f819-4d26-90ea-8ab5ba6f8ce6"
      },
      "execution_count": 23,
      "outputs": [
        {
          "output_type": "execute_result",
          "data": {
            "text/plain": [
              "\"Well i'm not sure about the story nad it did seem biased. What\\nI disagree with is your statement that the U.S. Media is out to\\nruin Israels reputation. That is rediculous. The U.S. media is\\nthe most pro-israeli media in the world. Having lived in Europe\\nI realize that incidences such as the one described in the\\nletter have occured. The U.S. media as a whole seem to try to\\nignore them. The U.S. is subsidizing Israels existance and the\\nEuropeans are not (at least not to the same degree). So I think\\nthat might be a reason they report more clearly on the\\natrocities.\\n\\tWhat is a shame is that in Austria, daily reports of\\nthe inhuman acts commited by Israeli soldiers and the blessing\\nreceived from the Government makes some of the Holocaust guilt\\ngo away. After all, look how the Jews are treating other races\\nwhen they got power. It is unfortunate.\\n\""
            ],
            "application/vnd.google.colaboratory.intrinsic+json": {
              "type": "string"
            }
          },
          "metadata": {},
          "execution_count": 23
        }
      ]
    },
    {
      "cell_type": "markdown",
      "source": [
        "뉴스그룹 데이터에는 특수문자가 포함된 다수의 영어문장으로 구성되어져 있다. 이런 형식의 샘플이 총 11,314개 존재한다. 사이킷런이 제공하는 뉴스그룹 데이터에서 target_name에는 본래 이 뉴스그룹 데이터가 어떤 20개의 카테고리를 갖고있었는지가 저장되어져 있다."
      ],
      "metadata": {
        "id": "xKMsU52QBwKp"
      }
    },
    {
      "cell_type": "code",
      "source": [
        "print(len(dataset.target_names))"
      ],
      "metadata": {
        "colab": {
          "base_uri": "https://localhost:8080/"
        },
        "id": "6H51zuKcBt3z",
        "outputId": "833426d2-b1c3-4b9b-c6af-4907b70182a6"
      },
      "execution_count": 25,
      "outputs": [
        {
          "output_type": "stream",
          "name": "stdout",
          "text": [
            "20\n"
          ]
        }
      ]
    },
    {
      "cell_type": "markdown",
      "source": [
        "##### 2. 텍스트 전처리\n",
        "시작하기 앞서, 텍스트 데이터에 대해서 가능한한 정제 과정을 거쳐야만 한다. 기본적인 아이디어는 알파벳을 제외한 구두점, 숫자, 특수 문자를 제거하는 것이다. 또한 짧은 단어는 유용한 정보를 담고있지 않다고 가정하고, 길이가 짧은 단어도 제거한다. 그리고 마지막으로 모든 알파벳을 소문자로 바꿔서 단어의 개수를 줄이는 작업을 한다."
      ],
      "metadata": {
        "id": "NfCbIWtaCLOO"
      }
    },
    {
      "cell_type": "code",
      "source": [
        "news_df = pd.DataFrame({'document':documents})\n",
        "print(news_df)\n",
        "# 특수 문자 제거\n",
        "news_df['clean_doc'] = news_df['document'].str.replace(\"[^a-zA-Z]\", \" \")\n",
        "# 길이가 3이하인 단어는 제거 (길이가 짧은 단어 제거)\n",
        "news_df['clean_doc'] = news_df['clean_doc'].apply(lambda x: ' '.join([w for w in x.split() if len(w)>3]))\n",
        "# 전체 단어에 대한 소문자 변환\n",
        "news_df['clean_doc'] = news_df['clean_doc'].apply(lambda x: x.lower())"
      ],
      "metadata": {
        "colab": {
          "base_uri": "https://localhost:8080/"
        },
        "id": "LwK1mw62CCD5",
        "outputId": "9dcd3c7c-afe7-43f4-eb55-b8bc2c772e72"
      },
      "execution_count": 26,
      "outputs": [
        {
          "output_type": "stream",
          "name": "stdout",
          "text": [
            "                                                document\n",
            "0      Well i'm not sure about the story nad it did s...\n",
            "1      \\n\\n\\n\\n\\n\\n\\nYeah, do you expect people to re...\n",
            "2      Although I realize that principle is not one o...\n",
            "3      Notwithstanding all the legitimate fuss about ...\n",
            "4      Well, I will have to change the scoring on my ...\n",
            "...                                                  ...\n",
            "11309  Danny Rubenstein, an Israeli journalist, will ...\n",
            "11310                                                 \\n\n",
            "11311  \\nI agree.  Home runs off Clemens are always m...\n",
            "11312  I used HP DeskJet with Orange Micros Grappler ...\n",
            "11313                                        ^^^^^^\\n...\n",
            "\n",
            "[11314 rows x 1 columns]\n"
          ]
        },
        {
          "output_type": "stream",
          "name": "stderr",
          "text": [
            "/usr/local/lib/python3.7/dist-packages/ipykernel_launcher.py:4: FutureWarning: The default value of regex will change from True to False in a future version.\n",
            "  after removing the cwd from sys.path.\n"
          ]
        }
      ]
    },
    {
      "cell_type": "markdown",
      "source": [
        "데이터의 정제가 끝났다. 다시 첫번째 훈련용 뉴스그룹 샘플만 출력하여 정제 전, 후에 어떤 차이가 있는지 확인해보자."
      ],
      "metadata": {
        "id": "2TubAGFjCgTs"
      }
    },
    {
      "cell_type": "code",
      "source": [
        "news_df['clean_doc'][1]"
      ],
      "metadata": {
        "colab": {
          "base_uri": "https://localhost:8080/",
          "height": 107
        },
        "id": "5BNwCCmaCeVm",
        "outputId": "515368dc-4c10-4e14-845d-7baa85272ac4"
      },
      "execution_count": 27,
      "outputs": [
        {
          "output_type": "execute_result",
          "data": {
            "text/plain": [
              "'yeah expect people read actually accept hard atheism need little leap faith jimmy your logic runs steam sorry pity sorry that have these feelings denial about faith need well just pretend that will happily ever after anyway maybe start newsgroup atheist hard bummin much forget your flintstone chewables bake timmons'"
            ],
            "application/vnd.google.colaboratory.intrinsic+json": {
              "type": "string"
            }
          },
          "metadata": {},
          "execution_count": 27
        }
      ]
    },
    {
      "cell_type": "code",
      "source": [
        "news_df"
      ],
      "metadata": {
        "colab": {
          "base_uri": "https://localhost:8080/",
          "height": 589
        },
        "id": "4BtBo4FcDx-J",
        "outputId": "09acf4a8-7fed-4458-a139-c68ca3791e06"
      },
      "execution_count": 30,
      "outputs": [
        {
          "output_type": "execute_result",
          "data": {
            "text/plain": [
              "                                                document  \\\n",
              "0      Well i'm not sure about the story nad it did s...   \n",
              "1      \\n\\n\\n\\n\\n\\n\\nYeah, do you expect people to re...   \n",
              "2      Although I realize that principle is not one o...   \n",
              "3      Notwithstanding all the legitimate fuss about ...   \n",
              "4      Well, I will have to change the scoring on my ...   \n",
              "...                                                  ...   \n",
              "11309  Danny Rubenstein, an Israeli journalist, will ...   \n",
              "11310                                                 \\n   \n",
              "11311  \\nI agree.  Home runs off Clemens are always m...   \n",
              "11312  I used HP DeskJet with Orange Micros Grappler ...   \n",
              "11313                                        ^^^^^^\\n...   \n",
              "\n",
              "                                               clean_doc  \n",
              "0      well sure about story seem biased what disagre...  \n",
              "1      yeah expect people read actually accept hard a...  \n",
              "2      although realize that principle your strongest...  \n",
              "3      notwithstanding legitimate fuss about this pro...  \n",
              "4      well will have change scoring playoff pool unf...  \n",
              "...                                                  ...  \n",
              "11309  danny rubenstein israeli journalist will speak...  \n",
              "11310                                                     \n",
              "11311  agree home runs clemens always memorable kinda...  \n",
              "11312  used deskjet with orange micros grappler syste...  \n",
              "11313  argument with murphy scared hell when came las...  \n",
              "\n",
              "[11314 rows x 2 columns]"
            ],
            "text/html": [
              "\n",
              "  <div id=\"df-59f28845-bc2e-4dbe-91cf-cbdea3a5e843\">\n",
              "    <div class=\"colab-df-container\">\n",
              "      <div>\n",
              "<style scoped>\n",
              "    .dataframe tbody tr th:only-of-type {\n",
              "        vertical-align: middle;\n",
              "    }\n",
              "\n",
              "    .dataframe tbody tr th {\n",
              "        vertical-align: top;\n",
              "    }\n",
              "\n",
              "    .dataframe thead th {\n",
              "        text-align: right;\n",
              "    }\n",
              "</style>\n",
              "<table border=\"1\" class=\"dataframe\">\n",
              "  <thead>\n",
              "    <tr style=\"text-align: right;\">\n",
              "      <th></th>\n",
              "      <th>document</th>\n",
              "      <th>clean_doc</th>\n",
              "    </tr>\n",
              "  </thead>\n",
              "  <tbody>\n",
              "    <tr>\n",
              "      <th>0</th>\n",
              "      <td>Well i'm not sure about the story nad it did s...</td>\n",
              "      <td>well sure about story seem biased what disagre...</td>\n",
              "    </tr>\n",
              "    <tr>\n",
              "      <th>1</th>\n",
              "      <td>\\n\\n\\n\\n\\n\\n\\nYeah, do you expect people to re...</td>\n",
              "      <td>yeah expect people read actually accept hard a...</td>\n",
              "    </tr>\n",
              "    <tr>\n",
              "      <th>2</th>\n",
              "      <td>Although I realize that principle is not one o...</td>\n",
              "      <td>although realize that principle your strongest...</td>\n",
              "    </tr>\n",
              "    <tr>\n",
              "      <th>3</th>\n",
              "      <td>Notwithstanding all the legitimate fuss about ...</td>\n",
              "      <td>notwithstanding legitimate fuss about this pro...</td>\n",
              "    </tr>\n",
              "    <tr>\n",
              "      <th>4</th>\n",
              "      <td>Well, I will have to change the scoring on my ...</td>\n",
              "      <td>well will have change scoring playoff pool unf...</td>\n",
              "    </tr>\n",
              "    <tr>\n",
              "      <th>...</th>\n",
              "      <td>...</td>\n",
              "      <td>...</td>\n",
              "    </tr>\n",
              "    <tr>\n",
              "      <th>11309</th>\n",
              "      <td>Danny Rubenstein, an Israeli journalist, will ...</td>\n",
              "      <td>danny rubenstein israeli journalist will speak...</td>\n",
              "    </tr>\n",
              "    <tr>\n",
              "      <th>11310</th>\n",
              "      <td>\\n</td>\n",
              "      <td></td>\n",
              "    </tr>\n",
              "    <tr>\n",
              "      <th>11311</th>\n",
              "      <td>\\nI agree.  Home runs off Clemens are always m...</td>\n",
              "      <td>agree home runs clemens always memorable kinda...</td>\n",
              "    </tr>\n",
              "    <tr>\n",
              "      <th>11312</th>\n",
              "      <td>I used HP DeskJet with Orange Micros Grappler ...</td>\n",
              "      <td>used deskjet with orange micros grappler syste...</td>\n",
              "    </tr>\n",
              "    <tr>\n",
              "      <th>11313</th>\n",
              "      <td>^^^^^^\\n...</td>\n",
              "      <td>argument with murphy scared hell when came las...</td>\n",
              "    </tr>\n",
              "  </tbody>\n",
              "</table>\n",
              "<p>11314 rows × 2 columns</p>\n",
              "</div>\n",
              "      <button class=\"colab-df-convert\" onclick=\"convertToInteractive('df-59f28845-bc2e-4dbe-91cf-cbdea3a5e843')\"\n",
              "              title=\"Convert this dataframe to an interactive table.\"\n",
              "              style=\"display:none;\">\n",
              "        \n",
              "  <svg xmlns=\"http://www.w3.org/2000/svg\" height=\"24px\"viewBox=\"0 0 24 24\"\n",
              "       width=\"24px\">\n",
              "    <path d=\"M0 0h24v24H0V0z\" fill=\"none\"/>\n",
              "    <path d=\"M18.56 5.44l.94 2.06.94-2.06 2.06-.94-2.06-.94-.94-2.06-.94 2.06-2.06.94zm-11 1L8.5 8.5l.94-2.06 2.06-.94-2.06-.94L8.5 2.5l-.94 2.06-2.06.94zm10 10l.94 2.06.94-2.06 2.06-.94-2.06-.94-.94-2.06-.94 2.06-2.06.94z\"/><path d=\"M17.41 7.96l-1.37-1.37c-.4-.4-.92-.59-1.43-.59-.52 0-1.04.2-1.43.59L10.3 9.45l-7.72 7.72c-.78.78-.78 2.05 0 2.83L4 21.41c.39.39.9.59 1.41.59.51 0 1.02-.2 1.41-.59l7.78-7.78 2.81-2.81c.8-.78.8-2.07 0-2.86zM5.41 20L4 18.59l7.72-7.72 1.47 1.35L5.41 20z\"/>\n",
              "  </svg>\n",
              "      </button>\n",
              "      \n",
              "  <style>\n",
              "    .colab-df-container {\n",
              "      display:flex;\n",
              "      flex-wrap:wrap;\n",
              "      gap: 12px;\n",
              "    }\n",
              "\n",
              "    .colab-df-convert {\n",
              "      background-color: #E8F0FE;\n",
              "      border: none;\n",
              "      border-radius: 50%;\n",
              "      cursor: pointer;\n",
              "      display: none;\n",
              "      fill: #1967D2;\n",
              "      height: 32px;\n",
              "      padding: 0 0 0 0;\n",
              "      width: 32px;\n",
              "    }\n",
              "\n",
              "    .colab-df-convert:hover {\n",
              "      background-color: #E2EBFA;\n",
              "      box-shadow: 0px 1px 2px rgba(60, 64, 67, 0.3), 0px 1px 3px 1px rgba(60, 64, 67, 0.15);\n",
              "      fill: #174EA6;\n",
              "    }\n",
              "\n",
              "    [theme=dark] .colab-df-convert {\n",
              "      background-color: #3B4455;\n",
              "      fill: #D2E3FC;\n",
              "    }\n",
              "\n",
              "    [theme=dark] .colab-df-convert:hover {\n",
              "      background-color: #434B5C;\n",
              "      box-shadow: 0px 1px 3px 1px rgba(0, 0, 0, 0.15);\n",
              "      filter: drop-shadow(0px 1px 2px rgba(0, 0, 0, 0.3));\n",
              "      fill: #FFFFFF;\n",
              "    }\n",
              "  </style>\n",
              "\n",
              "      <script>\n",
              "        const buttonEl =\n",
              "          document.querySelector('#df-59f28845-bc2e-4dbe-91cf-cbdea3a5e843 button.colab-df-convert');\n",
              "        buttonEl.style.display =\n",
              "          google.colab.kernel.accessAllowed ? 'block' : 'none';\n",
              "\n",
              "        async function convertToInteractive(key) {\n",
              "          const element = document.querySelector('#df-59f28845-bc2e-4dbe-91cf-cbdea3a5e843');\n",
              "          const dataTable =\n",
              "            await google.colab.kernel.invokeFunction('convertToInteractive',\n",
              "                                                     [key], {});\n",
              "          if (!dataTable) return;\n",
              "\n",
              "          const docLinkHtml = 'Like what you see? Visit the ' +\n",
              "            '<a target=\"_blank\" href=https://colab.research.google.com/notebooks/data_table.ipynb>data table notebook</a>'\n",
              "            + ' to learn more about interactive tables.';\n",
              "          element.innerHTML = '';\n",
              "          dataTable['output_type'] = 'display_data';\n",
              "          await google.colab.output.renderOutput(dataTable, element);\n",
              "          const docLink = document.createElement('div');\n",
              "          docLink.innerHTML = docLinkHtml;\n",
              "          element.appendChild(docLink);\n",
              "        }\n",
              "      </script>\n",
              "    </div>\n",
              "  </div>\n",
              "  "
            ]
          },
          "metadata": {},
          "execution_count": 30
        }
      ]
    },
    {
      "cell_type": "markdown",
      "source": [
        "우선 특수문자가 제거되었으며, if나 you와 같은 길이가 3이하인 단어가 제거된 것을 확인할 수 있다. 뿐만 아니라 대문자가 전부 소문자로 바뀌었다. 이제 뉴스그룹 데이터에서 불용어를 제거한다. 불용어를 제거하기 위해서 토큰화를 우선 수행한다. 토큰화와 불용어 제거를 순차적으로 진행한다."
      ],
      "metadata": {
        "id": "qm4t7DaWCo4u"
      }
    },
    {
      "cell_type": "code",
      "source": [
        "# NLTK로부터 불용어를 받아온다.\n",
        "stop_words = stopwords.words('english')\n",
        "tokenized_doc = news_df['clean_doc'].apply(lambda x: x.split()) # 토큰화\n",
        "tokenized_doc = tokenized_doc.apply(lambda x: [item for item in x if item not in stop_words])\n",
        "# 불용어를 제거합니다."
      ],
      "metadata": {
        "id": "8ylpO6tWClAa"
      },
      "execution_count": 28,
      "outputs": []
    },
    {
      "cell_type": "markdown",
      "source": [
        "다시 첫번째 훈련용 뉴스그룹 샘플을 출력한다"
      ],
      "metadata": {
        "id": "ZdBiBdNHC_yj"
      }
    },
    {
      "cell_type": "code",
      "source": [
        "print(tokenized_doc[1])"
      ],
      "metadata": {
        "colab": {
          "base_uri": "https://localhost:8080/"
        },
        "id": "P1x9zm-7C2xo",
        "outputId": "0d688334-fa4b-44f4-c1d3-0476eb24e24b"
      },
      "execution_count": 29,
      "outputs": [
        {
          "output_type": "stream",
          "name": "stdout",
          "text": [
            "['yeah', 'expect', 'people', 'read', 'actually', 'accept', 'hard', 'atheism', 'need', 'little', 'leap', 'faith', 'jimmy', 'logic', 'runs', 'steam', 'sorry', 'pity', 'sorry', 'feelings', 'denial', 'faith', 'need', 'well', 'pretend', 'happily', 'ever', 'anyway', 'maybe', 'start', 'newsgroup', 'atheist', 'hard', 'bummin', 'much', 'forget', 'flintstone', 'chewables', 'bake', 'timmons']\n"
          ]
        }
      ]
    },
    {
      "cell_type": "markdown",
      "source": [
        "기존에 있었던 불용어에 속하던 your, about, just, that, will, after 단어들이 사라졌을 뿐만 아니라, 토큰화가 수행된 것을 확인할 수 있다."
      ],
      "metadata": {
        "id": "1x6RdDcsDJtd"
      }
    },
    {
      "cell_type": "markdown",
      "source": [
        "##### 3. TF-IDF 행렬 만들기\n",
        "\n",
        "불용어 제거를 위해 토큰화 작업을 수행하였지만, TfidfVectorizer는 기본적으로 토큰화가 되어있지 않은 텍스트 데이터를 입력으로 사용한다. 그렇기 때문에 TfidfVectorizer를 사용해서 TF-IDF 행렬을 만들기 위해서 다시 토큰화 작업을 역으로 취소하는 작업을 수행해야한다. 이를 역토큰화(Detokenization)라고 한다."
      ],
      "metadata": {
        "id": "bbo-ZRW0DLq2"
      }
    },
    {
      "cell_type": "code",
      "source": [
        "# 역토큰화 (토큰화 작업을 역으로 되돌림)\n",
        "detokenized_doc = []\n",
        "for i in range(len(news_df)):\n",
        "    t = ' '.join(tokenized_doc[i])\n",
        "    detokenized_doc.append(t)\n",
        "\n",
        "news_df['clean_doc'] = detokenized_doc"
      ],
      "metadata": {
        "id": "BPwipB1GC4sk"
      },
      "execution_count": 31,
      "outputs": []
    },
    {
      "cell_type": "markdown",
      "source": [
        "역토큰화가 제대로 되었는지 다시 첫번째 훈련용 뉴스그룹 샘플을 출력하여 확인해보자."
      ],
      "metadata": {
        "id": "lBIPKviQEIyb"
      }
    },
    {
      "cell_type": "code",
      "source": [
        "news_df['clean_doc'][1]"
      ],
      "metadata": {
        "colab": {
          "base_uri": "https://localhost:8080/",
          "height": 89
        },
        "id": "AIQPkBGsEHRb",
        "outputId": "862ef88a-62c6-4f0e-d303-221945b9f185"
      },
      "execution_count": 32,
      "outputs": [
        {
          "output_type": "execute_result",
          "data": {
            "text/plain": [
              "'yeah expect people read actually accept hard atheism need little leap faith jimmy logic runs steam sorry pity sorry feelings denial faith need well pretend happily ever anyway maybe start newsgroup atheist hard bummin much forget flintstone chewables bake timmons'"
            ],
            "application/vnd.google.colaboratory.intrinsic+json": {
              "type": "string"
            }
          },
          "metadata": {},
          "execution_count": 32
        }
      ]
    },
    {
      "cell_type": "markdown",
      "source": [
        "정상적으로 불용어가 제거된 상태에서 역토큰화가 수행되었음을 확인할 수 있다.\n",
        "\n",
        "이제 사이킷런의 TfidfVectorizer를 통해 단어 1,000개에 대한 TF-IDF 행렬을 만들 것이다. 물론 텍스트 데이터에 있는 모든 단어를 가지고 행렬을 만들 수는 있겠지만, 여기서는 1,000개의 단어로 제한하도록 하자."
      ],
      "metadata": {
        "id": "29qWd30GEM23"
      }
    },
    {
      "cell_type": "code",
      "source": [
        "vectorizer = TfidfVectorizer(stop_words='english', max_features= 1000, # 상위 1,000개의 단어를 보존 \n",
        "max_df = 0.5, smooth_idf=True)\n",
        "\n",
        "X = vectorizer.fit_transform(news_df['clean_doc'])\n",
        "\n",
        "# TF-IDF 행렬의 크기 확인\n",
        "print('TF-IDF 행렬의 크기 :',X.shape)"
      ],
      "metadata": {
        "colab": {
          "base_uri": "https://localhost:8080/"
        },
        "id": "d0gKWQ3pEK_a",
        "outputId": "671a5ac6-1b56-4d2d-82c0-ce6ffcc553e4"
      },
      "execution_count": 33,
      "outputs": [
        {
          "output_type": "stream",
          "name": "stdout",
          "text": [
            "TF-IDF 행렬의 크기 : (11314, 1000)\n"
          ]
        }
      ]
    },
    {
      "cell_type": "code",
      "source": [
        "print(X)"
      ],
      "metadata": {
        "colab": {
          "base_uri": "https://localhost:8080/"
        },
        "id": "WPC6x5wxEV3p",
        "outputId": "2559696f-7b18-4c87-aece-f6ee2ecbbddc"
      },
      "execution_count": 34,
      "outputs": [
        {
          "output_type": "stream",
          "name": "stdout",
          "text": [
            "  (0, 663)\t0.12383418350146952\n",
            "  (0, 443)\t0.15794161190031353\n",
            "  (0, 495)\t0.11513968614781588\n",
            "  (0, 72)\t0.12938839670168176\n",
            "  (0, 514)\t0.13121292967386805\n",
            "  (0, 366)\t0.12603010928401598\n",
            "  (0, 717)\t0.1582581198153684\n",
            "  (0, 815)\t0.18315510708344293\n",
            "  (0, 734)\t0.1625104358450031\n",
            "  (0, 153)\t0.1570108300819353\n",
            "  (0, 732)\t0.16022739710760148\n",
            "  (0, 713)\t0.1274850603912534\n",
            "  (0, 894)\t0.08734163905515772\n",
            "  (0, 475)\t0.16700837669538923\n",
            "  (0, 229)\t0.16963934935748787\n",
            "  (0, 711)\t0.16477653269652684\n",
            "  (0, 290)\t0.17595259151323245\n",
            "  (0, 986)\t0.12080438380189064\n",
            "  (0, 437)\t0.34208519906207613\n",
            "  (0, 530)\t0.6567778396482741\n",
            "  (0, 842)\t0.1516824345832134\n",
            "  (0, 850)\t0.15610690151865933\n",
            "  (0, 868)\t0.11083032507767253\n",
            "  (1, 336)\t0.21610968006327091\n",
            "  (1, 580)\t0.2090150657514671\n",
            "  :\t:\n",
            "  (11313, 162)\t0.12246744316703376\n",
            "  (11313, 185)\t0.15901931792515023\n",
            "  (11313, 911)\t0.1696585245733748\n",
            "  (11313, 97)\t0.14464380399033505\n",
            "  (11313, 946)\t0.14195612945068303\n",
            "  (11313, 515)\t0.1445563959897329\n",
            "  (11313, 695)\t0.13924844887437873\n",
            "  (11313, 932)\t0.10643989468958723\n",
            "  (11313, 997)\t0.23080563157336156\n",
            "  (11313, 729)\t0.13744262026929388\n",
            "  (11313, 715)\t0.16398850940417123\n",
            "  (11313, 822)\t0.16026323590534008\n",
            "  (11313, 589)\t0.15494318040653263\n",
            "  (11313, 133)\t0.14747580234200475\n",
            "  (11313, 470)\t0.16730665428945277\n",
            "  (11313, 365)\t0.2923136436479072\n",
            "  (11313, 748)\t0.10820839951849766\n",
            "  (11313, 996)\t0.12043836958282284\n",
            "  (11313, 113)\t0.14293839781540874\n",
            "  (11313, 127)\t0.1409241655992228\n",
            "  (11313, 953)\t0.10614064808032307\n",
            "  (11313, 456)\t0.08529989478770372\n",
            "  (11313, 481)\t0.08171430544788967\n",
            "  (11313, 9)\t0.1248689747941886\n",
            "  (11313, 300)\t0.15730189638551084\n"
          ]
        }
      ]
    },
    {
      "cell_type": "markdown",
      "source": [
        "##### 4. 토픽 모델링\n",
        "이제 TF-IDF 행렬을 다수의 행렬로 분해해보도록 하자. 여기서는 사이킷런의 절단된 SVD(Truncated SVD)를 사용한다. 절단된 SVD를 사용하면 차원을 축소할 수 있다. 원래 기존 뉴스그룹 데이터가 20개의 카테고리를 갖고있었기 때문에, 20개의 토픽을 가졌다고 가정하고 토픽 모델링을 시도해보자. 토픽의 숫자는 n_components의 파라미터로 지정이 가능하다."
      ],
      "metadata": {
        "id": "2tOdTWqtEc10"
      }
    },
    {
      "cell_type": "code",
      "source": [
        "svd_model = TruncatedSVD(n_components=20, algorithm='randomized', n_iter=100, random_state=122)\n",
        "svd_model.fit(X)\n",
        "len(svd_model.components_)"
      ],
      "metadata": {
        "colab": {
          "base_uri": "https://localhost:8080/"
        },
        "id": "91V6UJuAEZpS",
        "outputId": "9c42afda-ae44-47c7-f34d-1f9837ae50d8"
      },
      "execution_count": 35,
      "outputs": [
        {
          "output_type": "execute_result",
          "data": {
            "text/plain": [
              "20"
            ]
          },
          "metadata": {},
          "execution_count": 35
        }
      ]
    },
    {
      "cell_type": "markdown",
      "source": [
        "여기서 svd_model.componets_는 앞서 배운 LSA에서 VT에 해당된다."
      ],
      "metadata": {
        "id": "iTyQiD9xErTe"
      }
    },
    {
      "cell_type": "code",
      "source": [
        "np.shape(svd_model.components_)"
      ],
      "metadata": {
        "colab": {
          "base_uri": "https://localhost:8080/"
        },
        "id": "JDPKazfnEpyF",
        "outputId": "2edd3052-b98f-4809-e5e4-604e118525cc"
      },
      "execution_count": 36,
      "outputs": [
        {
          "output_type": "execute_result",
          "data": {
            "text/plain": [
              "(20, 1000)"
            ]
          },
          "metadata": {},
          "execution_count": 36
        }
      ]
    },
    {
      "cell_type": "markdown",
      "source": [
        "정확하게 토픽의 수 t × 단어의 수의 크기를 가지는 것을 볼 수 있다.\n",
        "\n"
      ],
      "metadata": {
        "id": "LKGD6A-JFMs1"
      }
    },
    {
      "cell_type": "code",
      "source": [
        "terms = vectorizer.get_feature_names() # 단어 집합. 1,000개의 단어가 저장됨.\n",
        "print(len(terms))\n",
        "def get_topics(components, feature_names, n=5):\n",
        "    for idx, topic in enumerate(components):\n",
        "        print(\"Topic %d:\" % (idx+1), [(feature_names[i], topic[i].round(5)) for i in topic.argsort()[:-n - 1:-1]])\n",
        "get_topics(svd_model.components_,terms)"
      ],
      "metadata": {
        "colab": {
          "base_uri": "https://localhost:8080/"
        },
        "id": "Zx4aljBVFK7q",
        "outputId": "4e366763-2273-48e6-cabf-357639558f57"
      },
      "execution_count": 39,
      "outputs": [
        {
          "output_type": "stream",
          "name": "stdout",
          "text": [
            "1000\n",
            "Topic 1: [('like', 0.21386), ('know', 0.20046), ('people', 0.19293), ('think', 0.17805), ('good', 0.15128)]\n",
            "Topic 2: [('thanks', 0.32888), ('windows', 0.29088), ('card', 0.18069), ('drive', 0.17455), ('mail', 0.15111)]\n",
            "Topic 3: [('game', 0.37064), ('team', 0.32443), ('year', 0.28154), ('games', 0.2537), ('season', 0.18419)]\n",
            "Topic 4: [('drive', 0.53324), ('scsi', 0.20165), ('hard', 0.15628), ('disk', 0.15578), ('card', 0.13994)]\n",
            "Topic 5: [('windows', 0.40399), ('file', 0.25436), ('window', 0.18044), ('files', 0.16078), ('program', 0.13894)]\n",
            "Topic 6: [('chip', 0.16114), ('government', 0.16009), ('mail', 0.15625), ('space', 0.1507), ('information', 0.13562)]\n",
            "Topic 7: [('like', 0.67086), ('bike', 0.14236), ('chip', 0.11169), ('know', 0.11139), ('sounds', 0.10371)]\n",
            "Topic 8: [('card', 0.46633), ('video', 0.22137), ('sale', 0.21266), ('monitor', 0.15463), ('offer', 0.14643)]\n",
            "Topic 9: [('know', 0.46047), ('card', 0.33605), ('chip', 0.17558), ('government', 0.1522), ('video', 0.14356)]\n",
            "Topic 10: [('good', 0.42756), ('know', 0.23039), ('time', 0.1882), ('bike', 0.11406), ('jesus', 0.09027)]\n",
            "Topic 11: [('think', 0.78469), ('chip', 0.10899), ('good', 0.10635), ('thanks', 0.09123), ('clipper', 0.07946)]\n",
            "Topic 12: [('thanks', 0.36824), ('good', 0.22729), ('right', 0.21559), ('bike', 0.21037), ('problem', 0.20894)]\n",
            "Topic 13: [('good', 0.36212), ('people', 0.33985), ('windows', 0.28385), ('know', 0.26232), ('file', 0.18422)]\n",
            "Topic 14: [('space', 0.39946), ('think', 0.23258), ('know', 0.18074), ('nasa', 0.15174), ('problem', 0.12957)]\n",
            "Topic 15: [('space', 0.31613), ('good', 0.3094), ('card', 0.22603), ('people', 0.17476), ('time', 0.14496)]\n",
            "Topic 16: [('people', 0.48156), ('problem', 0.19961), ('window', 0.15281), ('time', 0.14664), ('game', 0.12871)]\n",
            "Topic 17: [('time', 0.34465), ('bike', 0.27303), ('right', 0.25557), ('windows', 0.1997), ('file', 0.19118)]\n",
            "Topic 18: [('time', 0.5973), ('problem', 0.15504), ('file', 0.14956), ('think', 0.12847), ('israel', 0.10903)]\n",
            "Topic 19: [('file', 0.44163), ('need', 0.26633), ('card', 0.18388), ('files', 0.17453), ('right', 0.15448)]\n",
            "Topic 20: [('problem', 0.33006), ('file', 0.27651), ('thanks', 0.23578), ('used', 0.19206), ('space', 0.13185)]\n"
          ]
        }
      ]
    },
    {
      "cell_type": "markdown",
      "source": [
        "#### 5. LSA의 장단점\n",
        "\n",
        "정리해보면 LSA는 쉽고 빠르게 구현이 가능할 뿐만 아니라 단어의 잠재적인 의미를 이끌어낼 수 있어 문서의 유사도 계산 등에서 좋은 성능을 보여준다는 장점을 갖고 있다. 하지만 SVD의 특성상 이미 계산된 LSA에 새로운 데이터를 추가하여 계산하려고하면 보통 처음부터 다시 계산해야 한다. 즉, 새로운 정보에 대해 업데이트가 어렵다. 이는 최근 LSA 대신 Word2Vec 등 단어의 의미를 벡터화할 수 있는 또 다른 방법론인 인공 신경망 기반의 방법론이 각광받는 이유이기도 하다."
      ],
      "metadata": {
        "id": "QHIxy5_oF66r"
      }
    },
    {
      "cell_type": "code",
      "source": [],
      "metadata": {
        "id": "ItKnp_YvFWwl"
      },
      "execution_count": null,
      "outputs": []
    }
  ]
}