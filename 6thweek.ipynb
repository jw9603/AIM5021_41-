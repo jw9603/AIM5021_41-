{
  "nbformat": 4,
  "nbformat_minor": 0,
  "metadata": {
    "colab": {
      "provenance": [],
      "collapsed_sections": [],
      "authorship_tag": "ABX9TyNHsidqfjIN0nlBXECk4aZJ",
      "include_colab_link": true
    },
    "kernelspec": {
      "name": "python3",
      "display_name": "Python 3"
    },
    "language_info": {
      "name": "python"
    }
  },
  "cells": [
    {
      "cell_type": "markdown",
      "metadata": {
        "id": "view-in-github",
        "colab_type": "text"
      },
      "source": [
        "<a href=\"https://colab.research.google.com/github/jw9603/AIM5021_41-/blob/main/6thweek.ipynb\" target=\"_parent\"><img src=\"https://colab.research.google.com/assets/colab-badge.svg\" alt=\"Open In Colab\"/></a>"
      ]
    },
    {
      "cell_type": "code",
      "execution_count": null,
      "metadata": {
        "colab": {
          "base_uri": "https://localhost:8080/"
        },
        "id": "tYXX2J4G6XT8",
        "outputId": "95353b1f-12d6-4301-e753-054f02715f18"
      },
      "outputs": [
        {
          "output_type": "stream",
          "name": "stdout",
          "text": [
            "Mounted at /content/drive\n"
          ]
        }
      ],
      "source": [
        "from google.colab import drive\n",
        "drive.mount('/content/drive')"
      ]
    },
    {
      "cell_type": "markdown",
      "source": [
        "## English POS Tagging"
      ],
      "metadata": {
        "id": "nGTGG-gwEYm9"
      }
    },
    {
      "cell_type": "markdown",
      "source": [
        "### Using a Tagger"
      ],
      "metadata": {
        "id": "tpsRkfFl9vKO"
      }
    },
    {
      "cell_type": "code",
      "source": [
        "import nltk\n",
        "nltk.download('all')"
      ],
      "metadata": {
        "colab": {
          "base_uri": "https://localhost:8080/"
        },
        "id": "aMOhtyW79y4-",
        "outputId": "0a8ac74b-5ef7-4a7f-edfe-4faf25bc70db"
      },
      "execution_count": null,
      "outputs": [
        {
          "output_type": "stream",
          "name": "stderr",
          "text": [
            "[nltk_data] Downloading collection 'all'\n",
            "[nltk_data]    | \n",
            "[nltk_data]    | Downloading package abc to /root/nltk_data...\n",
            "[nltk_data]    |   Unzipping corpora/abc.zip.\n",
            "[nltk_data]    | Downloading package alpino to /root/nltk_data...\n",
            "[nltk_data]    |   Unzipping corpora/alpino.zip.\n",
            "[nltk_data]    | Downloading package averaged_perceptron_tagger to\n",
            "[nltk_data]    |     /root/nltk_data...\n",
            "[nltk_data]    |   Unzipping taggers/averaged_perceptron_tagger.zip.\n",
            "[nltk_data]    | Downloading package averaged_perceptron_tagger_ru to\n",
            "[nltk_data]    |     /root/nltk_data...\n",
            "[nltk_data]    |   Unzipping\n",
            "[nltk_data]    |       taggers/averaged_perceptron_tagger_ru.zip.\n",
            "[nltk_data]    | Downloading package basque_grammars to\n",
            "[nltk_data]    |     /root/nltk_data...\n",
            "[nltk_data]    |   Unzipping grammars/basque_grammars.zip.\n",
            "[nltk_data]    | Downloading package biocreative_ppi to\n",
            "[nltk_data]    |     /root/nltk_data...\n",
            "[nltk_data]    |   Unzipping corpora/biocreative_ppi.zip.\n",
            "[nltk_data]    | Downloading package bllip_wsj_no_aux to\n",
            "[nltk_data]    |     /root/nltk_data...\n",
            "[nltk_data]    |   Unzipping models/bllip_wsj_no_aux.zip.\n",
            "[nltk_data]    | Downloading package book_grammars to\n",
            "[nltk_data]    |     /root/nltk_data...\n",
            "[nltk_data]    |   Unzipping grammars/book_grammars.zip.\n",
            "[nltk_data]    | Downloading package brown to /root/nltk_data...\n",
            "[nltk_data]    |   Unzipping corpora/brown.zip.\n",
            "[nltk_data]    | Downloading package brown_tei to /root/nltk_data...\n",
            "[nltk_data]    |   Unzipping corpora/brown_tei.zip.\n",
            "[nltk_data]    | Downloading package cess_cat to /root/nltk_data...\n",
            "[nltk_data]    |   Unzipping corpora/cess_cat.zip.\n",
            "[nltk_data]    | Downloading package cess_esp to /root/nltk_data...\n",
            "[nltk_data]    |   Unzipping corpora/cess_esp.zip.\n",
            "[nltk_data]    | Downloading package chat80 to /root/nltk_data...\n",
            "[nltk_data]    |   Unzipping corpora/chat80.zip.\n",
            "[nltk_data]    | Downloading package city_database to\n",
            "[nltk_data]    |     /root/nltk_data...\n",
            "[nltk_data]    |   Unzipping corpora/city_database.zip.\n",
            "[nltk_data]    | Downloading package cmudict to /root/nltk_data...\n",
            "[nltk_data]    |   Unzipping corpora/cmudict.zip.\n",
            "[nltk_data]    | Downloading package comparative_sentences to\n",
            "[nltk_data]    |     /root/nltk_data...\n",
            "[nltk_data]    |   Unzipping corpora/comparative_sentences.zip.\n",
            "[nltk_data]    | Downloading package comtrans to /root/nltk_data...\n",
            "[nltk_data]    | Downloading package conll2000 to /root/nltk_data...\n",
            "[nltk_data]    |   Unzipping corpora/conll2000.zip.\n",
            "[nltk_data]    | Downloading package conll2002 to /root/nltk_data...\n",
            "[nltk_data]    |   Unzipping corpora/conll2002.zip.\n",
            "[nltk_data]    | Downloading package conll2007 to /root/nltk_data...\n",
            "[nltk_data]    | Downloading package crubadan to /root/nltk_data...\n",
            "[nltk_data]    |   Unzipping corpora/crubadan.zip.\n",
            "[nltk_data]    | Downloading package dependency_treebank to\n",
            "[nltk_data]    |     /root/nltk_data...\n",
            "[nltk_data]    |   Unzipping corpora/dependency_treebank.zip.\n",
            "[nltk_data]    | Downloading package dolch to /root/nltk_data...\n",
            "[nltk_data]    |   Unzipping corpora/dolch.zip.\n",
            "[nltk_data]    | Downloading package europarl_raw to\n",
            "[nltk_data]    |     /root/nltk_data...\n",
            "[nltk_data]    |   Unzipping corpora/europarl_raw.zip.\n",
            "[nltk_data]    | Downloading package extended_omw to\n",
            "[nltk_data]    |     /root/nltk_data...\n",
            "[nltk_data]    | Downloading package floresta to /root/nltk_data...\n",
            "[nltk_data]    |   Unzipping corpora/floresta.zip.\n",
            "[nltk_data]    | Downloading package framenet_v15 to\n",
            "[nltk_data]    |     /root/nltk_data...\n",
            "[nltk_data]    |   Unzipping corpora/framenet_v15.zip.\n",
            "[nltk_data]    | Downloading package framenet_v17 to\n",
            "[nltk_data]    |     /root/nltk_data...\n",
            "[nltk_data]    |   Unzipping corpora/framenet_v17.zip.\n",
            "[nltk_data]    | Downloading package gazetteers to /root/nltk_data...\n",
            "[nltk_data]    |   Unzipping corpora/gazetteers.zip.\n",
            "[nltk_data]    | Downloading package genesis to /root/nltk_data...\n",
            "[nltk_data]    |   Unzipping corpora/genesis.zip.\n",
            "[nltk_data]    | Downloading package gutenberg to /root/nltk_data...\n",
            "[nltk_data]    |   Unzipping corpora/gutenberg.zip.\n",
            "[nltk_data]    | Downloading package ieer to /root/nltk_data...\n",
            "[nltk_data]    |   Unzipping corpora/ieer.zip.\n",
            "[nltk_data]    | Downloading package inaugural to /root/nltk_data...\n",
            "[nltk_data]    |   Unzipping corpora/inaugural.zip.\n",
            "[nltk_data]    | Downloading package indian to /root/nltk_data...\n",
            "[nltk_data]    |   Unzipping corpora/indian.zip.\n",
            "[nltk_data]    | Downloading package jeita to /root/nltk_data...\n",
            "[nltk_data]    | Downloading package kimmo to /root/nltk_data...\n",
            "[nltk_data]    |   Unzipping corpora/kimmo.zip.\n",
            "[nltk_data]    | Downloading package knbc to /root/nltk_data...\n",
            "[nltk_data]    | Downloading package large_grammars to\n",
            "[nltk_data]    |     /root/nltk_data...\n",
            "[nltk_data]    |   Unzipping grammars/large_grammars.zip.\n",
            "[nltk_data]    | Downloading package lin_thesaurus to\n",
            "[nltk_data]    |     /root/nltk_data...\n",
            "[nltk_data]    |   Unzipping corpora/lin_thesaurus.zip.\n",
            "[nltk_data]    | Downloading package mac_morpho to /root/nltk_data...\n",
            "[nltk_data]    |   Unzipping corpora/mac_morpho.zip.\n",
            "[nltk_data]    | Downloading package machado to /root/nltk_data...\n",
            "[nltk_data]    | Downloading package masc_tagged to /root/nltk_data...\n",
            "[nltk_data]    | Downloading package maxent_ne_chunker to\n",
            "[nltk_data]    |     /root/nltk_data...\n",
            "[nltk_data]    |   Unzipping chunkers/maxent_ne_chunker.zip.\n",
            "[nltk_data]    | Downloading package maxent_treebank_pos_tagger to\n",
            "[nltk_data]    |     /root/nltk_data...\n",
            "[nltk_data]    |   Unzipping taggers/maxent_treebank_pos_tagger.zip.\n",
            "[nltk_data]    | Downloading package moses_sample to\n",
            "[nltk_data]    |     /root/nltk_data...\n",
            "[nltk_data]    |   Unzipping models/moses_sample.zip.\n",
            "[nltk_data]    | Downloading package movie_reviews to\n",
            "[nltk_data]    |     /root/nltk_data...\n",
            "[nltk_data]    |   Unzipping corpora/movie_reviews.zip.\n",
            "[nltk_data]    | Downloading package mte_teip5 to /root/nltk_data...\n",
            "[nltk_data]    |   Unzipping corpora/mte_teip5.zip.\n",
            "[nltk_data]    | Downloading package mwa_ppdb to /root/nltk_data...\n",
            "[nltk_data]    |   Unzipping misc/mwa_ppdb.zip.\n",
            "[nltk_data]    | Downloading package names to /root/nltk_data...\n",
            "[nltk_data]    |   Unzipping corpora/names.zip.\n",
            "[nltk_data]    | Downloading package nombank.1.0 to /root/nltk_data...\n",
            "[nltk_data]    | Downloading package nonbreaking_prefixes to\n",
            "[nltk_data]    |     /root/nltk_data...\n",
            "[nltk_data]    |   Unzipping corpora/nonbreaking_prefixes.zip.\n",
            "[nltk_data]    | Downloading package nps_chat to /root/nltk_data...\n",
            "[nltk_data]    |   Unzipping corpora/nps_chat.zip.\n",
            "[nltk_data]    | Downloading package omw to /root/nltk_data...\n",
            "[nltk_data]    | Downloading package omw-1.4 to /root/nltk_data...\n",
            "[nltk_data]    | Downloading package opinion_lexicon to\n",
            "[nltk_data]    |     /root/nltk_data...\n",
            "[nltk_data]    |   Unzipping corpora/opinion_lexicon.zip.\n",
            "[nltk_data]    | Downloading package panlex_swadesh to\n",
            "[nltk_data]    |     /root/nltk_data...\n",
            "[nltk_data]    | Downloading package paradigms to /root/nltk_data...\n",
            "[nltk_data]    |   Unzipping corpora/paradigms.zip.\n",
            "[nltk_data]    | Downloading package pe08 to /root/nltk_data...\n",
            "[nltk_data]    |   Unzipping corpora/pe08.zip.\n",
            "[nltk_data]    | Downloading package perluniprops to\n",
            "[nltk_data]    |     /root/nltk_data...\n",
            "[nltk_data]    |   Unzipping misc/perluniprops.zip.\n",
            "[nltk_data]    | Downloading package pil to /root/nltk_data...\n",
            "[nltk_data]    |   Unzipping corpora/pil.zip.\n",
            "[nltk_data]    | Downloading package pl196x to /root/nltk_data...\n",
            "[nltk_data]    |   Unzipping corpora/pl196x.zip.\n",
            "[nltk_data]    | Downloading package porter_test to /root/nltk_data...\n",
            "[nltk_data]    |   Unzipping stemmers/porter_test.zip.\n",
            "[nltk_data]    | Downloading package ppattach to /root/nltk_data...\n",
            "[nltk_data]    |   Unzipping corpora/ppattach.zip.\n",
            "[nltk_data]    | Downloading package problem_reports to\n",
            "[nltk_data]    |     /root/nltk_data...\n",
            "[nltk_data]    |   Unzipping corpora/problem_reports.zip.\n",
            "[nltk_data]    | Downloading package product_reviews_1 to\n",
            "[nltk_data]    |     /root/nltk_data...\n",
            "[nltk_data]    |   Unzipping corpora/product_reviews_1.zip.\n",
            "[nltk_data]    | Downloading package product_reviews_2 to\n",
            "[nltk_data]    |     /root/nltk_data...\n",
            "[nltk_data]    |   Unzipping corpora/product_reviews_2.zip.\n",
            "[nltk_data]    | Downloading package propbank to /root/nltk_data...\n",
            "[nltk_data]    | Downloading package pros_cons to /root/nltk_data...\n",
            "[nltk_data]    |   Unzipping corpora/pros_cons.zip.\n",
            "[nltk_data]    | Downloading package ptb to /root/nltk_data...\n",
            "[nltk_data]    |   Unzipping corpora/ptb.zip.\n",
            "[nltk_data]    | Downloading package punkt to /root/nltk_data...\n",
            "[nltk_data]    |   Unzipping tokenizers/punkt.zip.\n",
            "[nltk_data]    | Downloading package qc to /root/nltk_data...\n",
            "[nltk_data]    |   Unzipping corpora/qc.zip.\n",
            "[nltk_data]    | Downloading package reuters to /root/nltk_data...\n",
            "[nltk_data]    | Downloading package rslp to /root/nltk_data...\n",
            "[nltk_data]    |   Unzipping stemmers/rslp.zip.\n",
            "[nltk_data]    | Downloading package rte to /root/nltk_data...\n",
            "[nltk_data]    |   Unzipping corpora/rte.zip.\n",
            "[nltk_data]    | Downloading package sample_grammars to\n",
            "[nltk_data]    |     /root/nltk_data...\n",
            "[nltk_data]    |   Unzipping grammars/sample_grammars.zip.\n",
            "[nltk_data]    | Downloading package semcor to /root/nltk_data...\n",
            "[nltk_data]    | Downloading package senseval to /root/nltk_data...\n",
            "[nltk_data]    |   Unzipping corpora/senseval.zip.\n",
            "[nltk_data]    | Downloading package sentence_polarity to\n",
            "[nltk_data]    |     /root/nltk_data...\n",
            "[nltk_data]    |   Unzipping corpora/sentence_polarity.zip.\n",
            "[nltk_data]    | Downloading package sentiwordnet to\n",
            "[nltk_data]    |     /root/nltk_data...\n",
            "[nltk_data]    |   Unzipping corpora/sentiwordnet.zip.\n",
            "[nltk_data]    | Downloading package shakespeare to /root/nltk_data...\n",
            "[nltk_data]    |   Unzipping corpora/shakespeare.zip.\n",
            "[nltk_data]    | Downloading package sinica_treebank to\n",
            "[nltk_data]    |     /root/nltk_data...\n",
            "[nltk_data]    |   Unzipping corpora/sinica_treebank.zip.\n",
            "[nltk_data]    | Downloading package smultron to /root/nltk_data...\n",
            "[nltk_data]    |   Unzipping corpora/smultron.zip.\n",
            "[nltk_data]    | Downloading package snowball_data to\n",
            "[nltk_data]    |     /root/nltk_data...\n",
            "[nltk_data]    | Downloading package spanish_grammars to\n",
            "[nltk_data]    |     /root/nltk_data...\n",
            "[nltk_data]    |   Unzipping grammars/spanish_grammars.zip.\n",
            "[nltk_data]    | Downloading package state_union to /root/nltk_data...\n",
            "[nltk_data]    |   Unzipping corpora/state_union.zip.\n",
            "[nltk_data]    | Downloading package stopwords to /root/nltk_data...\n",
            "[nltk_data]    |   Unzipping corpora/stopwords.zip.\n",
            "[nltk_data]    | Downloading package subjectivity to\n",
            "[nltk_data]    |     /root/nltk_data...\n",
            "[nltk_data]    |   Unzipping corpora/subjectivity.zip.\n",
            "[nltk_data]    | Downloading package swadesh to /root/nltk_data...\n",
            "[nltk_data]    |   Unzipping corpora/swadesh.zip.\n",
            "[nltk_data]    | Downloading package switchboard to /root/nltk_data...\n",
            "[nltk_data]    |   Unzipping corpora/switchboard.zip.\n",
            "[nltk_data]    | Downloading package tagsets to /root/nltk_data...\n",
            "[nltk_data]    |   Unzipping help/tagsets.zip.\n",
            "[nltk_data]    | Downloading package timit to /root/nltk_data...\n",
            "[nltk_data]    |   Unzipping corpora/timit.zip.\n",
            "[nltk_data]    | Downloading package toolbox to /root/nltk_data...\n",
            "[nltk_data]    |   Unzipping corpora/toolbox.zip.\n",
            "[nltk_data]    | Downloading package treebank to /root/nltk_data...\n",
            "[nltk_data]    |   Unzipping corpora/treebank.zip.\n",
            "[nltk_data]    | Downloading package twitter_samples to\n",
            "[nltk_data]    |     /root/nltk_data...\n",
            "[nltk_data]    |   Unzipping corpora/twitter_samples.zip.\n",
            "[nltk_data]    | Downloading package udhr to /root/nltk_data...\n",
            "[nltk_data]    |   Unzipping corpora/udhr.zip.\n",
            "[nltk_data]    | Downloading package udhr2 to /root/nltk_data...\n",
            "[nltk_data]    |   Unzipping corpora/udhr2.zip.\n",
            "[nltk_data]    | Downloading package unicode_samples to\n",
            "[nltk_data]    |     /root/nltk_data...\n",
            "[nltk_data]    |   Unzipping corpora/unicode_samples.zip.\n",
            "[nltk_data]    | Downloading package universal_tagset to\n",
            "[nltk_data]    |     /root/nltk_data...\n",
            "[nltk_data]    |   Unzipping taggers/universal_tagset.zip.\n",
            "[nltk_data]    | Downloading package universal_treebanks_v20 to\n",
            "[nltk_data]    |     /root/nltk_data...\n",
            "[nltk_data]    | Downloading package vader_lexicon to\n",
            "[nltk_data]    |     /root/nltk_data...\n",
            "[nltk_data]    | Downloading package verbnet to /root/nltk_data...\n",
            "[nltk_data]    |   Unzipping corpora/verbnet.zip.\n",
            "[nltk_data]    | Downloading package verbnet3 to /root/nltk_data...\n",
            "[nltk_data]    |   Unzipping corpora/verbnet3.zip.\n",
            "[nltk_data]    | Downloading package webtext to /root/nltk_data...\n",
            "[nltk_data]    |   Unzipping corpora/webtext.zip.\n",
            "[nltk_data]    | Downloading package wmt15_eval to /root/nltk_data...\n",
            "[nltk_data]    |   Unzipping models/wmt15_eval.zip.\n",
            "[nltk_data]    | Downloading package word2vec_sample to\n",
            "[nltk_data]    |     /root/nltk_data...\n",
            "[nltk_data]    |   Unzipping models/word2vec_sample.zip.\n",
            "[nltk_data]    | Downloading package wordnet to /root/nltk_data...\n",
            "[nltk_data]    | Downloading package wordnet2021 to /root/nltk_data...\n",
            "[nltk_data]    | Downloading package wordnet31 to /root/nltk_data...\n",
            "[nltk_data]    | Downloading package wordnet_ic to /root/nltk_data...\n",
            "[nltk_data]    |   Unzipping corpora/wordnet_ic.zip.\n",
            "[nltk_data]    | Downloading package words to /root/nltk_data...\n",
            "[nltk_data]    |   Unzipping corpora/words.zip.\n",
            "[nltk_data]    | Downloading package ycoe to /root/nltk_data...\n",
            "[nltk_data]    |   Unzipping corpora/ycoe.zip.\n",
            "[nltk_data]    | \n",
            "[nltk_data]  Done downloading collection all\n"
          ]
        },
        {
          "output_type": "execute_result",
          "data": {
            "text/plain": [
              "True"
            ]
          },
          "metadata": {},
          "execution_count": 2
        }
      ]
    },
    {
      "cell_type": "code",
      "source": [
        "text = nltk.word_tokenize(\"And now for something completely different\")\n",
        "\n",
        "nltk.pos_tag(text)"
      ],
      "metadata": {
        "colab": {
          "base_uri": "https://localhost:8080/"
        },
        "id": "xR-T8jC37grP",
        "outputId": "1c0aca5a-3bd4-42cd-d9e3-e73417ba7eea"
      },
      "execution_count": null,
      "outputs": [
        {
          "output_type": "execute_result",
          "data": {
            "text/plain": [
              "[('And', 'CC'),\n",
              " ('now', 'RB'),\n",
              " ('for', 'IN'),\n",
              " ('something', 'NN'),\n",
              " ('completely', 'RB'),\n",
              " ('different', 'JJ')]"
            ]
          },
          "metadata": {},
          "execution_count": 4
        }
      ]
    },
    {
      "cell_type": "code",
      "source": [
        "text1 = nltk.word_tokenize('They refuse to permit us to obtain the refuse permit!!!')\n",
        "nltk.pos_tag(text1)"
      ],
      "metadata": {
        "colab": {
          "base_uri": "https://localhost:8080/"
        },
        "id": "hMdPUTPw-GjV",
        "outputId": "734c62d5-af12-4901-eb06-ba079b53ebd0"
      },
      "execution_count": null,
      "outputs": [
        {
          "output_type": "execute_result",
          "data": {
            "text/plain": [
              "[('They', 'PRP'),\n",
              " ('refuse', 'VBP'),\n",
              " ('to', 'TO'),\n",
              " ('permit', 'VB'),\n",
              " ('us', 'PRP'),\n",
              " ('to', 'TO'),\n",
              " ('obtain', 'VB'),\n",
              " ('the', 'DT'),\n",
              " ('refuse', 'NN'),\n",
              " ('permit', 'NN'),\n",
              " ('!', '.'),\n",
              " ('!', '.'),\n",
              " ('!', '.')]"
            ]
          },
          "metadata": {},
          "execution_count": 7
        }
      ]
    },
    {
      "cell_type": "code",
      "source": [
        "sent = '''\n",
        "... The/AT grand/JJ jury/NN commented/VBD on/IN a/AT number/NN of/IN\n",
        "... other/AP topics/NNS ,/, AMONG/IN them/PPO the/AT Atlanta/NP and/CC\n",
        "... Fulton/NP-tl County/NN-tl purchasing/VBG departments/NNS which/WDT it/PPS\n",
        "... said/VBD ``/`` ARE/BER well/QL operated/VBN and/CC follow/VB generally/RB\n",
        "... accepted/VBN practices/NNS which/WDT inure/VB to/IN the/AT best/JJT\n",
        "... interest/NN of/IN both/ABX governments/NNS ''/'' ./.\n",
        "... '''\n",
        "[nltk.tag.str2tuple(t) for t in sent.split()]"
      ],
      "metadata": {
        "colab": {
          "base_uri": "https://localhost:8080/"
        },
        "id": "gwa7pxEg-Ugm",
        "outputId": "dc00a4f0-f8d9-46f7-9b44-99d01967c0e1"
      },
      "execution_count": null,
      "outputs": [
        {
          "output_type": "execute_result",
          "data": {
            "text/plain": [
              "[('The', 'AT'),\n",
              " ('grand', 'JJ'),\n",
              " ('jury', 'NN'),\n",
              " ('commented', 'VBD'),\n",
              " ('on', 'IN'),\n",
              " ('a', 'AT'),\n",
              " ('number', 'NN'),\n",
              " ('of', 'IN'),\n",
              " ('other', 'AP'),\n",
              " ('topics', 'NNS'),\n",
              " (',', ','),\n",
              " ('AMONG', 'IN'),\n",
              " ('them', 'PPO'),\n",
              " ('the', 'AT'),\n",
              " ('Atlanta', 'NP'),\n",
              " ('and', 'CC'),\n",
              " ('Fulton', 'NP-TL'),\n",
              " ('County', 'NN-TL'),\n",
              " ('purchasing', 'VBG'),\n",
              " ('departments', 'NNS'),\n",
              " ('which', 'WDT'),\n",
              " ('it', 'PPS'),\n",
              " ('said', 'VBD'),\n",
              " ('``', '``'),\n",
              " ('ARE', 'BER'),\n",
              " ('well', 'QL'),\n",
              " ('operated', 'VBN'),\n",
              " ('and', 'CC'),\n",
              " ('follow', 'VB'),\n",
              " ('generally', 'RB'),\n",
              " ('accepted', 'VBN'),\n",
              " ('practices', 'NNS'),\n",
              " ('which', 'WDT'),\n",
              " ('inure', 'VB'),\n",
              " ('to', 'IN'),\n",
              " ('the', 'AT'),\n",
              " ('best', 'JJT'),\n",
              " ('interest', 'NN'),\n",
              " ('of', 'IN'),\n",
              " ('both', 'ABX'),\n",
              " ('governments', 'NNS'),\n",
              " (\"''\", \"''\"),\n",
              " ('.', '.')]"
            ]
          },
          "metadata": {},
          "execution_count": 8
        }
      ]
    },
    {
      "cell_type": "markdown",
      "source": [
        "### Reading Tagged Corpora\n",
        "- NLTK corpora are tagged for their part-of-speech\n",
        "    - a file from the Brown Corpus\n",
        "- POS tags are converted to uppercase, since this has become standard practice since the Brown Corpus was published"
      ],
      "metadata": {
        "id": "2a97-i_hBLq_"
      }
    },
    {
      "cell_type": "code",
      "source": [
        "nltk.corpus.brown.tagged_words()"
      ],
      "metadata": {
        "colab": {
          "base_uri": "https://localhost:8080/"
        },
        "id": "LA9cDBLzAaae",
        "outputId": "ed83737a-641f-42be-eca7-eda062d8c2c6"
      },
      "execution_count": null,
      "outputs": [
        {
          "output_type": "execute_result",
          "data": {
            "text/plain": [
              "[('The', 'AT'), ('Fulton', 'NP-TL'), ...]"
            ]
          },
          "metadata": {},
          "execution_count": 9
        }
      ]
    },
    {
      "cell_type": "code",
      "source": [
        "nltk.corpus.brown.tagged_words(tagset='universal')"
      ],
      "metadata": {
        "colab": {
          "base_uri": "https://localhost:8080/"
        },
        "id": "KWPGr6pEBGzV",
        "outputId": "7f2fe225-39d5-4ac9-9534-dc5eb3fa9f3d"
      },
      "execution_count": null,
      "outputs": [
        {
          "output_type": "execute_result",
          "data": {
            "text/plain": [
              "[('The', 'DET'), ('Fulton', 'NOUN'), ...]"
            ]
          },
          "metadata": {},
          "execution_count": 10
        }
      ]
    },
    {
      "cell_type": "code",
      "source": [
        "print(nltk.corpus.nps_chat.tagged_words())"
      ],
      "metadata": {
        "colab": {
          "base_uri": "https://localhost:8080/"
        },
        "id": "1JkdJ76WBKrq",
        "outputId": "8941a7bc-64ac-447f-b55e-552772a782e6"
      },
      "execution_count": null,
      "outputs": [
        {
          "output_type": "stream",
          "name": "stdout",
          "text": [
            "[('now', 'RB'), ('im', 'PRP'), ('left', 'VBD'), ...]\n"
          ]
        }
      ]
    },
    {
      "cell_type": "code",
      "source": [
        "nltk.corpus.conll2000.tagged_words()"
      ],
      "metadata": {
        "colab": {
          "base_uri": "https://localhost:8080/"
        },
        "id": "knv-sUSSBqkh",
        "outputId": "d6351062-004d-44bb-ccf6-af3f9bea6b1c"
      },
      "execution_count": null,
      "outputs": [
        {
          "output_type": "execute_result",
          "data": {
            "text/plain": [
              "[('Confidence', 'NN'), ('in', 'IN'), ('the', 'DT'), ...]"
            ]
          },
          "metadata": {},
          "execution_count": 12
        }
      ]
    },
    {
      "cell_type": "code",
      "source": [
        "nltk.corpus.treebank.tagged_words()"
      ],
      "metadata": {
        "colab": {
          "base_uri": "https://localhost:8080/"
        },
        "id": "K-yatHUVBte0",
        "outputId": "fa07e3d0-39f7-48e4-806d-4b93c1bc50c2"
      },
      "execution_count": null,
      "outputs": [
        {
          "output_type": "execute_result",
          "data": {
            "text/plain": [
              "[('Pierre', 'NNP'), ('Vinken', 'NNP'), (',', ','), ...]"
            ]
          },
          "metadata": {},
          "execution_count": 13
        }
      ]
    },
    {
      "cell_type": "code",
      "source": [
        "nltk.corpus.treebank.tagged_words(tagset='universal')"
      ],
      "metadata": {
        "colab": {
          "base_uri": "https://localhost:8080/"
        },
        "id": "VF3rLNX-Bvqf",
        "outputId": "07c0e66c-1947-4d97-914b-f5b6c30c369a"
      },
      "execution_count": null,
      "outputs": [
        {
          "output_type": "execute_result",
          "data": {
            "text/plain": [
              "[('Pierre', 'NOUN'), ('Vinken', 'NOUN'), (',', '.'), ...]"
            ]
          },
          "metadata": {},
          "execution_count": 15
        }
      ]
    },
    {
      "cell_type": "markdown",
      "source": [
        "#### Universal POS Tagset\n",
        "- POS-tagging classifies words into their parts of speech and labeling them accordingly\n",
        "- 장르별로 자주 쓰이는 tag 확인"
      ],
      "metadata": {
        "id": "BkHME_xDB5EX"
      }
    },
    {
      "cell_type": "code",
      "source": [
        "from nltk.corpus import brown\n",
        "brown_news_tagged = brown.tagged_words(categories='news',tagset='universal')\n",
        "print(brown_news_tagged)\n",
        "tag_fd = nltk.FreqDist(tag for (word,tag) in brown_news_tagged)"
      ],
      "metadata": {
        "colab": {
          "base_uri": "https://localhost:8080/"
        },
        "id": "bfwc7KYCBy0G",
        "outputId": "9c1a25f7-31ac-4017-cc99-26e35b074c11"
      },
      "execution_count": null,
      "outputs": [
        {
          "output_type": "stream",
          "name": "stdout",
          "text": [
            "[('The', 'DET'), ('Fulton', 'NOUN'), ...]\n"
          ]
        }
      ]
    },
    {
      "cell_type": "code",
      "source": [
        "tag_fd.most_common()"
      ],
      "metadata": {
        "colab": {
          "base_uri": "https://localhost:8080/"
        },
        "id": "hn0HELD1CHdg",
        "outputId": "1aabaf3c-6fac-422f-dae7-a6814b1aec25"
      },
      "execution_count": null,
      "outputs": [
        {
          "output_type": "execute_result",
          "data": {
            "text/plain": [
              "[('NOUN', 30654),\n",
              " ('VERB', 14399),\n",
              " ('ADP', 12355),\n",
              " ('.', 11928),\n",
              " ('DET', 11389),\n",
              " ('ADJ', 6706),\n",
              " ('ADV', 3349),\n",
              " ('CONJ', 2717),\n",
              " ('PRON', 2535),\n",
              " ('PRT', 2264),\n",
              " ('NUM', 2166),\n",
              " ('X', 92)]"
            ]
          },
          "metadata": {},
          "execution_count": 25
        }
      ]
    },
    {
      "cell_type": "markdown",
      "source": [
        "#### Nouns\n",
        "- people, places, things, or concepts\n",
        "- Nouns can appear after determiners and adjectives, and can be the subject or object of the verb\n",
        "- N for common nouns, and NP for proper nouns\n",
        "- To see what parts of speech occur before a noun, with the most frequent ones first\n",
        "    - Construct a list of bigrams whose members are themselves word-tag pairs such as (('The', 'DET'),('Fulton','NP'))\n",
        "    - Construct a FreqDist from the tag parts of the bigrams"
      ],
      "metadata": {
        "id": "UtAUfLbfCTn_"
      }
    },
    {
      "cell_type": "code",
      "source": [
        "word_tag_pairs = nltk.bigrams(brown_news_tagged)\n",
        "word_tag_pairs"
      ],
      "metadata": {
        "colab": {
          "base_uri": "https://localhost:8080/"
        },
        "id": "qXuTTUEgCPFM",
        "outputId": "5370628d-53d7-4786-c889-07faeb41c944"
      },
      "execution_count": null,
      "outputs": [
        {
          "output_type": "execute_result",
          "data": {
            "text/plain": [
              "<generator object bigrams at 0x7fbe17b297d0>"
            ]
          },
          "metadata": {},
          "execution_count": 26
        }
      ]
    },
    {
      "cell_type": "code",
      "source": [
        "noun_preceders = [a[1] for (a,b) in word_tag_pairs if b[1] == 'NOUN']"
      ],
      "metadata": {
        "id": "NFzxsTD-DCQZ"
      },
      "execution_count": null,
      "outputs": []
    },
    {
      "cell_type": "code",
      "source": [
        "fdist = nltk.FreqDist(noun_preceders)\n"
      ],
      "metadata": {
        "id": "bJG4I4FjDLF5"
      },
      "execution_count": null,
      "outputs": []
    },
    {
      "cell_type": "code",
      "source": [
        "[tag for (tag,_) in fdist.most_common()]"
      ],
      "metadata": {
        "colab": {
          "base_uri": "https://localhost:8080/"
        },
        "id": "htSOwn-UDOQy",
        "outputId": "3f63985f-a505-4059-b9d1-37bd030377e0"
      },
      "execution_count": null,
      "outputs": [
        {
          "output_type": "execute_result",
          "data": {
            "text/plain": [
              "['NOUN',\n",
              " 'DET',\n",
              " 'ADJ',\n",
              " 'ADP',\n",
              " '.',\n",
              " 'VERB',\n",
              " 'CONJ',\n",
              " 'NUM',\n",
              " 'ADV',\n",
              " 'PRT',\n",
              " 'PRON',\n",
              " 'X']"
            ]
          },
          "metadata": {},
          "execution_count": 23
        }
      ]
    },
    {
      "cell_type": "markdown",
      "source": [
        "#### Verbs\n",
        "- Events and actions\n",
        "- Express a relation involving the referents of noun phrases\n",
        "- Code shows the most common verbs in news"
      ],
      "metadata": {
        "id": "ltwns3yCDt3n"
      }
    },
    {
      "cell_type": "code",
      "source": [
        "wsj = nltk.corpus.treebank.tagged_words(tagset='universal')\n",
        "word_tag_fd = nltk.FreqDist(wsj)\n",
        "[wt[0] for (wt,_) in word_tag_fd.most_common() if wt[1] =='VERB']"
      ],
      "metadata": {
        "colab": {
          "base_uri": "https://localhost:8080/"
        },
        "id": "Eu7WPGOIDRpb",
        "outputId": "19a6c3ac-383c-4375-fba3-0c62469bc54a"
      },
      "execution_count": null,
      "outputs": [
        {
          "output_type": "execute_result",
          "data": {
            "text/plain": [
              "['is',\n",
              " 'said',\n",
              " 'was',\n",
              " 'are',\n",
              " 'be',\n",
              " 'has',\n",
              " 'have',\n",
              " 'will',\n",
              " 'says',\n",
              " 'would',\n",
              " 'were',\n",
              " 'had',\n",
              " 'been',\n",
              " 'could',\n",
              " \"'s\",\n",
              " 'can',\n",
              " 'do',\n",
              " 'say',\n",
              " 'make',\n",
              " 'may',\n",
              " 'did',\n",
              " 'rose',\n",
              " 'made',\n",
              " 'does',\n",
              " 'expected',\n",
              " 'buy',\n",
              " 'take',\n",
              " 'get',\n",
              " 'might',\n",
              " 'sell',\n",
              " 'added',\n",
              " 'sold',\n",
              " 'help',\n",
              " 'including',\n",
              " 'should',\n",
              " 'reported',\n",
              " 'according',\n",
              " 'pay',\n",
              " 'compared',\n",
              " 'being',\n",
              " 'fell',\n",
              " 'began',\n",
              " 'based',\n",
              " 'used',\n",
              " 'closed',\n",
              " \"'re\",\n",
              " 'want',\n",
              " 'see',\n",
              " 'took',\n",
              " 'yield',\n",
              " 'offered',\n",
              " 'set',\n",
              " 'priced',\n",
              " 'approved',\n",
              " 'come',\n",
              " 'noted',\n",
              " 'cut',\n",
              " 'ended',\n",
              " 'found',\n",
              " 'increased',\n",
              " 'become',\n",
              " 'think',\n",
              " 'named',\n",
              " 'go',\n",
              " 'trying',\n",
              " 'proposed',\n",
              " 'received',\n",
              " 'growing',\n",
              " 'declined',\n",
              " 'held',\n",
              " 'give',\n",
              " 'came',\n",
              " 'use',\n",
              " 'put',\n",
              " 'making',\n",
              " 'continue',\n",
              " 'raise',\n",
              " 'estimated',\n",
              " 'called',\n",
              " 'paid',\n",
              " 'designed',\n",
              " 'going',\n",
              " 'expects',\n",
              " 'seeking',\n",
              " 'must',\n",
              " 'plans',\n",
              " 'wo',\n",
              " 'increasing',\n",
              " 'saying',\n",
              " 'got',\n",
              " 'owns',\n",
              " 'trading',\n",
              " 'acquired',\n",
              " 'gained',\n",
              " 'fined',\n",
              " 'reached',\n",
              " 'holding',\n",
              " 'announced',\n",
              " 'filed',\n",
              " 'became',\n",
              " 'seek',\n",
              " 'included',\n",
              " 'using',\n",
              " 'led',\n",
              " 'decided',\n",
              " 'keep',\n",
              " 'disclosed',\n",
              " 'agreed',\n",
              " 'find',\n",
              " 'failed',\n",
              " 'run',\n",
              " 'taken',\n",
              " 'know',\n",
              " 'coming',\n",
              " \"'ve\",\n",
              " 'completed',\n",
              " 'built',\n",
              " 'raised',\n",
              " 'traded',\n",
              " 'lost',\n",
              " 'continued',\n",
              " 'paying',\n",
              " 'include',\n",
              " 'believe',\n",
              " 'receive',\n",
              " 'posted',\n",
              " 'wants',\n",
              " 'scheduled',\n",
              " 'went',\n",
              " 'indicated',\n",
              " 'provide',\n",
              " 'helped',\n",
              " 'needed',\n",
              " 'goes',\n",
              " 'told',\n",
              " 'result',\n",
              " 'need',\n",
              " 'caused',\n",
              " 'continues',\n",
              " 'dropped',\n",
              " 'showed',\n",
              " 'ordered',\n",
              " 'changed',\n",
              " 'face',\n",
              " 'continuing',\n",
              " 'launched',\n",
              " 'gives',\n",
              " 'reduce',\n",
              " \"'m\",\n",
              " 'lead',\n",
              " 'planned',\n",
              " 'wanted',\n",
              " 'following',\n",
              " 'remains',\n",
              " 'followed',\n",
              " 'remain',\n",
              " 'meet',\n",
              " 'believes',\n",
              " 'trade',\n",
              " 'includes',\n",
              " 'improve',\n",
              " 'buying',\n",
              " 'issued',\n",
              " 'rise',\n",
              " 'leading',\n",
              " 'ca',\n",
              " 'involved',\n",
              " 'known',\n",
              " 'like',\n",
              " 'makes',\n",
              " 'having',\n",
              " 'rejected',\n",
              " 'rising',\n",
              " 'increase',\n",
              " 'turned',\n",
              " 'operating',\n",
              " 'read',\n",
              " 'feel',\n",
              " 'win',\n",
              " 'given',\n",
              " 'prevent',\n",
              " 'offset',\n",
              " 'barred',\n",
              " 'earned',\n",
              " 'consented',\n",
              " 'support',\n",
              " 'gave',\n",
              " 'totaled',\n",
              " 'acquire',\n",
              " 'required',\n",
              " 'begin',\n",
              " 'require',\n",
              " 'offer',\n",
              " 'preferred',\n",
              " 'produced',\n",
              " 'bought',\n",
              " 'offering',\n",
              " 'asked',\n",
              " 'carry',\n",
              " 'build',\n",
              " 'takes',\n",
              " 'seem',\n",
              " 'introduced',\n",
              " 'taking',\n",
              " 'won',\n",
              " 'aimed',\n",
              " 'hurt',\n",
              " 'adds',\n",
              " 'cited',\n",
              " 'sought',\n",
              " 'bring',\n",
              " 'remaining',\n",
              " 'considered',\n",
              " 'suspended',\n",
              " 'prove',\n",
              " 'looking',\n",
              " 'doing',\n",
              " 'involving',\n",
              " 'opened',\n",
              " 'working',\n",
              " 'close',\n",
              " 'own',\n",
              " 'report',\n",
              " 'left',\n",
              " 'boosted',\n",
              " 'giving',\n",
              " 'fixed',\n",
              " 'listed',\n",
              " 'runs',\n",
              " 'purchasing',\n",
              " 'consider',\n",
              " 'prepared',\n",
              " 'hit',\n",
              " 'getting',\n",
              " 'alleged',\n",
              " 'look',\n",
              " 'allowed',\n",
              " 'approve',\n",
              " 'wrote',\n",
              " 'reduced',\n",
              " 'fall',\n",
              " 'advanced',\n",
              " 'appears',\n",
              " 'mixed',\n",
              " 'described',\n",
              " 'expect',\n",
              " 'manufacturing',\n",
              " 'spent',\n",
              " 'According',\n",
              " 'hopes',\n",
              " 'underlying',\n",
              " 'produce',\n",
              " 'work',\n",
              " 'placed',\n",
              " 'allow',\n",
              " 'sells',\n",
              " 'operate',\n",
              " 'extend',\n",
              " 'surged',\n",
              " 'jumped',\n",
              " 'boost',\n",
              " 'slowing',\n",
              " 'provided',\n",
              " 'seems',\n",
              " 'ending',\n",
              " 'selling',\n",
              " 'opposed',\n",
              " 'created',\n",
              " 'move',\n",
              " 'seen',\n",
              " 'comment',\n",
              " 'valued',\n",
              " 'losing',\n",
              " 'mature',\n",
              " 'provides',\n",
              " 'let',\n",
              " 'stopped',\n",
              " 'worked',\n",
              " 'thought',\n",
              " 'watch',\n",
              " 'introduce',\n",
              " 'related',\n",
              " 'improved',\n",
              " 'raising',\n",
              " 'seemed',\n",
              " 'force',\n",
              " 'beginning',\n",
              " 'leave',\n",
              " 'believed',\n",
              " 'stand',\n",
              " 'developed',\n",
              " 'decline',\n",
              " 'expire',\n",
              " 'managing',\n",
              " 'hold',\n",
              " 'invested',\n",
              " 'suggests',\n",
              " 'represent',\n",
              " 'settle',\n",
              " 'change',\n",
              " 'contributed',\n",
              " 'indicates',\n",
              " 'asking',\n",
              " 'elaborate',\n",
              " 'shows',\n",
              " 'refused',\n",
              " 'quoted',\n",
              " 'comes',\n",
              " 'ease',\n",
              " 'passed',\n",
              " 'Says',\n",
              " 'avoid',\n",
              " 'threatened',\n",
              " 'cause',\n",
              " 'end',\n",
              " 'violate',\n",
              " 'operates',\n",
              " 'kept',\n",
              " \"'ll\",\n",
              " 'soared',\n",
              " 'eliminated',\n",
              " 'becomes',\n",
              " 'create',\n",
              " 'print',\n",
              " 'shall',\n",
              " 'show',\n",
              " 'replaced',\n",
              " 'owned',\n",
              " 'argue',\n",
              " 'beat',\n",
              " 'elected',\n",
              " 'complete',\n",
              " 'issue',\n",
              " 'act',\n",
              " 'return',\n",
              " 'registered',\n",
              " 'suffer',\n",
              " 'worried',\n",
              " 'succeed',\n",
              " 'block',\n",
              " 'contain',\n",
              " 'occur',\n",
              " 'pursue',\n",
              " 'combined',\n",
              " 'requires',\n",
              " 'met',\n",
              " 'brought',\n",
              " 'started',\n",
              " 'covered',\n",
              " 'turn',\n",
              " 'running',\n",
              " 'eliminate',\n",
              " 'file',\n",
              " 'plunged',\n",
              " 'fallen',\n",
              " 'ran',\n",
              " 'fired',\n",
              " 'becoming',\n",
              " 'contained',\n",
              " 'managed',\n",
              " 'Take',\n",
              " 'suggested',\n",
              " 'accused',\n",
              " 'appeared',\n",
              " 'slow',\n",
              " 'helping',\n",
              " 'discovered',\n",
              " 'add',\n",
              " 'referred',\n",
              " 'oppose',\n",
              " 'stop',\n",
              " 'claim',\n",
              " 'sent',\n",
              " 'formed',\n",
              " 'resulting',\n",
              " 'turning',\n",
              " 'limited',\n",
              " 'shipped',\n",
              " 'forced',\n",
              " 'send',\n",
              " 'attract',\n",
              " 'admitting',\n",
              " 'denying',\n",
              " 'disgorge',\n",
              " 'attributed',\n",
              " 'causing',\n",
              " 'studied',\n",
              " 'resigned',\n",
              " 'cutting',\n",
              " 'voted',\n",
              " 'settled',\n",
              " 'expand',\n",
              " 'stood',\n",
              " 'retired',\n",
              " 'moved',\n",
              " 'pending',\n",
              " 'providing',\n",
              " 'anticipated',\n",
              " 'decide',\n",
              " 'creating',\n",
              " 'prompted',\n",
              " 'developing',\n",
              " 'start',\n",
              " 'maintained',\n",
              " 'expanding',\n",
              " 'follows',\n",
              " 'ranged',\n",
              " 'focused',\n",
              " 'climbed',\n",
              " 'reflect',\n",
              " 'insist',\n",
              " 'owed',\n",
              " 'happen',\n",
              " 'adjusted',\n",
              " 'awarded',\n",
              " 'reporting',\n",
              " 'talk',\n",
              " 'offers',\n",
              " 'written',\n",
              " 'urged',\n",
              " 'carried',\n",
              " 'identified',\n",
              " 'confirmed',\n",
              " 'playing',\n",
              " 'thinking',\n",
              " 'calls',\n",
              " 'means',\n",
              " 'tried',\n",
              " 'lying',\n",
              " 'asks',\n",
              " 'building',\n",
              " 'suggest',\n",
              " 'falling',\n",
              " 'discuss',\n",
              " 'matched',\n",
              " 'concluded',\n",
              " 'keeping',\n",
              " \"'d\",\n",
              " 'returned',\n",
              " 'withdrawn',\n",
              " 'bid',\n",
              " 'saw',\n",
              " 'signed',\n",
              " 'financing',\n",
              " 'assuming',\n",
              " 'adopted',\n",
              " 'attempting',\n",
              " 'accepted',\n",
              " 'cover',\n",
              " 'facing',\n",
              " 'risk',\n",
              " 'expanded',\n",
              " 'leaving',\n",
              " 'raises',\n",
              " 'declared',\n",
              " 'exercise',\n",
              " 'finished',\n",
              " 'regarding',\n",
              " 'finance',\n",
              " 'charge',\n",
              " 'starting',\n",
              " 'realize',\n",
              " 'felt',\n",
              " 'remained',\n",
              " 'expressed',\n",
              " 'done',\n",
              " 'replace',\n",
              " 'veto',\n",
              " 'stay',\n",
              " 'delivered',\n",
              " 'join',\n",
              " 'publishing',\n",
              " 'enters',\n",
              " 'appear',\n",
              " 'talking',\n",
              " 'heard',\n",
              " 'dumped',\n",
              " 'imported',\n",
              " 'assume',\n",
              " 'declining',\n",
              " 'capture',\n",
              " 'grew',\n",
              " 'holds',\n",
              " 'lift',\n",
              " 'treat',\n",
              " 'receiving',\n",
              " 'joined',\n",
              " 'reflecting',\n",
              " 'released',\n",
              " 'maintaining',\n",
              " 'cost',\n",
              " 'lowered',\n",
              " 'costs',\n",
              " 'exceed',\n",
              " 'gaining',\n",
              " 'considering',\n",
              " 'determined',\n",
              " 'ruled',\n",
              " 'hope',\n",
              " 'located',\n",
              " 'tied',\n",
              " 'heads',\n",
              " 'applied',\n",
              " 'failing',\n",
              " 'showing',\n",
              " 'apply',\n",
              " 'protecting',\n",
              " 'tells',\n",
              " 'complained',\n",
              " 'ask',\n",
              " 'triggered',\n",
              " 'entered',\n",
              " 'total',\n",
              " 'producing',\n",
              " 'denied',\n",
              " 'reducing',\n",
              " 'reflects',\n",
              " 'account',\n",
              " 'predicting',\n",
              " 'intended',\n",
              " 'purchased',\n",
              " 'blamed',\n",
              " 'worry',\n",
              " 'broken',\n",
              " 'carries',\n",
              " 'learned',\n",
              " 'renewed',\n",
              " 'walk',\n",
              " 'viewed',\n",
              " 'die',\n",
              " 'speculated',\n",
              " 'needs',\n",
              " 'gets',\n",
              " 'wait',\n",
              " 'caught',\n",
              " 'claims',\n",
              " 'choose',\n",
              " 'fail',\n",
              " 'insists',\n",
              " 'knows',\n",
              " 'pass',\n",
              " 'grown',\n",
              " 'gotten',\n",
              " 'grows',\n",
              " 'responded',\n",
              " 'play',\n",
              " 'try',\n",
              " 'mean',\n",
              " 'encourage',\n",
              " 'chosen',\n",
              " 'admits',\n",
              " 'Do',\n",
              " 'dismissed',\n",
              " 'realized',\n",
              " 'serve',\n",
              " 'associated',\n",
              " 'slipped',\n",
              " 'argued',\n",
              " 'citing',\n",
              " 'seeks',\n",
              " 'preventing',\n",
              " 'sparked',\n",
              " 'review',\n",
              " 'opening',\n",
              " 'fueled',\n",
              " 'negotiate',\n",
              " 'drop',\n",
              " 'pleased',\n",
              " 'spend',\n",
              " 'care',\n",
              " 'represents',\n",
              " 'spread',\n",
              " 'explains',\n",
              " 'push',\n",
              " 'divided',\n",
              " 'proposing',\n",
              " 'gain',\n",
              " 'representing',\n",
              " 'financed',\n",
              " 'execute',\n",
              " 'existing',\n",
              " 'discussed',\n",
              " 'uses',\n",
              " 'live',\n",
              " 'ring',\n",
              " 'signal',\n",
              " 'focus',\n",
              " 'hired',\n",
              " 'limit',\n",
              " 'begins',\n",
              " 'reflected',\n",
              " 'hear',\n",
              " 'determine',\n",
              " 'profit',\n",
              " 'marketed',\n",
              " 'warned',\n",
              " 'qualified',\n",
              " 'died',\n",
              " 'surviving',\n",
              " 'study',\n",
              " 'explained',\n",
              " 'imposed',\n",
              " 'recognize',\n",
              " 'eased',\n",
              " 'indicate',\n",
              " 'permit',\n",
              " 'retain',\n",
              " 'yielding',\n",
              " 'boosts',\n",
              " 'obtain',\n",
              " 'employs',\n",
              " 'banned',\n",
              " 'pointed',\n",
              " 'leaves',\n",
              " 'withdraw',\n",
              " 'refund',\n",
              " 'collected',\n",
              " 'upheld',\n",
              " 'benefited',\n",
              " 'doubled',\n",
              " 'attached',\n",
              " 'jump',\n",
              " 'compete',\n",
              " 'incurred',\n",
              " 'removed',\n",
              " 'honor',\n",
              " 'varying',\n",
              " 'marketing',\n",
              " 'protect',\n",
              " 'reach',\n",
              " 'share',\n",
              " 'requested',\n",
              " 'grant',\n",
              " 'stepping',\n",
              " 'direct',\n",
              " 'curb',\n",
              " 'controlling',\n",
              " 'snapped',\n",
              " 'tend',\n",
              " 'cast',\n",
              " 'clear',\n",
              " 'permitted',\n",
              " 'remove',\n",
              " 'revive',\n",
              " 'draw',\n",
              " 'predicted',\n",
              " 'suspect',\n",
              " 'coupled',\n",
              " 'belong',\n",
              " 'call',\n",
              " 'describes',\n",
              " 'played',\n",
              " 'committed',\n",
              " 'advertising',\n",
              " 'tested',\n",
              " 'revived',\n",
              " 'earns',\n",
              " 'feeling',\n",
              " 'turns',\n",
              " 'executed',\n",
              " 'killed',\n",
              " 'presented',\n",
              " 'deserve',\n",
              " 'mention',\n",
              " 'seeing',\n",
              " 'discussing',\n",
              " 'convicted',\n",
              " 'telling',\n",
              " 'agree',\n",
              " 'denies',\n",
              " 'pursued',\n",
              " 'spurred',\n",
              " 'accommodate',\n",
              " 'surrendered',\n",
              " 'gone',\n",
              " 'teach',\n",
              " 'booming',\n",
              " 'serving',\n",
              " 'restore',\n",
              " 'restructured',\n",
              " 'taught',\n",
              " 'feared',\n",
              " 'meant',\n",
              " 'adding',\n",
              " 'publishes',\n",
              " 'improving',\n",
              " 'ignoring',\n",
              " 'represented',\n",
              " 'funded',\n",
              " 'involve',\n",
              " 'charged',\n",
              " 'fared',\n",
              " 'eliminates',\n",
              " 'tumbled',\n",
              " 'redeemed',\n",
              " 'resolve',\n",
              " 'stem',\n",
              " 'hire',\n",
              " 'obtained',\n",
              " 'develop',\n",
              " 'employed',\n",
              " 'prohibits',\n",
              " 'promote',\n",
              " 'impose',\n",
              " 'consist',\n",
              " 'investigating',\n",
              " 'accepting',\n",
              " 'plan',\n",
              " 'insisted',\n",
              " 'contacted',\n",
              " 'note',\n",
              " 'driving',\n",
              " 'contends',\n",
              " 'cites',\n",
              " 'point',\n",
              " 'sign',\n",
              " 'printed',\n",
              " 'advertise',\n",
              " 'breaks',\n",
              " 'damaged',\n",
              " 'check',\n",
              " 'thinks',\n",
              " 'looming',\n",
              " 'expecting',\n",
              " 'exercised',\n",
              " 'auctioned',\n",
              " 'disappointed',\n",
              " 'subordinated',\n",
              " 'respond',\n",
              " 'secured',\n",
              " 'integrated',\n",
              " 'performed',\n",
              " 'targeting',\n",
              " 'stepped',\n",
              " 'moving',\n",
              " 'split',\n",
              " 'Buy',\n",
              " 'stemming',\n",
              " 'executing',\n",
              " 'shut',\n",
              " 'writing',\n",
              " 'regulated',\n",
              " 'stands',\n",
              " 'attend',\n",
              " 'reopen',\n",
              " 'drawn',\n",
              " 'Put',\n",
              " 'notes',\n",
              " 'weaken',\n",
              " 'trailed',\n",
              " 'deliver',\n",
              " 'occurred',\n",
              " 'changing',\n",
              " 'accept',\n",
              " 'expelled',\n",
              " 'amounted',\n",
              " 'scrutinizing',\n",
              " 'suspend',\n",
              " 'compares',\n",
              " 'backed',\n",
              " 'vote',\n",
              " 'covers',\n",
              " 'knew',\n",
              " 'joining',\n",
              " 'record',\n",
              " 'regarded',\n",
              " 'copy',\n",
              " 'conclude',\n",
              " 'ought',\n",
              " 'dominated',\n",
              " 'pushed',\n",
              " 'closing',\n",
              " 'rumored',\n",
              " 'respected',\n",
              " 'specified',\n",
              " 'understand',\n",
              " 'supported',\n",
              " 'perform',\n",
              " 'declaring',\n",
              " 'struggling',\n",
              " 'abandoned',\n",
              " 'considers',\n",
              " 'warning',\n",
              " 'offsetting',\n",
              " 'break',\n",
              " 'follow',\n",
              " 'figure',\n",
              " 'increases',\n",
              " 'proving',\n",
              " 'edged',\n",
              " 'Buying',\n",
              " 'forecast',\n",
              " 'specify',\n",
              " 'extended',\n",
              " 'tendered',\n",
              " 'unveiled',\n",
              " 'treating',\n",
              " 'exposed',\n",
              " 'industrialized',\n",
              " 'regulate',\n",
              " 'contracted',\n",
              " 'blip',\n",
              " 'vary',\n",
              " 'slid',\n",
              " 'succeeds',\n",
              " 'lifted',\n",
              " 'acts',\n",
              " 'welcomed',\n",
              " 'squeezed',\n",
              " 'fed',\n",
              " 'casting',\n",
              " 'prolonged',\n",
              " 'recorded',\n",
              " 'announce',\n",
              " 'reward',\n",
              " 'bowed',\n",
              " 'justify',\n",
              " 'asserted',\n",
              " 'appealing',\n",
              " 'faces',\n",
              " 'rule',\n",
              " 'inched',\n",
              " 'manufacture',\n",
              " 'fund',\n",
              " 'anticipates',\n",
              " 'link',\n",
              " 'describe',\n",
              " 'roll',\n",
              " 'calculate',\n",
              " 'transferring',\n",
              " 'favored',\n",
              " 'claiming',\n",
              " 'hurting',\n",
              " 'investing',\n",
              " 'trained',\n",
              " 'instituted',\n",
              " 'introducing',\n",
              " 'vowed',\n",
              " 'deemed',\n",
              " 'pose',\n",
              " 'concerned',\n",
              " 'accelerated',\n",
              " 'feels',\n",
              " 'solved',\n",
              " 'forgiven',\n",
              " 'stored',\n",
              " 'assembled',\n",
              " 'totaling',\n",
              " 'linked',\n",
              " 'forces',\n",
              " 'attempts',\n",
              " 'advertised',\n",
              " 'marks',\n",
              " 'sweeping',\n",
              " 'invest',\n",
              " 'kicked',\n",
              " 'brings',\n",
              " 'scrambled',\n",
              " 'diversify',\n",
              " 'swing',\n",
              " 'skyrocketed',\n",
              " 'targeted',\n",
              " 'repaid',\n",
              " 'open',\n",
              " 'crippled',\n",
              " 'lent',\n",
              " 'belongs',\n",
              " 'stressed',\n",
              " 'leveling',\n",
              " 'manufactured',\n",
              " 'pick',\n",
              " 'cite',\n",
              " 'provoke',\n",
              " 'last',\n",
              " 'climbing',\n",
              " 'Excluding',\n",
              " 'adjusting',\n",
              " 'counts',\n",
              " 'handle',\n",
              " 'polled',\n",
              " 'drink',\n",
              " 'sets',\n",
              " 'sidestep',\n",
              " 'fare',\n",
              " 'letting',\n",
              " 'entering',\n",
              " 'ban',\n",
              " 'visiting',\n",
              " 'endorsed',\n",
              " 'balked',\n",
              " 'compensate',\n",
              " 'terminated',\n",
              " 'modify',\n",
              " 'operated',\n",
              " 'entitles',\n",
              " 'romanticized',\n",
              " 'spends',\n",
              " 'condemned',\n",
              " 'competing',\n",
              " 'returning',\n",
              " 'murdered',\n",
              " 'load',\n",
              " 'lives',\n",
              " 'recommend',\n",
              " 'fighting',\n",
              " 'fills',\n",
              " 'charges',\n",
              " 'exist',\n",
              " 'Stung',\n",
              " 'banning',\n",
              " 'admitted',\n",
              " 'talks',\n",
              " 'launch',\n",
              " 'attracted',\n",
              " 'featured',\n",
              " 'devote',\n",
              " 'featuring',\n",
              " 'suing',\n",
              " 'shrinks',\n",
              " 'tripled',\n",
              " 'pumping',\n",
              " 'contributing',\n",
              " 'spur',\n",
              " 'concentrated',\n",
              " 'export',\n",
              " 'pull',\n",
              " 'approach',\n",
              " 'step',\n",
              " 'regard',\n",
              " 'breach',\n",
              " 'pleaded',\n",
              " 'inspired',\n",
              " 'defended',\n",
              " 'treated',\n",
              " 'casts',\n",
              " 'violated',\n",
              " 'enforce',\n",
              " 'surfaced',\n",
              " 'concentrate',\n",
              " 'stressing',\n",
              " 'suffered',\n",
              " 'loved',\n",
              " 'advised',\n",
              " 'studying',\n",
              " 'pushing',\n",
              " 'earn',\n",
              " 'save',\n",
              " 'interviewed',\n",
              " 'explain',\n",
              " 'gauge',\n",
              " 'measured',\n",
              " 'deny',\n",
              " 'hampered',\n",
              " 'fill',\n",
              " 'nominated',\n",
              " 'assured',\n",
              " 'finding',\n",
              " 'conducting',\n",
              " 'tracks',\n",
              " 'merge',\n",
              " 'merged',\n",
              " 'banking',\n",
              " 'achieve',\n",
              " 'acquiring',\n",
              " 'post',\n",
              " 'wish',\n",
              " 'retained',\n",
              " 'spark',\n",
              " 'chaired',\n",
              " 'deal',\n",
              " 'submit',\n",
              " 'sending',\n",
              " 'test',\n",
              " 'relegated',\n",
              " 'alleging',\n",
              " 'mounted',\n",
              " 'harass',\n",
              " 'crossing',\n",
              " 'involves',\n",
              " 'assist',\n",
              " 'killing',\n",
              " 'served',\n",
              " 'understood',\n",
              " 'touch',\n",
              " 'Asked',\n",
              " 'design',\n",
              " 'retaining',\n",
              " 'belonging',\n",
              " 'compiled',\n",
              " 'Guaranteed',\n",
              " 'positioned',\n",
              " 'plunging',\n",
              " 'locked',\n",
              " 'starts',\n",
              " 'waiting',\n",
              " 'rolled',\n",
              " 'lock',\n",
              " 'drifted',\n",
              " 'measures',\n",
              " 'Estimated',\n",
              " ...]"
            ]
          },
          "metadata": {},
          "execution_count": 27
        }
      ]
    },
    {
      "cell_type": "markdown",
      "source": [
        "## Korean POS Tagging"
      ],
      "metadata": {
        "id": "rhnh8KG0Eekf"
      }
    },
    {
      "cell_type": "markdown",
      "source": [
        "### KONLPy installation"
      ],
      "metadata": {
        "id": "shxq4MaLFEWq"
      }
    },
    {
      "cell_type": "code",
      "source": [
        "  !pip install ipykernel"
      ],
      "metadata": {
        "colab": {
          "base_uri": "https://localhost:8080/"
        },
        "id": "jSBj2xH9ECju",
        "outputId": "7d314cfc-134a-47c5-8e83-9c79754d6a15"
      },
      "execution_count": null,
      "outputs": [
        {
          "output_type": "stream",
          "name": "stdout",
          "text": [
            "Looking in indexes: https://pypi.org/simple, https://us-python.pkg.dev/colab-wheels/public/simple/\n",
            "Requirement already satisfied: ipykernel in /usr/local/lib/python3.7/dist-packages (5.3.4)\n",
            "Requirement already satisfied: ipython>=5.0.0 in /usr/local/lib/python3.7/dist-packages (from ipykernel) (7.9.0)\n",
            "Requirement already satisfied: jupyter-client in /usr/local/lib/python3.7/dist-packages (from ipykernel) (6.1.12)\n",
            "Requirement already satisfied: tornado>=4.2 in /usr/local/lib/python3.7/dist-packages (from ipykernel) (5.1.1)\n",
            "Requirement already satisfied: traitlets>=4.1.0 in /usr/local/lib/python3.7/dist-packages (from ipykernel) (5.1.1)\n",
            "Requirement already satisfied: pygments in /usr/local/lib/python3.7/dist-packages (from ipython>=5.0.0->ipykernel) (2.6.1)\n",
            "Requirement already satisfied: pexpect in /usr/local/lib/python3.7/dist-packages (from ipython>=5.0.0->ipykernel) (4.8.0)\n",
            "Requirement already satisfied: pickleshare in /usr/local/lib/python3.7/dist-packages (from ipython>=5.0.0->ipykernel) (0.7.5)\n",
            "Requirement already satisfied: prompt-toolkit<2.1.0,>=2.0.0 in /usr/local/lib/python3.7/dist-packages (from ipython>=5.0.0->ipykernel) (2.0.10)\n",
            "Requirement already satisfied: setuptools>=18.5 in /usr/local/lib/python3.7/dist-packages (from ipython>=5.0.0->ipykernel) (57.4.0)\n",
            "Collecting jedi>=0.10\n",
            "  Downloading jedi-0.18.1-py2.py3-none-any.whl (1.6 MB)\n",
            "\u001b[K     |████████████████████████████████| 1.6 MB 13.5 MB/s \n",
            "\u001b[?25hRequirement already satisfied: decorator in /usr/local/lib/python3.7/dist-packages (from ipython>=5.0.0->ipykernel) (4.4.2)\n",
            "Requirement already satisfied: backcall in /usr/local/lib/python3.7/dist-packages (from ipython>=5.0.0->ipykernel) (0.2.0)\n",
            "Requirement already satisfied: parso<0.9.0,>=0.8.0 in /usr/local/lib/python3.7/dist-packages (from jedi>=0.10->ipython>=5.0.0->ipykernel) (0.8.3)\n",
            "Requirement already satisfied: wcwidth in /usr/local/lib/python3.7/dist-packages (from prompt-toolkit<2.1.0,>=2.0.0->ipython>=5.0.0->ipykernel) (0.2.5)\n",
            "Requirement already satisfied: six>=1.9.0 in /usr/local/lib/python3.7/dist-packages (from prompt-toolkit<2.1.0,>=2.0.0->ipython>=5.0.0->ipykernel) (1.15.0)\n",
            "Requirement already satisfied: python-dateutil>=2.1 in /usr/local/lib/python3.7/dist-packages (from jupyter-client->ipykernel) (2.8.2)\n",
            "Requirement already satisfied: pyzmq>=13 in /usr/local/lib/python3.7/dist-packages (from jupyter-client->ipykernel) (23.2.1)\n",
            "Requirement already satisfied: jupyter-core>=4.6.0 in /usr/local/lib/python3.7/dist-packages (from jupyter-client->ipykernel) (4.11.1)\n",
            "Requirement already satisfied: ptyprocess>=0.5 in /usr/local/lib/python3.7/dist-packages (from pexpect->ipython>=5.0.0->ipykernel) (0.7.0)\n",
            "Installing collected packages: jedi\n",
            "Successfully installed jedi-0.18.1\n"
          ]
        }
      ]
    },
    {
      "cell_type": "code",
      "source": [
        "!pip install JPype1-py3"
      ],
      "metadata": {
        "colab": {
          "base_uri": "https://localhost:8080/"
        },
        "id": "u1Y2kcLcEztk",
        "outputId": "ee35b5a9-902b-4e30-8f05-291b4e951d96"
      },
      "execution_count": null,
      "outputs": [
        {
          "output_type": "stream",
          "name": "stdout",
          "text": [
            "Looking in indexes: https://pypi.org/simple, https://us-python.pkg.dev/colab-wheels/public/simple/\n",
            "Collecting JPype1-py3\n",
            "  Downloading JPype1-py3-0.5.5.4.tar.gz (88 kB)\n",
            "\u001b[K     |████████████████████████████████| 88 kB 973 kB/s \n",
            "\u001b[?25hBuilding wheels for collected packages: JPype1-py3\n",
            "  Building wheel for JPype1-py3 (setup.py) ... \u001b[?25l\u001b[?25hdone\n",
            "  Created wheel for JPype1-py3: filename=JPype1_py3-0.5.5.4-cp37-cp37m-linux_x86_64.whl size=2692671 sha256=59cfee589a7e8d24dd36c33b081fc81c196708743a4b126ecafa9bdb16e6a173\n",
            "  Stored in directory: /root/.cache/pip/wheels/e7/d1/09/f55dca0203b0691945bdf0f63d486a0b4d4e5ec4bd78a2502e\n",
            "Successfully built JPype1-py3\n",
            "Installing collected packages: JPype1-py3\n",
            "Successfully installed JPype1-py3-0.5.5.4\n"
          ]
        }
      ]
    },
    {
      "cell_type": "code",
      "source": [
        "!pip install konlpy"
      ],
      "metadata": {
        "colab": {
          "base_uri": "https://localhost:8080/"
        },
        "id": "4nCODeqzE7Er",
        "outputId": "9825842a-011f-4fa5-ce57-6533e909af3d"
      },
      "execution_count": null,
      "outputs": [
        {
          "output_type": "stream",
          "name": "stdout",
          "text": [
            "Looking in indexes: https://pypi.org/simple, https://us-python.pkg.dev/colab-wheels/public/simple/\n",
            "Requirement already satisfied: konlpy in /usr/local/lib/python3.7/dist-packages (0.6.0)\n",
            "Requirement already satisfied: lxml>=4.1.0 in /usr/local/lib/python3.7/dist-packages (from konlpy) (4.9.1)\n",
            "Requirement already satisfied: numpy>=1.6 in /usr/local/lib/python3.7/dist-packages (from konlpy) (1.21.6)\n",
            "Requirement already satisfied: JPype1>=0.7.0 in /usr/local/lib/python3.7/dist-packages (from konlpy) (1.4.0)\n",
            "Requirement already satisfied: typing-extensions in /usr/local/lib/python3.7/dist-packages (from JPype1>=0.7.0->konlpy) (4.1.1)\n"
          ]
        }
      ]
    },
    {
      "cell_type": "code",
      "source": [
        "from konlpy.tag import Okt\n",
        "okt = Okt()\n",
        "print(okt.morphs(u'단독입찰보다 복수입찰의 경우')) #형태소 단위로 분리\n",
        "print(okt.nouns(u'유일하게 항공기 체계 종합개발 경험을 갖고 있는 KAI는')) # 명사 추출\n",
        "print(okt.phrases(u'날카로운 분석과 신뢰감 있는 진행으로')) # 어절 추출\n",
        "print(okt.pos(u'이것도 되나욬ㅋㅋ')) # 품사 태깅\n",
        "print(okt.pos(u'이것도 되나욬ㅋㅋ', norm=True))\n",
        "print(okt.pos(u'이것도 되나욬ㅋㅋ', norm=True, stem=True))"
      ],
      "metadata": {
        "colab": {
          "base_uri": "https://localhost:8080/"
        },
        "id": "0QCPjN2YE9l9",
        "outputId": "e4d0130f-9032-49d1-9f31-be2f07e0d5bb"
      },
      "execution_count": null,
      "outputs": [
        {
          "output_type": "stream",
          "name": "stdout",
          "text": [
            "['단독', '입찰', '보다', '복수', '입찰', '의', '경우']\n",
            "['항공기', '체계', '종합', '개발', '경험']\n",
            "['날카로운 분석', '날카로운 분석과 신뢰감', '날카로운 분석과 신뢰감 있는 진행', '분석', '신뢰', '진행']\n",
            "[('이', 'Determiner'), ('것', 'Noun'), ('도', 'Josa'), ('되나욬', 'Noun'), ('ㅋㅋ', 'KoreanParticle')]\n",
            "[('이', 'Determiner'), ('것', 'Noun'), ('도', 'Josa'), ('되나요', 'Verb'), ('ㅋㅋ', 'KoreanParticle')]\n",
            "[('이', 'Determiner'), ('것', 'Noun'), ('도', 'Josa'), ('되다', 'Verb'), ('ㅋㅋ', 'KoreanParticle')]\n"
          ]
        }
      ]
    },
    {
      "cell_type": "code",
      "source": [
        "from konlpy.tag import Okt\n",
        "okt = Okt()\n",
        "korea=u'아시아 대륙의 동쪽 끝 한반도에 있는 나라로서, \\\n",
        "최초의 국가인 고조선은 BC 108년까지 존재했다. 고구려, 백제, \\\n",
        "신라의 삼국시대를 거쳐 중세에는 고려가 세워졌으며, 이후 \\\n",
        "조선이 건립되어 근대까지 이어졌다. 현대 들어 35년의 \\\n",
        "일제강점기를 거쳐 제2차 세계대전 뒤 미국과 소련 군대의 \\\n",
        "한반도 분할 주둔으로 남북으로 나뉘었고 1948년 대한민국이 \\\n",
        "수립되었다. 이후 6·25전쟁이 일어나 휴전중이며, 현재까지 \\\n",
        "분단국가로 남아 있다'\n",
        "sentences = korea.split(\".\")\n",
        "for sentence in sentences:\n",
        "    tagged = okt.pos(sentence, norm=True, stem=True)\n",
        "    print(tagged)"
      ],
      "metadata": {
        "colab": {
          "base_uri": "https://localhost:8080/"
        },
        "id": "T5xwEf7zF6Bu",
        "outputId": "f3178912-9373-4a5a-e4c1-7a8be700c48d"
      },
      "execution_count": null,
      "outputs": [
        {
          "output_type": "stream",
          "name": "stdout",
          "text": [
            "[('아시아', 'Noun'), ('대륙', 'Noun'), ('의', 'Josa'), ('동쪽', 'Noun'), ('끝', 'Noun'), ('한반도', 'Noun'), ('에', 'Josa'), ('있다', 'Adjective'), ('나라', 'Noun'), ('로서', 'Noun'), (',', 'Punctuation'), ('최초', 'Noun'), ('의', 'Josa'), ('국가', 'Noun'), ('인', 'Josa'), ('고조선', 'Noun'), ('은', 'Josa'), ('BC', 'Alpha'), ('108년', 'Number'), ('까지', 'Foreign'), ('존재', 'Noun'), ('하다', 'Verb')]\n",
            "[('고구려', 'Noun'), (',', 'Punctuation'), ('백제', 'Noun'), (',', 'Punctuation'), ('신라', 'Noun'), ('의', 'Josa'), ('삼국시대', 'Noun'), ('를', 'Josa'), ('거치다', 'Verb'), ('중세', 'Noun'), ('에는', 'Josa'), ('고려', 'Noun'), ('가', 'Josa'), ('세워지다', 'Verb'), (',', 'Punctuation'), ('이후', 'Noun'), ('조선', 'Noun'), ('이', 'Josa'), ('건립', 'Noun'), ('되어다', 'Verb'), ('근대', 'Noun'), ('까지', 'Josa'), ('이어지다', 'Verb')]\n",
            "[('현대', 'Noun'), ('들다', 'Verb'), ('35년', 'Number'), ('의', 'Foreign'), ('일제강점기', 'Noun'), ('를', 'Josa'), ('거치다', 'Verb'), ('제', 'Noun'), ('2', 'Number'), ('차', 'Noun'), ('세계대전', 'Noun'), ('뒤', 'Noun'), ('미국', 'Noun'), ('과', 'Josa'), ('소련', 'Noun'), ('군대', 'Noun'), ('의', 'Josa'), ('한반도', 'Noun'), ('분할', 'Noun'), ('주둔', 'Noun'), ('으로', 'Josa'), ('남북', 'Noun'), ('으로', 'Josa'), ('나뉘다', 'Verb'), ('1948년', 'Number'), ('대한민국', 'Noun'), ('이', 'Josa'), ('수립', 'Noun'), ('되어다', 'Verb')]\n",
            "[('이후', 'Noun'), ('6', 'Number'), ('·', 'Punctuation'), ('25', 'Number'), ('전쟁', 'Noun'), ('이', 'Josa'), ('일어나다', 'Verb'), ('휴전', 'Noun'), ('중', 'Suffix'), ('이며', 'Josa'), (',', 'Punctuation'), ('현재', 'Noun'), ('까지', 'Josa'), ('분단국가', 'Noun'), ('로', 'Josa'), ('남아', 'Noun'), ('있다', 'Adjective')]\n"
          ]
        }
      ]
    },
    {
      "cell_type": "code",
      "source": [
        "!pip install pytagcloud"
      ],
      "metadata": {
        "colab": {
          "base_uri": "https://localhost:8080/"
        },
        "id": "3AFkSPyJHRZu",
        "outputId": "afc28c14-a7cd-481a-9ed7-e922417dd61e"
      },
      "execution_count": null,
      "outputs": [
        {
          "output_type": "stream",
          "name": "stdout",
          "text": [
            "Looking in indexes: https://pypi.org/simple, https://us-python.pkg.dev/colab-wheels/public/simple/\n",
            "Collecting pytagcloud\n",
            "  Downloading pytagcloud-0.3.5.tar.gz (754 kB)\n",
            "\u001b[K     |████████████████████████████████| 754 kB 14.3 MB/s \n",
            "\u001b[?25hBuilding wheels for collected packages: pytagcloud\n",
            "  Building wheel for pytagcloud (setup.py) ... \u001b[?25l\u001b[?25hdone\n",
            "  Created wheel for pytagcloud: filename=pytagcloud-0.3.5-py3-none-any.whl size=759866 sha256=e4830c2e0042047fc00bde0eba40d894ef6cddf9b108ab23ea37505083824d91\n",
            "  Stored in directory: /root/.cache/pip/wheels/fc/fd/aa/86956a295a7c9205bafd518ef4b6d489e51d2d476990c18238\n",
            "Successfully built pytagcloud\n",
            "Installing collected packages: pytagcloud\n",
            "Successfully installed pytagcloud-0.3.5\n"
          ]
        }
      ]
    },
    {
      "cell_type": "code",
      "source": [
        "!pip install pygame"
      ],
      "metadata": {
        "colab": {
          "base_uri": "https://localhost:8080/"
        },
        "id": "66BaYsQSHdai",
        "outputId": "5073419f-e225-4324-8b16-de0510ef4c0b"
      },
      "execution_count": null,
      "outputs": [
        {
          "output_type": "stream",
          "name": "stdout",
          "text": [
            "Looking in indexes: https://pypi.org/simple, https://us-python.pkg.dev/colab-wheels/public/simple/\n",
            "Collecting pygame\n",
            "  Downloading pygame-2.1.2-cp37-cp37m-manylinux_2_17_x86_64.manylinux2014_x86_64.whl (21.8 MB)\n",
            "\u001b[K     |████████████████████████████████| 21.8 MB 1.2 MB/s \n",
            "\u001b[?25hInstalling collected packages: pygame\n",
            "Successfully installed pygame-2.1.2\n"
          ]
        }
      ]
    },
    {
      "cell_type": "code",
      "source": [
        "!pip install simplejson"
      ],
      "metadata": {
        "colab": {
          "base_uri": "https://localhost:8080/"
        },
        "id": "UdRPia9nHjne",
        "outputId": "6faea66c-d5cb-478f-8a50-52765744a320"
      },
      "execution_count": null,
      "outputs": [
        {
          "output_type": "stream",
          "name": "stdout",
          "text": [
            "Looking in indexes: https://pypi.org/simple, https://us-python.pkg.dev/colab-wheels/public/simple/\n",
            "Collecting simplejson\n",
            "  Downloading simplejson-3.17.6-cp37-cp37m-manylinux_2_5_x86_64.manylinux1_x86_64.manylinux_2_12_x86_64.manylinux2010_x86_64.whl (130 kB)\n",
            "\u001b[K     |████████████████████████████████| 130 kB 10.2 MB/s \n",
            "\u001b[?25hInstalling collected packages: simplejson\n",
            "Successfully installed simplejson-3.17.6\n"
          ]
        }
      ]
    },
    {
      "cell_type": "markdown",
      "source": [
        "## 문서 유사도"
      ],
      "metadata": {
        "id": "vxeefw_zI7Kr"
      }
    },
    {
      "cell_type": "markdown",
      "source": [
        "### Jaccard Index"
      ],
      "metadata": {
        "id": "CwRVQOfqKIok"
      }
    },
    {
      "cell_type": "code",
      "source": [
        "def jaccard(str1,str2):\n",
        "    a = set(str1.lower().split())\n",
        "    b = set(str2.lower().split())\n",
        "    c = a.intersection(b)\n",
        "\n",
        "    return float(len(c)/(len(a)+len(b)-len(c)))"
      ],
      "metadata": {
        "id": "YoGn9FxbI8mt"
      },
      "execution_count": null,
      "outputs": []
    },
    {
      "cell_type": "markdown",
      "source": [
        "### nltk.metrics.distance module"
      ],
      "metadata": {
        "id": "JhlZgK90KcpX"
      }
    },
    {
      "cell_type": "code",
      "source": [
        "from nltk.metrics import *\n",
        "edit_distance('rain','shine') # Levenshtein edit-distance\n",
        "\n"
      ],
      "metadata": {
        "colab": {
          "base_uri": "https://localhost:8080/"
        },
        "id": "tGN0iNDvKWaa",
        "outputId": "0b6a3d3b-09c3-43f3-8a28-16a61ad13318"
      },
      "execution_count": null,
      "outputs": [
        {
          "output_type": "execute_result",
          "data": {
            "text/plain": [
              "3"
            ]
          },
          "metadata": {},
          "execution_count": 49
        }
      ]
    },
    {
      "cell_type": "code",
      "source": [
        "s1 = set([1,2,3,4])\n",
        "s2 = set([3,4,5])\n",
        "# print(jaccard(s1,s2))\n",
        "print(jaccard_distance(s1,s2))\n",
        "print(jaccard_distance(set('rain'),set('shine')))"
      ],
      "metadata": {
        "colab": {
          "base_uri": "https://localhost:8080/"
        },
        "id": "zP80f0HrKmYd",
        "outputId": "faeb4ce1-4d34-49e3-ce7c-974f7e85adeb"
      },
      "execution_count": null,
      "outputs": [
        {
          "output_type": "stream",
          "name": "stdout",
          "text": [
            "0.6\n",
            "0.7142857142857143\n"
          ]
        }
      ]
    },
    {
      "cell_type": "code",
      "source": [
        "from konlpy.tag import Okt\n",
        "from sklearn.feature_extraction.text import TfidfVectorizer\n",
        "from sklearn.metrics.pairwise import cosine_similarity\n",
        "import matplotlib.pyplot as plt\n",
        "import numpy as np\n",
        "import seaborn as sns\n",
        "x_data = np.array(['영희가 사랑하는 강아지 백구를 산책시키고 있다.',\n",
        "'철수가 사랑하는 소 누렁이를 운동시키고 있다.',\n",
        "'영희와 철수는 소와 강아지를 산책 및 운동시키고 있다.'])\n",
        "twitter = Okt()\n",
        "for i, document in enumerate(x_data):\n",
        "    nouns = twitter.nouns(document)\n",
        "    x_data[i] = ' '.join(nouns)\n",
        "print(x_data)\n",
        "vect = TfidfVectorizer()\n",
        "x_data = vect.fit_transform(x_data)\n",
        "cosine_similarity_matrix = cosine_similarity(x_data, x_data)\n",
        "print(cosine_similarity_matrix)\n",
        "sns.heatmap(cosine_similarity_matrix, cmap='viridis')\n",
        "plt.show()\n"
      ],
      "metadata": {
        "id": "kRHsvEy8KtfA",
        "colab": {
          "base_uri": "https://localhost:8080/",
          "height": 340
        },
        "outputId": "1a9b9c13-b7f1-4bed-9bc8-1cff0e2f18d0"
      },
      "execution_count": 57,
      "outputs": [
        {
          "output_type": "stream",
          "name": "stdout",
          "text": [
            "['영희 사랑 강아지 백구 산책' '철수 사랑 소 누렁이 운동' '영희 철수 소 강아지 산책 및 운동']\n",
            "[[1.         0.19212486 0.56053185]\n",
            " [0.19212486 1.         0.4113055 ]\n",
            " [0.56053185 0.4113055  1.        ]]\n"
          ]
        },
        {
          "output_type": "display_data",
          "data": {
            "text/plain": [
              "<Figure size 432x288 with 2 Axes>"
            ],
            "image/png": "[encoded data removed]"
          },
          "metadata": {
            "needs_background": "light"
          }
        }
      ]
    },
    {
      "cell_type": "code",
      "source": [],
      "metadata": {
        "id": "9ua24VpYLY8m"
      },
      "execution_count": null,
      "outputs": []
    }
  ]
}