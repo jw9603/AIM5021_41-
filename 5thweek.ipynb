{
  "nbformat": 4,
  "nbformat_minor": 0,
  "metadata": {
    "colab": {
      "provenance": [],
      "collapsed_sections": [],
      "authorship_tag": "ABX9TyM1zTtxsX+ABZAdANaTxf7j",
      "include_colab_link": true
    },
    "kernelspec": {
      "name": "python3",
      "display_name": "Python 3"
    },
    "language_info": {
      "name": "python"
    }
  },
  "cells": [
    {
      "cell_type": "markdown",
      "metadata": {
        "id": "view-in-github",
        "colab_type": "text"
      },
      "source": [
        "<a href=\"https://colab.research.google.com/github/jw9603/AIM5021_41-/blob/main/5thweek.ipynb\" target=\"_parent\"><img src=\"https://colab.research.google.com/assets/colab-badge.svg\" alt=\"Open In Colab\"/></a>"
      ]
    },
    {
      "cell_type": "code",
      "execution_count": null,
      "metadata": {
        "colab": {
          "base_uri": "https://localhost:8080/"
        },
        "id": "iGrDplh1Kial",
        "outputId": "28e66097-c1c8-4844-c891-e1c1f0f766ea"
      },
      "outputs": [
        {
          "output_type": "stream",
          "name": "stdout",
          "text": [
            "Mounted at /content/drive\n"
          ]
        }
      ],
      "source": [
        "from google.colab import drive\n",
        "drive.mount('/content/drive')"
      ]
    },
    {
      "cell_type": "markdown",
      "source": [
        "### TF\n",
        "- Convert a collection of text documents to a matrix of token counts\n",
        "- fit_transform() : builds vocabulary dictionary and returns term-document matrix\n",
        "- transform() : transform documents to document-term matrix"
      ],
      "metadata": {
        "id": "O5OadqQWT_qQ"
      }
    },
    {
      "cell_type": "code",
      "source": [
        "from sklearn.feature_extraction.text import CountVectorizer\n",
        "corpus = [ 'This is the first document.',\n",
        " 'This document is the second document.',\n",
        " 'And this is the third one.',\n",
        " 'Is this the first document?',]\n",
        "vectorizer = CountVectorizer()\n",
        "X = vectorizer.fit_transform(corpus)\n",
        "\n",
        "print(vectorizer.vocabulary_)\n",
        "print(vectorizer.get_feature_names())"
      ],
      "metadata": {
        "colab": {
          "base_uri": "https://localhost:8080/"
        },
        "id": "23rbms7yT-tb",
        "outputId": "9331eb2f-364b-4dfa-f4ee-6b67b0dbcc97"
      },
      "execution_count": null,
      "outputs": [
        {
          "output_type": "stream",
          "name": "stdout",
          "text": [
            "{'this': 8, 'is': 3, 'the': 6, 'first': 2, 'document': 1, 'second': 5, 'and': 0, 'third': 7, 'one': 4}\n",
            "['and', 'document', 'first', 'is', 'one', 'second', 'the', 'third', 'this']\n"
          ]
        },
        {
          "output_type": "stream",
          "name": "stderr",
          "text": [
            "/usr/local/lib/python3.7/dist-packages/sklearn/utils/deprecation.py:87: FutureWarning: Function get_feature_names is deprecated; get_feature_names is deprecated in 1.0 and will be removed in 1.2. Please use get_feature_names_out instead.\n",
            "  warnings.warn(msg, category=FutureWarning)\n"
          ]
        }
      ]
    },
    {
      "cell_type": "code",
      "source": [
        "print(X.toarray())"
      ],
      "metadata": {
        "colab": {
          "base_uri": "https://localhost:8080/"
        },
        "id": "rmb1iLJ9Ukc8",
        "outputId": "caa17b77-db98-4e50-bc80-786c57bb6fe2"
      },
      "execution_count": null,
      "outputs": [
        {
          "output_type": "stream",
          "name": "stdout",
          "text": [
            "[[0 1 1 1 0 0 1 0 1]\n",
            " [0 2 0 1 0 1 1 0 1]\n",
            " [1 0 0 1 1 0 1 1 1]\n",
            " [0 1 1 1 0 0 1 0 1]]\n"
          ]
        }
      ]
    },
    {
      "cell_type": "code",
      "source": [
        "new = vectorizer.transform(['This is new document'])\n",
        "print(new.toarray())"
      ],
      "metadata": {
        "colab": {
          "base_uri": "https://localhost:8080/"
        },
        "id": "8PQQJKwJVMHk",
        "outputId": "95a5b086-f0fc-4741-f0da-97f6c1def003"
      },
      "execution_count": null,
      "outputs": [
        {
          "output_type": "stream",
          "name": "stdout",
          "text": [
            "[[0 1 0 1 0 0 0 0 1]]\n"
          ]
        }
      ]
    },
    {
      "cell_type": "markdown",
      "source": [
        "### TF-IDF"
      ],
      "metadata": {
        "id": "FDcQ3z99aJN_"
      }
    },
    {
      "cell_type": "code",
      "source": [
        "from sklearn.feature_extraction.text import TfidfVectorizer\n",
        "data=['I love you so much',\n",
        "'I love pizza so much',\n",
        "'I miss you I want you',\n",
        "'I want pizza']\n",
        "vectorizer = TfidfVectorizer()\n",
        "vtr_data = vectorizer.fit_transform(data)\n",
        "vtr_data = vtr_data.toarray()\n",
        "featurenames = vectorizer.get_feature_names()\n",
        "print(featurenames)\n",
        "print(vtr_data)"
      ],
      "metadata": {
        "colab": {
          "base_uri": "https://localhost:8080/"
        },
        "id": "eMEUwIQgaKuv",
        "outputId": "ef0c02c3-deca-49b2-c0cd-bbe7c11f3b58"
      },
      "execution_count": null,
      "outputs": [
        {
          "output_type": "stream",
          "name": "stdout",
          "text": [
            "['love', 'miss', 'much', 'pizza', 'so', 'want', 'you']\n",
            "[[0.5        0.         0.5        0.         0.5        0.\n",
            "  0.5       ]\n",
            " [0.5        0.         0.5        0.5        0.5        0.\n",
            "  0.        ]\n",
            " [0.         0.49338588 0.         0.         0.         0.3889911\n",
            "  0.7779822 ]\n",
            " [0.         0.         0.         0.70710678 0.         0.70710678\n",
            "  0.        ]]\n"
          ]
        },
        {
          "output_type": "stream",
          "name": "stderr",
          "text": [
            "/usr/local/lib/python3.7/dist-packages/sklearn/utils/deprecation.py:87: FutureWarning: Function get_feature_names is deprecated; get_feature_names is deprecated in 1.0 and will be removed in 1.2. Please use get_feature_names_out instead.\n",
            "  warnings.warn(msg, category=FutureWarning)\n"
          ]
        }
      ]
    },
    {
      "cell_type": "markdown",
      "source": [
        "### Classification with the scikit-learn package"
      ],
      "metadata": {
        "id": "kkfCtRsMtPso"
      }
    },
    {
      "cell_type": "code",
      "source": [
        "from sklearn.datasets import fetch_20newsgroups\n",
        "from sklearn.feature_extraction.text import TfidfVectorizer\n",
        "\n",
        "categories = ['alt.atheism', 'talk.religion.misc','comp.graphics', 'sci.space']\n",
        "newsgroups_train = fetch_20newsgroups(subset='train', categories=categories)\n",
        "\n",
        "vectorizer = TfidfVectorizer()\n",
        "vectors = vectorizer.fit_transform(newsgroups_train.data)\n",
        "\n",
        "from sklearn.naive_bayes import MultinomialNB\n",
        "from sklearn import metrics\n",
        "\n",
        "newsgroups_test = fetch_20newsgroups(subset='test', categories=categories)\n",
        "vectors_test = vectorizer.transform(newsgroups_test.data)\n",
        "\n",
        "clf = MultinomialNB(alpha=.01)\n",
        "clf.fit(vectors, newsgroups_train.target)\n",
        "\n",
        "pred = clf.predict(vectors_test)\n",
        "metrics.f1_score(newsgroups_test.target, pred, average='macro')"
      ],
      "metadata": {
        "colab": {
          "base_uri": "https://localhost:8080/"
        },
        "id": "wFHohInytO1L",
        "outputId": "0cb1cd79-3c98-40a7-c777-10b5e39786ec"
      },
      "execution_count": 1,
      "outputs": [
        {
          "output_type": "execute_result",
          "data": {
            "text/plain": [
              "0.8821359240272957"
            ]
          },
          "metadata": {},
          "execution_count": 1
        }
      ]
    },
    {
      "cell_type": "code",
      "source": [
        "# remove metadata\n",
        "newsgroups_test = fetch_20newsgroups(subset='test',\n",
        " remove=('headers', 'footers', 'quotes'),\n",
        " categories=categories)\n",
        "\n",
        "vectors_test = vectorizer.transform(newsgroups_test.data)\n",
        "\n",
        "newsgroups_train = fetch_20newsgroups(subset='train',\n",
        " remove=('headers', 'footers', 'quotes'),\n",
        " categories=categories)\n",
        "\n",
        "vectors = vectorizer.fit_transform(newsgroups_train.data)\n",
        "\n",
        "clf = MultinomialNB(alpha=.01)\n",
        "clf.fit(vectors, newsgroups_train.target)\n",
        "\n",
        "vectors_test = vectorizer.transform(newsgroups_test.data)\n",
        "pred = clf.predict(vectors_test)"
      ],
      "metadata": {
        "id": "QxW9-o_dvHnh"
      },
      "execution_count": 4,
      "outputs": []
    },
    {
      "cell_type": "markdown",
      "source": [
        "### Binary Classification using Densely-connected Neural Network\n",
        "- References : https://github.com/fchollet/deep-learning-with-python-notebooks/blob/master/first_edition/3.5-classifying-movie-reviews.ipynb"
      ],
      "metadata": {
        "id": "DbF9LAsK2jya"
      }
    },
    {
      "cell_type": "code",
      "source": [
        "import keras\n",
        "keras.__version__"
      ],
      "metadata": {
        "colab": {
          "base_uri": "https://localhost:8080/",
          "height": 35
        },
        "id": "x1G10GC02fDB",
        "outputId": "e6f23e60-eb04-4b88-bab0-769b3d4ee2c7"
      },
      "execution_count": 6,
      "outputs": [
        {
          "output_type": "execute_result",
          "data": {
            "text/plain": [
              "'2.8.0'"
            ],
            "application/vnd.google.colaboratory.intrinsic+json": {
              "type": "string"
            }
          },
          "metadata": {},
          "execution_count": 6
        }
      ]
    },
    {
      "cell_type": "code",
      "source": [
        "from keras.datasets import imdb\n",
        "(train_data, train_labels), (test_data, test_labels) = imdb.load_data(num_words=10000)"
      ],
      "metadata": {
        "colab": {
          "base_uri": "https://localhost:8080/"
        },
        "id": "WpSs1l0C2yQG",
        "outputId": "0a35f4bd-f5cc-4bac-b05a-3730ada5daac"
      },
      "execution_count": 8,
      "outputs": [
        {
          "output_type": "stream",
          "name": "stdout",
          "text": [
            "Downloading data from https://storage.googleapis.com/tensorflow/tf-keras-datasets/imdb.npz\n",
            "17465344/17464789 [==============================] - 0s 0us/step\n",
            "17473536/17464789 [==============================] - 0s 0us/step\n"
          ]
        }
      ]
    },
    {
      "cell_type": "code",
      "source": [
        "train_data.shape"
      ],
      "metadata": {
        "colab": {
          "base_uri": "https://localhost:8080/"
        },
        "id": "cJzMSB643Jyd",
        "outputId": "e5fb17ad-7896-411a-ce95-bee13cc594ed"
      },
      "execution_count": 9,
      "outputs": [
        {
          "output_type": "execute_result",
          "data": {
            "text/plain": [
              "(25000,)"
            ]
          },
          "metadata": {},
          "execution_count": 9
        }
      ]
    },
    {
      "cell_type": "code",
      "source": [
        "train_labels.shape"
      ],
      "metadata": {
        "colab": {
          "base_uri": "https://localhost:8080/"
        },
        "id": "hqTY16st3SGF",
        "outputId": "68d6a20f-e21c-4a9a-a73e-55df62149236"
      },
      "execution_count": 10,
      "outputs": [
        {
          "output_type": "execute_result",
          "data": {
            "text/plain": [
              "(25000,)"
            ]
          },
          "metadata": {},
          "execution_count": 10
        }
      ]
    },
    {
      "cell_type": "markdown",
      "source": [
        "Since we restricted ourselves to the top 10,000 most frequent words, no word index will exceed 10,000:"
      ],
      "metadata": {
        "id": "bawHTwGO3YQf"
      }
    },
    {
      "cell_type": "code",
      "source": [
        "max([max(sequence) for sequence in train_data])"
      ],
      "metadata": {
        "colab": {
          "base_uri": "https://localhost:8080/"
        },
        "id": "v-pKUGmq3V14",
        "outputId": "ab3d891e-2a89-40e1-b98b-266c9672ccbb"
      },
      "execution_count": 11,
      "outputs": [
        {
          "output_type": "execute_result",
          "data": {
            "text/plain": [
              "9999"
            ]
          },
          "metadata": {},
          "execution_count": 11
        }
      ]
    },
    {
      "cell_type": "markdown",
      "source": [
        "#### Preparing the data"
      ],
      "metadata": {
        "id": "oAHAK08u3hr9"
      }
    },
    {
      "cell_type": "markdown",
      "source": [
        "Vectorization\n",
        "- Use one-hot encoding scheme using the most frequent 10,000 words\n",
        "- For labels, 0 stands for \"negative\" and 1 stands for \"positive\""
      ],
      "metadata": {
        "id": "xk5pjZFb3lPP"
      }
    },
    {
      "cell_type": "code",
      "source": [
        "import numpy as np\n",
        "\n",
        "def vectorize_sequences(sequences, dimension=10000):\n",
        "    # Create an all-zero matrix of shape (len(sequences), dimension)\n",
        "    results = np.zeros((len(sequences), dimension))\n",
        "    for i, sequence in enumerate(sequences):\n",
        "        results[i, sequence] = 1.  # set specific indices of results[i] to 1s\n",
        "    return results\n",
        "\n",
        "# Our vectorized training data\n",
        "x_train = vectorize_sequences(train_data)\n",
        "print('x_train',x_train.shape)\n",
        "# Our vectorized test data\n",
        "x_test = vectorize_sequences(test_data)\n",
        "print('x_test',x_test.shape)"
      ],
      "metadata": {
        "colab": {
          "base_uri": "https://localhost:8080/"
        },
        "id": "_l_MNg-H3dSJ",
        "outputId": "6b750b0d-5c5c-403f-aee4-6539601607df"
      },
      "execution_count": 16,
      "outputs": [
        {
          "output_type": "stream",
          "name": "stdout",
          "text": [
            "x_train (25000, 10000)\n",
            "x_test (25000, 10000)\n"
          ]
        }
      ]
    },
    {
      "cell_type": "code",
      "source": [
        "x_train"
      ],
      "metadata": {
        "colab": {
          "base_uri": "https://localhost:8080/"
        },
        "id": "QUWdPsUN35Iu",
        "outputId": "e6c62547-f158-4674-c0c6-1be89a65d352"
      },
      "execution_count": 17,
      "outputs": [
        {
          "output_type": "execute_result",
          "data": {
            "text/plain": [
              "array([[0., 1., 1., ..., 0., 0., 0.],\n",
              "       [0., 1., 1., ..., 0., 0., 0.],\n",
              "       [0., 1., 1., ..., 0., 0., 0.],\n",
              "       ...,\n",
              "       [0., 1., 1., ..., 0., 0., 0.],\n",
              "       [0., 1., 1., ..., 0., 0., 0.],\n",
              "       [0., 1., 1., ..., 0., 0., 0.]])"
            ]
          },
          "metadata": {},
          "execution_count": 17
        }
      ]
    },
    {
      "cell_type": "markdown",
      "source": [
        "We should also vectorize our labels, which is straightforward:"
      ],
      "metadata": {
        "id": "hY1RCZJ94SHG"
      }
    },
    {
      "cell_type": "code",
      "source": [
        "# Our vectorized labels\n",
        "y_train = np.asarray(train_labels).astype('float32')\n",
        "y_test = np.asarray(test_labels).astype('float32')"
      ],
      "metadata": {
        "id": "YUKOfYva4OpP"
      },
      "execution_count": 18,
      "outputs": []
    },
    {
      "cell_type": "markdown",
      "source": [
        "#### Building our network\n",
        "![image.png](data:image/png;base64,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)"
      ],
      "metadata": {
        "id": "xVh6vgti4Yft"
      }
    },
    {
      "cell_type": "code",
      "source": [
        "from keras import models\n",
        "from keras import layers\n",
        "\n",
        "model = models.Sequential()\n",
        "model.add(layers.Dense(16, activation='relu', input_shape=(10000,)))\n",
        "model.add(layers.Dense(16, activation='relu'))\n",
        "model.add(layers.Dense(1, activation='sigmoid'))"
      ],
      "metadata": {
        "id": "lw-iwVFk4Us5"
      },
      "execution_count": 23,
      "outputs": []
    },
    {
      "cell_type": "code",
      "source": [
        "model.compile(optimizer='rmsprop',\n",
        "              loss='binary_crossentropy',\n",
        "              metrics=['accuracy'])"
      ],
      "metadata": {
        "id": "pp-m8Kj_4fy7"
      },
      "execution_count": 24,
      "outputs": []
    },
    {
      "cell_type": "code",
      "source": [
        "x_val = x_train[:10000]\n",
        "partial_x_train = x_train[10000:]\n",
        "\n",
        "y_val = y_train[:10000]\n",
        "partial_y_train = y_train[10000:]"
      ],
      "metadata": {
        "id": "cAH9aXYj4mT8"
      },
      "execution_count": 25,
      "outputs": []
    },
    {
      "cell_type": "code",
      "source": [
        "history = model.fit(partial_x_train,\n",
        "                    partial_y_train,\n",
        "                    epochs=20,\n",
        "                    batch_size=512,\n",
        "                    validation_data=(x_val, y_val))"
      ],
      "metadata": {
        "colab": {
          "base_uri": "https://localhost:8080/"
        },
        "id": "QMV4jic25y7e",
        "outputId": "61aaeace-a787-4d2f-993d-dd6880348368"
      },
      "execution_count": 26,
      "outputs": [
        {
          "output_type": "stream",
          "name": "stdout",
          "text": [
            "Epoch 1/20\n",
            "30/30 [==============================] - 4s 74ms/step - loss: 0.5088 - accuracy: 0.7920 - val_loss: 0.3863 - val_accuracy: 0.8680\n",
            "Epoch 2/20\n",
            "30/30 [==============================] - 2s 56ms/step - loss: 0.3017 - accuracy: 0.9065 - val_loss: 0.3109 - val_accuracy: 0.8782\n",
            "Epoch 3/20\n",
            "30/30 [==============================] - 2s 59ms/step - loss: 0.2238 - accuracy: 0.9257 - val_loss: 0.3081 - val_accuracy: 0.8768\n",
            "Epoch 4/20\n",
            "30/30 [==============================] - 2s 53ms/step - loss: 0.1769 - accuracy: 0.9430 - val_loss: 0.2773 - val_accuracy: 0.8895\n",
            "Epoch 5/20\n",
            "30/30 [==============================] - 2s 53ms/step - loss: 0.1433 - accuracy: 0.9548 - val_loss: 0.2876 - val_accuracy: 0.8865\n",
            "Epoch 6/20\n",
            "30/30 [==============================] - 2s 67ms/step - loss: 0.1194 - accuracy: 0.9622 - val_loss: 0.3083 - val_accuracy: 0.8808\n",
            "Epoch 7/20\n",
            "30/30 [==============================] - 2s 68ms/step - loss: 0.1011 - accuracy: 0.9697 - val_loss: 0.3071 - val_accuracy: 0.8827\n",
            "Epoch 8/20\n",
            "30/30 [==============================] - 2s 55ms/step - loss: 0.0833 - accuracy: 0.9753 - val_loss: 0.3487 - val_accuracy: 0.8765\n",
            "Epoch 9/20\n",
            "30/30 [==============================] - 2s 52ms/step - loss: 0.0701 - accuracy: 0.9800 - val_loss: 0.3818 - val_accuracy: 0.8713\n",
            "Epoch 10/20\n",
            "30/30 [==============================] - 2s 52ms/step - loss: 0.0570 - accuracy: 0.9863 - val_loss: 0.3733 - val_accuracy: 0.8785\n",
            "Epoch 11/20\n",
            "30/30 [==============================] - 2s 52ms/step - loss: 0.0479 - accuracy: 0.9892 - val_loss: 0.4001 - val_accuracy: 0.8763\n",
            "Epoch 12/20\n",
            "30/30 [==============================] - 2s 52ms/step - loss: 0.0400 - accuracy: 0.9906 - val_loss: 0.4304 - val_accuracy: 0.8749\n",
            "Epoch 13/20\n",
            "30/30 [==============================] - 2s 52ms/step - loss: 0.0327 - accuracy: 0.9929 - val_loss: 0.4726 - val_accuracy: 0.8696\n",
            "Epoch 14/20\n",
            "30/30 [==============================] - 2s 52ms/step - loss: 0.0277 - accuracy: 0.9945 - val_loss: 0.4859 - val_accuracy: 0.8720\n",
            "Epoch 15/20\n",
            "30/30 [==============================] - 2s 52ms/step - loss: 0.0192 - accuracy: 0.9974 - val_loss: 0.5171 - val_accuracy: 0.8706\n",
            "Epoch 16/20\n",
            "30/30 [==============================] - 2s 53ms/step - loss: 0.0160 - accuracy: 0.9979 - val_loss: 0.5559 - val_accuracy: 0.8682\n",
            "Epoch 17/20\n",
            "30/30 [==============================] - 2s 83ms/step - loss: 0.0154 - accuracy: 0.9979 - val_loss: 0.5831 - val_accuracy: 0.8701\n",
            "Epoch 18/20\n",
            "30/30 [==============================] - 2s 58ms/step - loss: 0.0089 - accuracy: 0.9993 - val_loss: 0.7106 - val_accuracy: 0.8550\n",
            "Epoch 19/20\n",
            "30/30 [==============================] - 2s 54ms/step - loss: 0.0075 - accuracy: 0.9997 - val_loss: 0.6541 - val_accuracy: 0.8662\n",
            "Epoch 20/20\n",
            "30/30 [==============================] - 2s 50ms/step - loss: 0.0076 - accuracy: 0.9989 - val_loss: 0.6862 - val_accuracy: 0.8656\n"
          ]
        }
      ]
    },
    {
      "cell_type": "markdown",
      "source": [
        "On CPU, this will take less than two seconds per epoch -- training is over in 20 seconds. At the end of every epoch, there is a slight pause as the model computes its loss and accuracy on the 10,000 samples of the validation data.\n",
        "\n",
        "Note that the call to model.fit() returns a History object. This object has a member history, which is a dictionary containing data about everything that happened during training. Let's take a look at it:"
      ],
      "metadata": {
        "id": "dC2Ryosh589q"
      }
    },
    {
      "cell_type": "code",
      "source": [
        "history_dict = history.history\n",
        "print(history_dict)\n",
        "print(history_dict.keys())"
      ],
      "metadata": {
        "colab": {
          "base_uri": "https://localhost:8080/"
        },
        "id": "M84QTnZk511O",
        "outputId": "5724bbc9-69e1-4bf0-e6c8-46721a55bdd9"
      },
      "execution_count": 28,
      "outputs": [
        {
          "output_type": "stream",
          "name": "stdout",
          "text": [
            "{'loss': [0.5087727904319763, 0.3017129600048065, 0.22376275062561035, 0.17686814069747925, 0.14333006739616394, 0.11943848431110382, 0.10108127444982529, 0.0833091139793396, 0.070144884288311, 0.056997526437044144, 0.047928597778081894, 0.04002467915415764, 0.03271748498082161, 0.027745047584176064, 0.019207697361707687, 0.015999939292669296, 0.015388142317533493, 0.008917487226426601, 0.007488988805562258, 0.007645362988114357], 'accuracy': [0.7919999957084656, 0.9064666628837585, 0.9257333278656006, 0.9430000185966492, 0.954800009727478, 0.9621999859809875, 0.9696666598320007, 0.975266695022583, 0.9800000190734863, 0.9863333106040955, 0.9891999959945679, 0.9905999898910522, 0.9928666949272156, 0.994533360004425, 0.9973999857902527, 0.997866690158844, 0.997866690158844, 0.9993333220481873, 0.999666690826416, 0.9988666772842407], 'val_loss': [0.3863317370414734, 0.310919851064682, 0.3081306517124176, 0.2772948145866394, 0.2876252830028534, 0.30831417441368103, 0.30710017681121826, 0.348667711019516, 0.3818068504333496, 0.3733346462249756, 0.4001128673553467, 0.4304314851760864, 0.47262877225875854, 0.4859449565410614, 0.5170920491218567, 0.5558988451957703, 0.5830883979797363, 0.7106026411056519, 0.6540920734405518, 0.6861726641654968], 'val_accuracy': [0.8679999709129333, 0.8781999945640564, 0.876800000667572, 0.8895000219345093, 0.8865000009536743, 0.8808000087738037, 0.8827000260353088, 0.8765000104904175, 0.8712999820709229, 0.8784999847412109, 0.8762999773025513, 0.8748999834060669, 0.8695999979972839, 0.871999979019165, 0.8705999851226807, 0.8682000041007996, 0.8701000213623047, 0.8550000190734863, 0.8661999702453613, 0.8655999898910522]}\n",
            "dict_keys(['loss', 'accuracy', 'val_loss', 'val_accuracy'])\n"
          ]
        }
      ]
    },
    {
      "cell_type": "code",
      "source": [
        "import matplotlib.pyplot as plt\n",
        "\n",
        "acc = history.history['accuracy']\n",
        "val_acc = history.history['val_accuracy']\n",
        "loss = history.history['loss']\n",
        "val_loss = history.history['val_loss']\n",
        "\n",
        "epochs = range(1, len(acc) + 1)\n",
        "\n",
        "# \"bo\" is for \"blue dot\"\n",
        "plt.plot(epochs, loss, 'bo', label='Training loss')\n",
        "# b is for \"solid blue line\"\n",
        "plt.plot(epochs, val_loss, 'b', label='Validation loss')\n",
        "plt.title('Training and validation loss')\n",
        "plt.xlabel('Epochs')\n",
        "plt.ylabel('Loss')\n",
        "plt.legend()\n",
        "\n",
        "plt.show()"
      ],
      "metadata": {
        "colab": {
          "base_uri": "https://localhost:8080/",
          "height": 295
        },
        "id": "VClEAlzf6J4-",
        "outputId": "61ec5da2-6caf-469b-ca4e-78b2ee20af3d"
      },
      "execution_count": 30,
      "outputs": [
        {
          "output_type": "display_data",
          "data": {
            "text/plain": [
              "<Figure size 432x288 with 1 Axes>"
            ],
            "image/png": "[encoded data removed]"
          },
          "metadata": {
            "needs_background": "light"
          }
        }
      ]
    },
    {
      "cell_type": "code",
      "source": [
        "plt.clf()   # clear figure\n",
        "acc_values = history_dict['accuracy']\n",
        "val_acc_values = history_dict['val_accuracy']\n",
        "\n",
        "plt.plot(epochs, acc, 'bo', label='Training acc')\n",
        "plt.plot(epochs, val_acc, 'b', label='Validation acc')\n",
        "plt.title('Training and validation accuracy')\n",
        "plt.xlabel('Epochs')\n",
        "plt.ylabel('Loss')\n",
        "plt.legend()\n",
        "\n",
        "plt.show()"
      ],
      "metadata": {
        "colab": {
          "base_uri": "https://localhost:8080/",
          "height": 295
        },
        "id": "LWYrw_lE6RSV",
        "outputId": "223f7770-8563-4df3-eb81-f05b26d02d7f"
      },
      "execution_count": 31,
      "outputs": [
        {
          "output_type": "display_data",
          "data": {
            "text/plain": [
              "<Figure size 432x288 with 1 Axes>"
            ],
            "image/png": "[encoded data removed]"
          },
          "metadata": {
            "needs_background": "light"
          }
        }
      ]
    },
    {
      "cell_type": "code",
      "source": [
        "model = models.Sequential()\n",
        "model.add(layers.Dense(16, activation='relu', input_shape=(10000,)))\n",
        "model.add(layers.Dense(16, activation='relu'))\n",
        "model.add(layers.Dense(1, activation='sigmoid'))\n",
        "\n",
        "model.compile(optimizer='rmsprop',\n",
        "              loss='binary_crossentropy',\n",
        "              metrics=['accuracy'])\n",
        "\n",
        "model.fit(x_train, y_train, epochs=4, batch_size=512)\n",
        "results = model.evaluate(x_test, y_test)\n"
      ],
      "metadata": {
        "colab": {
          "base_uri": "https://localhost:8080/"
        },
        "id": "LtU6mmB46fpA",
        "outputId": "c94af617-f430-41d3-c1cd-d930de58c543"
      },
      "execution_count": 32,
      "outputs": [
        {
          "output_type": "stream",
          "name": "stdout",
          "text": [
            "Epoch 1/4\n",
            "49/49 [==============================] - 3s 49ms/step - loss: 0.4547 - accuracy: 0.8237\n",
            "Epoch 2/4\n",
            "49/49 [==============================] - 2s 36ms/step - loss: 0.2585 - accuracy: 0.9091\n",
            "Epoch 3/4\n",
            "49/49 [==============================] - 2s 41ms/step - loss: 0.1975 - accuracy: 0.9304\n",
            "Epoch 4/4\n",
            "49/49 [==============================] - 2s 42ms/step - loss: 0.1676 - accuracy: 0.9401\n",
            "782/782 [==============================] - 2s 2ms/step - loss: 0.3080 - accuracy: 0.8783\n"
          ]
        }
      ]
    },
    {
      "cell_type": "code",
      "source": [
        "results"
      ],
      "metadata": {
        "colab": {
          "base_uri": "https://localhost:8080/"
        },
        "id": "tiJr3Rl56vkv",
        "outputId": "1dc753e8-aa25-4d49-ad10-7513b4cd84f5"
      },
      "execution_count": 33,
      "outputs": [
        {
          "output_type": "execute_result",
          "data": {
            "text/plain": [
              "[0.3079744577407837, 0.878279983997345]"
            ]
          },
          "metadata": {},
          "execution_count": 33
        }
      ]
    },
    {
      "cell_type": "code",
      "source": [
        "x_test.shape"
      ],
      "metadata": {
        "colab": {
          "base_uri": "https://localhost:8080/"
        },
        "id": "plhPvJQG60k8",
        "outputId": "cf4c1a6e-0705-438c-e8e1-f6c543672ba2"
      },
      "execution_count": 35,
      "outputs": [
        {
          "output_type": "execute_result",
          "data": {
            "text/plain": [
              "(25000, 10000)"
            ]
          },
          "metadata": {},
          "execution_count": 35
        }
      ]
    },
    {
      "cell_type": "code",
      "source": [
        "model.predict(x_test)"
      ],
      "metadata": {
        "colab": {
          "base_uri": "https://localhost:8080/"
        },
        "id": "nVgOhLU46wBX",
        "outputId": "1e168adc-af65-4652-d66f-c3946d587220"
      },
      "execution_count": 34,
      "outputs": [
        {
          "output_type": "execute_result",
          "data": {
            "text/plain": [
              "array([[0.16953054],\n",
              "       [0.99982166],\n",
              "       [0.76939344],\n",
              "       ...,\n",
              "       [0.08881819],\n",
              "       [0.03477752],\n",
              "       [0.39252725]], dtype=float32)"
            ]
          },
          "metadata": {},
          "execution_count": 34
        }
      ]
    }
  ]
}